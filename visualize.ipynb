{
 "cells": [
  {
   "cell_type": "markdown",
   "metadata": {},
   "source": [
    "# Visualization: Trading Session"
   ]
  },
  {
   "cell_type": "code",
   "execution_count": 4,
   "metadata": {},
   "outputs": [],
   "source": [
    "import pandas as pd\n",
    "import numpy as np\n",
    "\n",
    "import altair as alt\n",
    "import seaborn as sns"
   ]
  },
  {
   "cell_type": "markdown",
   "metadata": {},
   "source": [
    "### 1. Define parameters and Load model"
   ]
  },
  {
   "cell_type": "code",
   "execution_count": 17,
   "metadata": {},
   "outputs": [
    {
     "name": "stderr",
     "output_type": "stream",
     "text": [
      "\u001b[32m2024-02-18 20:55:56\u001b[0m \u001b[35mDESKTOP-RNQKCRT\u001b[0m \u001b[34mabsl[2564]\u001b[0m \u001b[1;30mWARNING\u001b[0m \u001b[33m`lr` is deprecated in Keras optimizer, please use `learning_rate` or use the legacy optimizer, e.g.,tf.keras.optimizers.legacy.Adam.\u001b[0m\n"
     ]
    }
   ],
   "source": [
    "from trading_bot.agent import Agent\n",
    "\n",
    "model_name = 'model_double-dqn_GOOG_50'\n",
    "test_stock = 'data/GOOG_2019.csv'\n",
    "window_size = 10\n",
    "debug = True\n",
    "\n",
    "agent = Agent(window_size, pretrained=True, model_name=model_name)"
   ]
  },
  {
   "cell_type": "markdown",
   "metadata": {},
   "source": [
    "### 2. Load test data"
   ]
  },
  {
   "cell_type": "code",
   "execution_count": 18,
   "metadata": {},
   "outputs": [
    {
     "name": "stderr",
     "output_type": "stream",
     "text": [
      "C:\\Users\\theal\\AppData\\Local\\Temp\\ipykernel_2564\\308547104.py:9: UserWarning: The argument 'infer_datetime_format' is deprecated and will be removed in a future version. A strict version of it is now the default, see https://pandas.pydata.org/pdeps/0004-consistent-to-datetime-parsing.html. You can safely remove this argument.\n",
      "  dates = pd.to_datetime(dates, infer_datetime_format=True)\n"
     ]
    },
    {
     "data": {
      "text/html": [
       "<div>\n",
       "<style scoped>\n",
       "    .dataframe tbody tr th:only-of-type {\n",
       "        vertical-align: middle;\n",
       "    }\n",
       "\n",
       "    .dataframe tbody tr th {\n",
       "        vertical-align: top;\n",
       "    }\n",
       "\n",
       "    .dataframe thead th {\n",
       "        text-align: right;\n",
       "    }\n",
       "</style>\n",
       "<table border=\"1\" class=\"dataframe\">\n",
       "  <thead>\n",
       "    <tr style=\"text-align: right;\">\n",
       "      <th></th>\n",
       "      <th>date</th>\n",
       "      <th>actual</th>\n",
       "    </tr>\n",
       "  </thead>\n",
       "  <tbody>\n",
       "    <tr>\n",
       "      <th>0</th>\n",
       "      <td>2019-01-02</td>\n",
       "      <td>1045.849976</td>\n",
       "    </tr>\n",
       "    <tr>\n",
       "      <th>1</th>\n",
       "      <td>2019-01-03</td>\n",
       "      <td>1016.059998</td>\n",
       "    </tr>\n",
       "    <tr>\n",
       "      <th>2</th>\n",
       "      <td>2019-01-04</td>\n",
       "      <td>1070.709961</td>\n",
       "    </tr>\n",
       "    <tr>\n",
       "      <th>3</th>\n",
       "      <td>2019-01-07</td>\n",
       "      <td>1068.390015</td>\n",
       "    </tr>\n",
       "    <tr>\n",
       "      <th>4</th>\n",
       "      <td>2019-01-08</td>\n",
       "      <td>1076.280029</td>\n",
       "    </tr>\n",
       "  </tbody>\n",
       "</table>\n",
       "</div>"
      ],
      "text/plain": [
       "        date       actual\n",
       "0 2019-01-02  1045.849976\n",
       "1 2019-01-03  1016.059998\n",
       "2 2019-01-04  1070.709961\n",
       "3 2019-01-07  1068.390015\n",
       "4 2019-01-08  1076.280029"
      ]
     },
     "execution_count": 18,
     "metadata": {},
     "output_type": "execute_result"
    }
   ],
   "source": [
    "# read csv into dataframe\n",
    "df = pd.read_csv(test_stock)\n",
    "# filter out the desired features\n",
    "df = df[['Date', 'Adj Close']]\n",
    "# rename feature column names\n",
    "df = df.rename(columns={'Adj Close': 'actual', 'Date': 'date'})\n",
    "# convert dates from object to DateTime type\n",
    "dates = df['date']\n",
    "dates = pd.to_datetime(dates, infer_datetime_format=True)\n",
    "df['date'] = dates\n",
    "\n",
    "df.head()"
   ]
  },
  {
   "cell_type": "markdown",
   "metadata": {},
   "source": [
    "### 3. Running Eval"
   ]
  },
  {
   "cell_type": "code",
   "execution_count": 19,
   "metadata": {},
   "outputs": [
    {
     "name": "stderr",
     "output_type": "stream",
     "text": [
      "\u001b[32m2024-02-18 20:56:02\u001b[0m \u001b[35mDESKTOP-RNQKCRT\u001b[0m \u001b[34mroot[2564]\u001b[0m \u001b[1;30mDEBUG\u001b[0m \u001b[32mswitching to TensorFlow for CPU\u001b[0m\n",
      "\u001b[32m2024-02-18 20:56:02\u001b[0m \u001b[35mDESKTOP-RNQKCRT\u001b[0m \u001b[34mroot[2564]\u001b[0m \u001b[1;30mDEBUG\u001b[0m \u001b[32mBuy at: $1045.85\u001b[0m\n"
     ]
    },
    {
     "name": "stdout",
     "output_type": "stream",
     "text": [
      "1/1 [==============================] - 0s 120ms/step\n"
     ]
    },
    {
     "name": "stderr",
     "output_type": "stream",
     "text": [
      "\u001b[32m2024-02-18 20:56:02\u001b[0m \u001b[35mDESKTOP-RNQKCRT\u001b[0m \u001b[34mroot[2564]\u001b[0m \u001b[1;30mDEBUG\u001b[0m \u001b[32mBuy at: $1016.06\u001b[0m\n"
     ]
    },
    {
     "name": "stdout",
     "output_type": "stream",
     "text": [
      "1/1 [==============================] - 0s 25ms/step\n"
     ]
    },
    {
     "name": "stderr",
     "output_type": "stream",
     "text": [
      "\u001b[32m2024-02-18 20:56:02\u001b[0m \u001b[35mDESKTOP-RNQKCRT\u001b[0m \u001b[34mroot[2564]\u001b[0m \u001b[1;30mDEBUG\u001b[0m \u001b[32mBuy at: $1070.71\u001b[0m\n"
     ]
    },
    {
     "name": "stdout",
     "output_type": "stream",
     "text": [
      "1/1 [==============================] - 0s 26ms/step\n"
     ]
    },
    {
     "name": "stderr",
     "output_type": "stream",
     "text": [
      "\u001b[32m2024-02-18 20:56:03\u001b[0m \u001b[35mDESKTOP-RNQKCRT\u001b[0m \u001b[34mroot[2564]\u001b[0m \u001b[1;30mDEBUG\u001b[0m \u001b[32mBuy at: $1068.39\u001b[0m\n"
     ]
    },
    {
     "name": "stdout",
     "output_type": "stream",
     "text": [
      "1/1 [==============================] - 0s 24ms/step\n"
     ]
    },
    {
     "name": "stderr",
     "output_type": "stream",
     "text": [
      "\u001b[32m2024-02-18 20:56:03\u001b[0m \u001b[35mDESKTOP-RNQKCRT\u001b[0m \u001b[34mroot[2564]\u001b[0m \u001b[1;30mDEBUG\u001b[0m \u001b[32mBuy at: $1076.28\u001b[0m\n"
     ]
    },
    {
     "name": "stdout",
     "output_type": "stream",
     "text": [
      "1/1 [==============================] - 0s 26ms/step\n"
     ]
    },
    {
     "name": "stderr",
     "output_type": "stream",
     "text": [
      "\u001b[32m2024-02-18 20:56:03\u001b[0m \u001b[35mDESKTOP-RNQKCRT\u001b[0m \u001b[34mroot[2564]\u001b[0m \u001b[1;30mDEBUG\u001b[0m \u001b[32mBuy at: $1074.66\u001b[0m\n"
     ]
    },
    {
     "name": "stdout",
     "output_type": "stream",
     "text": [
      "1/1 [==============================] - 0s 26ms/step\n"
     ]
    },
    {
     "name": "stderr",
     "output_type": "stream",
     "text": [
      "\u001b[32m2024-02-18 20:56:03\u001b[0m \u001b[35mDESKTOP-RNQKCRT\u001b[0m \u001b[34mroot[2564]\u001b[0m \u001b[1;30mDEBUG\u001b[0m \u001b[32mBuy at: $1070.33\u001b[0m\n"
     ]
    },
    {
     "name": "stdout",
     "output_type": "stream",
     "text": [
      "1/1 [==============================] - 0s 30ms/step\n"
     ]
    },
    {
     "name": "stderr",
     "output_type": "stream",
     "text": [
      "\u001b[32m2024-02-18 20:56:03\u001b[0m \u001b[35mDESKTOP-RNQKCRT\u001b[0m \u001b[34mroot[2564]\u001b[0m \u001b[1;30mDEBUG\u001b[0m \u001b[32mBuy at: $1057.19\u001b[0m\n"
     ]
    },
    {
     "name": "stdout",
     "output_type": "stream",
     "text": [
      "1/1 [==============================] - 0s 27ms/step\n",
      "1/1 [==============================] - 0s 28ms/step\n"
     ]
    },
    {
     "name": "stderr",
     "output_type": "stream",
     "text": [
      "\u001b[32m2024-02-18 20:56:03\u001b[0m \u001b[35mDESKTOP-RNQKCRT\u001b[0m \u001b[34mroot[2564]\u001b[0m \u001b[1;30mDEBUG\u001b[0m \u001b[32mBuy at: $1077.15\u001b[0m\n"
     ]
    },
    {
     "name": "stdout",
     "output_type": "stream",
     "text": [
      "1/1 [==============================] - 0s 28ms/step\n"
     ]
    },
    {
     "name": "stderr",
     "output_type": "stream",
     "text": [
      "\u001b[32m2024-02-18 20:56:03\u001b[0m \u001b[35mDESKTOP-RNQKCRT\u001b[0m \u001b[34mroot[2564]\u001b[0m \u001b[1;30mDEBUG\u001b[0m \u001b[32mBuy at: $1080.97\u001b[0m\n"
     ]
    },
    {
     "name": "stdout",
     "output_type": "stream",
     "text": [
      "1/1 [==============================] - 0s 35ms/step\n"
     ]
    },
    {
     "name": "stderr",
     "output_type": "stream",
     "text": [
      "\u001b[32m2024-02-18 20:56:03\u001b[0m \u001b[35mDESKTOP-RNQKCRT\u001b[0m \u001b[34mroot[2564]\u001b[0m \u001b[1;30mDEBUG\u001b[0m \u001b[32mBuy at: $1089.90\u001b[0m\n"
     ]
    },
    {
     "name": "stdout",
     "output_type": "stream",
     "text": [
      "1/1 [==============================] - 0s 33ms/step\n"
     ]
    },
    {
     "name": "stderr",
     "output_type": "stream",
     "text": [
      "\u001b[32m2024-02-18 20:56:03\u001b[0m \u001b[35mDESKTOP-RNQKCRT\u001b[0m \u001b[34mroot[2564]\u001b[0m \u001b[1;30mDEBUG\u001b[0m \u001b[32mSell at: $1098.26 | Position: +$52.41\u001b[0m\n"
     ]
    },
    {
     "name": "stdout",
     "output_type": "stream",
     "text": [
      "1/1 [==============================] - 0s 26ms/step\n"
     ]
    },
    {
     "name": "stderr",
     "output_type": "stream",
     "text": [
      "\u001b[32m2024-02-18 20:56:03\u001b[0m \u001b[35mDESKTOP-RNQKCRT\u001b[0m \u001b[34mroot[2564]\u001b[0m \u001b[1;30mDEBUG\u001b[0m \u001b[32mBuy at: $1070.52\u001b[0m\n"
     ]
    },
    {
     "name": "stdout",
     "output_type": "stream",
     "text": [
      "1/1 [==============================] - 0s 24ms/step\n"
     ]
    },
    {
     "name": "stderr",
     "output_type": "stream",
     "text": [
      "\u001b[32m2024-02-18 20:56:03\u001b[0m \u001b[35mDESKTOP-RNQKCRT\u001b[0m \u001b[34mroot[2564]\u001b[0m \u001b[1;30mDEBUG\u001b[0m \u001b[32mSell at: $1075.57 | Position: +$59.51\u001b[0m\n"
     ]
    },
    {
     "name": "stdout",
     "output_type": "stream",
     "text": [
      "1/1 [==============================] - 0s 26ms/step\n"
     ]
    },
    {
     "name": "stderr",
     "output_type": "stream",
     "text": [
      "\u001b[32m2024-02-18 20:56:04\u001b[0m \u001b[35mDESKTOP-RNQKCRT\u001b[0m \u001b[34mroot[2564]\u001b[0m \u001b[1;30mDEBUG\u001b[0m \u001b[32mSell at: $1073.90 | Position: +$3.19\u001b[0m\n"
     ]
    },
    {
     "name": "stdout",
     "output_type": "stream",
     "text": [
      "1/1 [==============================] - 0s 25ms/step\n"
     ]
    },
    {
     "name": "stderr",
     "output_type": "stream",
     "text": [
      "\u001b[32m2024-02-18 20:56:04\u001b[0m \u001b[35mDESKTOP-RNQKCRT\u001b[0m \u001b[34mroot[2564]\u001b[0m \u001b[1;30mDEBUG\u001b[0m \u001b[32mSell at: $1090.99 | Position: +$22.60\u001b[0m\n"
     ]
    },
    {
     "name": "stdout",
     "output_type": "stream",
     "text": [
      "1/1 [==============================] - 0s 24ms/step\n"
     ]
    },
    {
     "name": "stderr",
     "output_type": "stream",
     "text": [
      "\u001b[32m2024-02-18 20:56:04\u001b[0m \u001b[35mDESKTOP-RNQKCRT\u001b[0m \u001b[34mroot[2564]\u001b[0m \u001b[1;30mDEBUG\u001b[0m \u001b[32mBuy at: $1070.08\u001b[0m\n"
     ]
    },
    {
     "name": "stdout",
     "output_type": "stream",
     "text": [
      "1/1 [==============================] - 0s 23ms/step\n"
     ]
    },
    {
     "name": "stderr",
     "output_type": "stream",
     "text": [
      "\u001b[32m2024-02-18 20:56:04\u001b[0m \u001b[35mDESKTOP-RNQKCRT\u001b[0m \u001b[34mroot[2564]\u001b[0m \u001b[1;30mDEBUG\u001b[0m \u001b[32mBuy at: $1060.62\u001b[0m\n"
     ]
    },
    {
     "name": "stdout",
     "output_type": "stream",
     "text": [
      "1/1 [==============================] - 0s 29ms/step\n"
     ]
    },
    {
     "name": "stderr",
     "output_type": "stream",
     "text": [
      "\u001b[32m2024-02-18 20:56:04\u001b[0m \u001b[35mDESKTOP-RNQKCRT\u001b[0m \u001b[34mroot[2564]\u001b[0m \u001b[1;30mDEBUG\u001b[0m \u001b[32mSell at: $1089.06 | Position: +$12.78\u001b[0m\n"
     ]
    },
    {
     "name": "stdout",
     "output_type": "stream",
     "text": [
      "1/1 [==============================] - 0s 25ms/step\n"
     ]
    },
    {
     "name": "stderr",
     "output_type": "stream",
     "text": [
      "\u001b[32m2024-02-18 20:56:04\u001b[0m \u001b[35mDESKTOP-RNQKCRT\u001b[0m \u001b[34mroot[2564]\u001b[0m \u001b[1;30mDEBUG\u001b[0m \u001b[32mBuy at: $1116.37\u001b[0m\n"
     ]
    },
    {
     "name": "stdout",
     "output_type": "stream",
     "text": [
      "1/1 [==============================] - 0s 25ms/step\n"
     ]
    },
    {
     "name": "stderr",
     "output_type": "stream",
     "text": [
      "\u001b[32m2024-02-18 20:56:04\u001b[0m \u001b[35mDESKTOP-RNQKCRT\u001b[0m \u001b[34mroot[2564]\u001b[0m \u001b[1;30mDEBUG\u001b[0m \u001b[32mBuy at: $1110.75\u001b[0m\n"
     ]
    },
    {
     "name": "stdout",
     "output_type": "stream",
     "text": [
      "1/1 [==============================] - 0s 24ms/step\n"
     ]
    },
    {
     "name": "stderr",
     "output_type": "stream",
     "text": [
      "\u001b[32m2024-02-18 20:56:04\u001b[0m \u001b[35mDESKTOP-RNQKCRT\u001b[0m \u001b[34mroot[2564]\u001b[0m \u001b[1;30mDEBUG\u001b[0m \u001b[32mSell at: $1132.80 | Position: +$58.14\u001b[0m\n"
     ]
    },
    {
     "name": "stdout",
     "output_type": "stream",
     "text": [
      "1/1 [==============================] - 0s 25ms/step\n"
     ]
    },
    {
     "name": "stderr",
     "output_type": "stream",
     "text": [
      "\u001b[32m2024-02-18 20:56:04\u001b[0m \u001b[35mDESKTOP-RNQKCRT\u001b[0m \u001b[34mroot[2564]\u001b[0m \u001b[1;30mDEBUG\u001b[0m \u001b[32mSell at: $1145.99 | Position: +$75.66\u001b[0m\n"
     ]
    },
    {
     "name": "stdout",
     "output_type": "stream",
     "text": [
      "1/1 [==============================] - 0s 25ms/step\n",
      "1/1 [==============================] - 0s 23ms/step\n"
     ]
    },
    {
     "name": "stderr",
     "output_type": "stream",
     "text": [
      "\u001b[32m2024-02-18 20:56:04\u001b[0m \u001b[35mDESKTOP-RNQKCRT\u001b[0m \u001b[34mroot[2564]\u001b[0m \u001b[1;30mDEBUG\u001b[0m \u001b[32mSell at: $1098.71 | Position: +$41.52\u001b[0m\n"
     ]
    },
    {
     "name": "stdout",
     "output_type": "stream",
     "text": [
      "1/1 [==============================] - 0s 28ms/step\n"
     ]
    },
    {
     "name": "stderr",
     "output_type": "stream",
     "text": [
      "\u001b[32m2024-02-18 20:56:04\u001b[0m \u001b[35mDESKTOP-RNQKCRT\u001b[0m \u001b[34mroot[2564]\u001b[0m \u001b[1;30mDEBUG\u001b[0m \u001b[32mBuy at: $1095.06\u001b[0m\n"
     ]
    },
    {
     "name": "stdout",
     "output_type": "stream",
     "text": [
      "1/1 [==============================] - 0s 24ms/step\n"
     ]
    },
    {
     "name": "stderr",
     "output_type": "stream",
     "text": [
      "\u001b[32m2024-02-18 20:56:05\u001b[0m \u001b[35mDESKTOP-RNQKCRT\u001b[0m \u001b[34mroot[2564]\u001b[0m \u001b[1;30mDEBUG\u001b[0m \u001b[32mSell at: $1095.01 | Position: +$17.86\u001b[0m\n"
     ]
    },
    {
     "name": "stdout",
     "output_type": "stream",
     "text": [
      "1/1 [==============================] - 0s 22ms/step\n"
     ]
    },
    {
     "name": "stderr",
     "output_type": "stream",
     "text": [
      "\u001b[32m2024-02-18 20:56:05\u001b[0m \u001b[35mDESKTOP-RNQKCRT\u001b[0m \u001b[34mroot[2564]\u001b[0m \u001b[1;30mDEBUG\u001b[0m \u001b[32mSell at: $1121.37 | Position: +$40.40\u001b[0m\n"
     ]
    },
    {
     "name": "stdout",
     "output_type": "stream",
     "text": [
      "1/1 [==============================] - 0s 24ms/step\n",
      "1/1 [==============================] - 0s 25ms/step\n"
     ]
    },
    {
     "name": "stderr",
     "output_type": "stream",
     "text": [
      "\u001b[32m2024-02-18 20:56:05\u001b[0m \u001b[35mDESKTOP-RNQKCRT\u001b[0m \u001b[34mroot[2564]\u001b[0m \u001b[1;30mDEBUG\u001b[0m \u001b[32mBuy at: $1121.67\u001b[0m\n"
     ]
    },
    {
     "name": "stdout",
     "output_type": "stream",
     "text": [
      "1/1 [==============================] - 0s 23ms/step\n"
     ]
    },
    {
     "name": "stderr",
     "output_type": "stream",
     "text": [
      "\u001b[32m2024-02-18 20:56:05\u001b[0m \u001b[35mDESKTOP-RNQKCRT\u001b[0m \u001b[34mroot[2564]\u001b[0m \u001b[1;30mDEBUG\u001b[0m \u001b[32mBuy at: $1113.65\u001b[0m\n"
     ]
    },
    {
     "name": "stdout",
     "output_type": "stream",
     "text": [
      "1/1 [==============================] - 0s 23ms/step\n",
      "1/1 [==============================] - 0s 23ms/step\n"
     ]
    },
    {
     "name": "stderr",
     "output_type": "stream",
     "text": [
      "\u001b[32m2024-02-18 20:56:05\u001b[0m \u001b[35mDESKTOP-RNQKCRT\u001b[0m \u001b[34mroot[2564]\u001b[0m \u001b[1;30mDEBUG\u001b[0m \u001b[32mBuy at: $1113.80\u001b[0m\n"
     ]
    },
    {
     "name": "stdout",
     "output_type": "stream",
     "text": [
      "1/1 [==============================] - 0s 25ms/step\n"
     ]
    },
    {
     "name": "stderr",
     "output_type": "stream",
     "text": [
      "\u001b[32m2024-02-18 20:56:05\u001b[0m \u001b[35mDESKTOP-RNQKCRT\u001b[0m \u001b[34mroot[2564]\u001b[0m \u001b[1;30mDEBUG\u001b[0m \u001b[32mBuy at: $1096.97\u001b[0m\n"
     ]
    },
    {
     "name": "stdout",
     "output_type": "stream",
     "text": [
      "1/1 [==============================] - 0s 26ms/step\n"
     ]
    },
    {
     "name": "stderr",
     "output_type": "stream",
     "text": [
      "\u001b[32m2024-02-18 20:56:05\u001b[0m \u001b[35mDESKTOP-RNQKCRT\u001b[0m \u001b[34mroot[2564]\u001b[0m \u001b[1;30mDEBUG\u001b[0m \u001b[32mBuy at: $1110.37\u001b[0m\n"
     ]
    },
    {
     "name": "stdout",
     "output_type": "stream",
     "text": [
      "1/1 [==============================] - 0s 25ms/step\n"
     ]
    },
    {
     "name": "stderr",
     "output_type": "stream",
     "text": [
      "\u001b[32m2024-02-18 20:56:05\u001b[0m \u001b[35mDESKTOP-RNQKCRT\u001b[0m \u001b[34mroot[2564]\u001b[0m \u001b[1;30mDEBUG\u001b[0m \u001b[32mBuy at: $1109.40\u001b[0m\n"
     ]
    },
    {
     "name": "stdout",
     "output_type": "stream",
     "text": [
      "1/1 [==============================] - 0s 25ms/step\n"
     ]
    },
    {
     "name": "stderr",
     "output_type": "stream",
     "text": [
      "\u001b[32m2024-02-18 20:56:05\u001b[0m \u001b[35mDESKTOP-RNQKCRT\u001b[0m \u001b[34mroot[2564]\u001b[0m \u001b[1;30mDEBUG\u001b[0m \u001b[32mSell at: $1115.13 | Position: +$25.23\u001b[0m\n"
     ]
    },
    {
     "name": "stdout",
     "output_type": "stream",
     "text": [
      "1/1 [==============================] - 0s 25ms/step\n"
     ]
    },
    {
     "name": "stderr",
     "output_type": "stream",
     "text": [
      "\u001b[32m2024-02-18 20:56:05\u001b[0m \u001b[35mDESKTOP-RNQKCRT\u001b[0m \u001b[34mroot[2564]\u001b[0m \u001b[1;30mDEBUG\u001b[0m \u001b[32mSell at: $1116.05 | Position: +$45.53\u001b[0m\n"
     ]
    },
    {
     "name": "stdout",
     "output_type": "stream",
     "text": [
      "1/1 [==============================] - 0s 24ms/step\n"
     ]
    },
    {
     "name": "stderr",
     "output_type": "stream",
     "text": [
      "\u001b[32m2024-02-18 20:56:05\u001b[0m \u001b[35mDESKTOP-RNQKCRT\u001b[0m \u001b[34mroot[2564]\u001b[0m \u001b[1;30mDEBUG\u001b[0m \u001b[32mSell at: $1119.92 | Position: +$49.84\u001b[0m\n"
     ]
    },
    {
     "name": "stdout",
     "output_type": "stream",
     "text": [
      "1/1 [==============================] - 0s 28ms/step\n"
     ]
    },
    {
     "name": "stderr",
     "output_type": "stream",
     "text": [
      "\u001b[32m2024-02-18 20:56:05\u001b[0m \u001b[35mDESKTOP-RNQKCRT\u001b[0m \u001b[34mroot[2564]\u001b[0m \u001b[1;30mDEBUG\u001b[0m \u001b[32mSell at: $1140.99 | Position: +$80.37\u001b[0m\n"
     ]
    },
    {
     "name": "stdout",
     "output_type": "stream",
     "text": [
      "1/1 [==============================] - 0s 32ms/step\n"
     ]
    },
    {
     "name": "stderr",
     "output_type": "stream",
     "text": [
      "\u001b[32m2024-02-18 20:56:06\u001b[0m \u001b[35mDESKTOP-RNQKCRT\u001b[0m \u001b[34mroot[2564]\u001b[0m \u001b[1;30mDEBUG\u001b[0m \u001b[32mSell at: $1147.80 | Position: +$31.43\u001b[0m\n"
     ]
    },
    {
     "name": "stdout",
     "output_type": "stream",
     "text": [
      "1/1 [==============================] - 0s 23ms/step\n"
     ]
    },
    {
     "name": "stderr",
     "output_type": "stream",
     "text": [
      "\u001b[32m2024-02-18 20:56:06\u001b[0m \u001b[35mDESKTOP-RNQKCRT\u001b[0m \u001b[34mroot[2564]\u001b[0m \u001b[1;30mDEBUG\u001b[0m \u001b[32mSell at: $1162.03 | Position: +$51.28\u001b[0m\n"
     ]
    },
    {
     "name": "stdout",
     "output_type": "stream",
     "text": [
      "1/1 [==============================] - 0s 24ms/step\n"
     ]
    },
    {
     "name": "stderr",
     "output_type": "stream",
     "text": [
      "\u001b[32m2024-02-18 20:56:06\u001b[0m \u001b[35mDESKTOP-RNQKCRT\u001b[0m \u001b[34mroot[2564]\u001b[0m \u001b[1;30mDEBUG\u001b[0m \u001b[32mSell at: $1157.86 | Position: +$62.80\u001b[0m\n"
     ]
    },
    {
     "name": "stdout",
     "output_type": "stream",
     "text": [
      "1/1 [==============================] - 0s 22ms/step\n"
     ]
    },
    {
     "name": "stderr",
     "output_type": "stream",
     "text": [
      "\u001b[32m2024-02-18 20:56:06\u001b[0m \u001b[35mDESKTOP-RNQKCRT\u001b[0m \u001b[34mroot[2564]\u001b[0m \u001b[1;30mDEBUG\u001b[0m \u001b[32mBuy at: $1143.30\u001b[0m\n"
     ]
    },
    {
     "name": "stdout",
     "output_type": "stream",
     "text": [
      "1/1 [==============================] - 0s 25ms/step\n"
     ]
    },
    {
     "name": "stderr",
     "output_type": "stream",
     "text": [
      "\u001b[32m2024-02-18 20:56:06\u001b[0m \u001b[35mDESKTOP-RNQKCRT\u001b[0m \u001b[34mroot[2564]\u001b[0m \u001b[1;30mDEBUG\u001b[0m \u001b[32mSell at: $1142.32 | Position: +$20.65\u001b[0m\n"
     ]
    },
    {
     "name": "stdout",
     "output_type": "stream",
     "text": [
      "1/1 [==============================] - 0s 30ms/step\n"
     ]
    },
    {
     "name": "stderr",
     "output_type": "stream",
     "text": [
      "\u001b[32m2024-02-18 20:56:06\u001b[0m \u001b[35mDESKTOP-RNQKCRT\u001b[0m \u001b[34mroot[2564]\u001b[0m \u001b[1;30mDEBUG\u001b[0m \u001b[32mSell at: $1175.76 | Position: +$62.11\u001b[0m\n"
     ]
    },
    {
     "name": "stdout",
     "output_type": "stream",
     "text": [
      "1/1 [==============================] - 0s 29ms/step\n"
     ]
    },
    {
     "name": "stderr",
     "output_type": "stream",
     "text": [
      "\u001b[32m2024-02-18 20:56:06\u001b[0m \u001b[35mDESKTOP-RNQKCRT\u001b[0m \u001b[34mroot[2564]\u001b[0m \u001b[1;30mDEBUG\u001b[0m \u001b[32mBuy at: $1193.20\u001b[0m\n"
     ]
    },
    {
     "name": "stdout",
     "output_type": "stream",
     "text": [
      "1/1 [==============================] - 0s 33ms/step\n"
     ]
    },
    {
     "name": "stderr",
     "output_type": "stream",
     "text": [
      "\u001b[32m2024-02-18 20:56:06\u001b[0m \u001b[35mDESKTOP-RNQKCRT\u001b[0m \u001b[34mroot[2564]\u001b[0m \u001b[1;30mDEBUG\u001b[0m \u001b[32mBuy at: $1193.32\u001b[0m\n"
     ]
    },
    {
     "name": "stdout",
     "output_type": "stream",
     "text": [
      "1/1 [==============================] - 0s 33ms/step\n"
     ]
    },
    {
     "name": "stderr",
     "output_type": "stream",
     "text": [
      "\u001b[32m2024-02-18 20:56:06\u001b[0m \u001b[35mDESKTOP-RNQKCRT\u001b[0m \u001b[34mroot[2564]\u001b[0m \u001b[1;30mDEBUG\u001b[0m \u001b[32mBuy at: $1185.55\u001b[0m\n"
     ]
    },
    {
     "name": "stdout",
     "output_type": "stream",
     "text": [
      "1/1 [==============================] - 0s 33ms/step\n",
      "1/1 [==============================] - 0s 22ms/step\n"
     ]
    },
    {
     "name": "stderr",
     "output_type": "stream",
     "text": [
      "\u001b[32m2024-02-18 20:56:06\u001b[0m \u001b[35mDESKTOP-RNQKCRT\u001b[0m \u001b[34mroot[2564]\u001b[0m \u001b[1;30mDEBUG\u001b[0m \u001b[32mBuy at: $1184.26\u001b[0m\n"
     ]
    },
    {
     "name": "stdout",
     "output_type": "stream",
     "text": [
      "1/1 [==============================] - 0s 23ms/step\n"
     ]
    },
    {
     "name": "stderr",
     "output_type": "stream",
     "text": [
      "\u001b[32m2024-02-18 20:56:07\u001b[0m \u001b[35mDESKTOP-RNQKCRT\u001b[0m \u001b[34mroot[2564]\u001b[0m \u001b[1;30mDEBUG\u001b[0m \u001b[32mBuy at: $1198.85\u001b[0m\n"
     ]
    },
    {
     "name": "stdout",
     "output_type": "stream",
     "text": [
      "1/1 [==============================] - 0s 22ms/step\n"
     ]
    },
    {
     "name": "stderr",
     "output_type": "stream",
     "text": [
      "\u001b[32m2024-02-18 20:56:07\u001b[0m \u001b[35mDESKTOP-RNQKCRT\u001b[0m \u001b[34mroot[2564]\u001b[0m \u001b[1;30mDEBUG\u001b[0m \u001b[32mBuy at: $1223.97\u001b[0m\n"
     ]
    },
    {
     "name": "stdout",
     "output_type": "stream",
     "text": [
      "1/1 [==============================] - 0s 26ms/step\n"
     ]
    },
    {
     "name": "stderr",
     "output_type": "stream",
     "text": [
      "\u001b[32m2024-02-18 20:56:07\u001b[0m \u001b[35mDESKTOP-RNQKCRT\u001b[0m \u001b[34mroot[2564]\u001b[0m \u001b[1;30mDEBUG\u001b[0m \u001b[32mBuy at: $1231.54\u001b[0m\n"
     ]
    },
    {
     "name": "stdout",
     "output_type": "stream",
     "text": [
      "1/1 [==============================] - 0s 29ms/step\n"
     ]
    },
    {
     "name": "stderr",
     "output_type": "stream",
     "text": [
      "\u001b[32m2024-02-18 20:56:07\u001b[0m \u001b[35mDESKTOP-RNQKCRT\u001b[0m \u001b[34mroot[2564]\u001b[0m \u001b[1;30mDEBUG\u001b[0m \u001b[32mBuy at: $1205.50\u001b[0m\n"
     ]
    },
    {
     "name": "stdout",
     "output_type": "stream",
     "text": [
      "1/1 [==============================] - 0s 27ms/step\n"
     ]
    },
    {
     "name": "stderr",
     "output_type": "stream",
     "text": [
      "\u001b[32m2024-02-18 20:56:07\u001b[0m \u001b[35mDESKTOP-RNQKCRT\u001b[0m \u001b[34mroot[2564]\u001b[0m \u001b[1;30mDEBUG\u001b[0m \u001b[32mBuy at: $1193.00\u001b[0m\n"
     ]
    },
    {
     "name": "stdout",
     "output_type": "stream",
     "text": [
      "1/1 [==============================] - 0s 31ms/step\n",
      "1/1 [==============================] - 0s 23ms/step\n"
     ]
    },
    {
     "name": "stderr",
     "output_type": "stream",
     "text": [
      "\u001b[32m2024-02-18 20:56:07\u001b[0m \u001b[35mDESKTOP-RNQKCRT\u001b[0m \u001b[34mroot[2564]\u001b[0m \u001b[1;30mDEBUG\u001b[0m \u001b[32mSell at: $1173.02 | Position: +$59.22\u001b[0m\n"
     ]
    },
    {
     "name": "stdout",
     "output_type": "stream",
     "text": [
      "1/1 [==============================] - 0s 32ms/step\n"
     ]
    },
    {
     "name": "stderr",
     "output_type": "stream",
     "text": [
      "\u001b[32m2024-02-18 20:56:07\u001b[0m \u001b[35mDESKTOP-RNQKCRT\u001b[0m \u001b[34mroot[2564]\u001b[0m \u001b[1;30mDEBUG\u001b[0m \u001b[32mBuy at: $1168.49\u001b[0m\n"
     ]
    },
    {
     "name": "stdout",
     "output_type": "stream",
     "text": [
      "1/1 [==============================] - 0s 27ms/step\n"
     ]
    },
    {
     "name": "stderr",
     "output_type": "stream",
     "text": [
      "\u001b[32m2024-02-18 20:56:07\u001b[0m \u001b[35mDESKTOP-RNQKCRT\u001b[0m \u001b[34mroot[2564]\u001b[0m \u001b[1;30mDEBUG\u001b[0m \u001b[32mBuy at: $1173.31\u001b[0m\n"
     ]
    },
    {
     "name": "stdout",
     "output_type": "stream",
     "text": [
      "1/1 [==============================] - 0s 32ms/step\n"
     ]
    },
    {
     "name": "stderr",
     "output_type": "stream",
     "text": [
      "\u001b[32m2024-02-18 20:56:07\u001b[0m \u001b[35mDESKTOP-RNQKCRT\u001b[0m \u001b[34mroot[2564]\u001b[0m \u001b[1;30mDEBUG\u001b[0m \u001b[32mBuy at: $1194.43\u001b[0m\n"
     ]
    },
    {
     "name": "stdout",
     "output_type": "stream",
     "text": [
      "1/1 [==============================] - 0s 30ms/step\n"
     ]
    },
    {
     "name": "stderr",
     "output_type": "stream",
     "text": [
      "\u001b[32m2024-02-18 20:56:07\u001b[0m \u001b[35mDESKTOP-RNQKCRT\u001b[0m \u001b[34mroot[2564]\u001b[0m \u001b[1;30mDEBUG\u001b[0m \u001b[32mBuy at: $1200.49\u001b[0m\n"
     ]
    },
    {
     "name": "stdout",
     "output_type": "stream",
     "text": [
      "1/1 [==============================] - 0s 33ms/step\n"
     ]
    },
    {
     "name": "stderr",
     "output_type": "stream",
     "text": [
      "\u001b[32m2024-02-18 20:56:08\u001b[0m \u001b[35mDESKTOP-RNQKCRT\u001b[0m \u001b[34mroot[2564]\u001b[0m \u001b[1;30mDEBUG\u001b[0m \u001b[32mBuy at: $1205.92\u001b[0m\n"
     ]
    },
    {
     "name": "stdout",
     "output_type": "stream",
     "text": [
      "1/1 [==============================] - 0s 28ms/step\n"
     ]
    },
    {
     "name": "stderr",
     "output_type": "stream",
     "text": [
      "\u001b[32m2024-02-18 20:56:08\u001b[0m \u001b[35mDESKTOP-RNQKCRT\u001b[0m \u001b[34mroot[2564]\u001b[0m \u001b[1;30mDEBUG\u001b[0m \u001b[32mSell at: $1215.00 | Position: +$118.03\u001b[0m\n"
     ]
    },
    {
     "name": "stdout",
     "output_type": "stream",
     "text": [
      "1/1 [==============================] - 0s 20ms/step\n"
     ]
    },
    {
     "name": "stderr",
     "output_type": "stream",
     "text": [
      "\u001b[32m2024-02-18 20:56:08\u001b[0m \u001b[35mDESKTOP-RNQKCRT\u001b[0m \u001b[34mroot[2564]\u001b[0m \u001b[1;30mDEBUG\u001b[0m \u001b[32mSell at: $1207.15 | Position: +$96.78\u001b[0m\n"
     ]
    },
    {
     "name": "stdout",
     "output_type": "stream",
     "text": [
      "1/1 [==============================] - 0s 24ms/step\n"
     ]
    },
    {
     "name": "stderr",
     "output_type": "stream",
     "text": [
      "\u001b[32m2024-02-18 20:56:08\u001b[0m \u001b[35mDESKTOP-RNQKCRT\u001b[0m \u001b[34mroot[2564]\u001b[0m \u001b[1;30mDEBUG\u001b[0m \u001b[32mSell at: $1203.84 | Position: +$94.44\u001b[0m\n"
     ]
    },
    {
     "name": "stdout",
     "output_type": "stream",
     "text": [
      "1/1 [==============================] - 0s 24ms/step\n"
     ]
    },
    {
     "name": "stderr",
     "output_type": "stream",
     "text": [
      "\u001b[32m2024-02-18 20:56:08\u001b[0m \u001b[35mDESKTOP-RNQKCRT\u001b[0m \u001b[34mroot[2564]\u001b[0m \u001b[1;30mDEBUG\u001b[0m \u001b[32mBuy at: $1197.25\u001b[0m\n"
     ]
    },
    {
     "name": "stdout",
     "output_type": "stream",
     "text": [
      "1/1 [==============================] - 0s 23ms/step\n"
     ]
    },
    {
     "name": "stderr",
     "output_type": "stream",
     "text": [
      "\u001b[32m2024-02-18 20:56:08\u001b[0m \u001b[35mDESKTOP-RNQKCRT\u001b[0m \u001b[34mroot[2564]\u001b[0m \u001b[1;30mDEBUG\u001b[0m \u001b[32mBuy at: $1202.16\u001b[0m\n"
     ]
    },
    {
     "name": "stdout",
     "output_type": "stream",
     "text": [
      "1/1 [==============================] - 0s 22ms/step\n"
     ]
    },
    {
     "name": "stderr",
     "output_type": "stream",
     "text": [
      "\u001b[32m2024-02-18 20:56:08\u001b[0m \u001b[35mDESKTOP-RNQKCRT\u001b[0m \u001b[34mroot[2564]\u001b[0m \u001b[1;30mDEBUG\u001b[0m \u001b[32mSell at: $1204.62 | Position: +$61.32\u001b[0m\n"
     ]
    },
    {
     "name": "stdout",
     "output_type": "stream",
     "text": [
      "1/1 [==============================] - 0s 24ms/step\n"
     ]
    },
    {
     "name": "stderr",
     "output_type": "stream",
     "text": [
      "\u001b[32m2024-02-18 20:56:08\u001b[0m \u001b[35mDESKTOP-RNQKCRT\u001b[0m \u001b[34mroot[2564]\u001b[0m \u001b[1;30mDEBUG\u001b[0m \u001b[32mBuy at: $1217.87\u001b[0m\n"
     ]
    },
    {
     "name": "stdout",
     "output_type": "stream",
     "text": [
      "1/1 [==============================] - 0s 24ms/step\n"
     ]
    },
    {
     "name": "stderr",
     "output_type": "stream",
     "text": [
      "\u001b[32m2024-02-18 20:56:08\u001b[0m \u001b[35mDESKTOP-RNQKCRT\u001b[0m \u001b[34mroot[2564]\u001b[0m \u001b[1;30mDEBUG\u001b[0m \u001b[32mSell at: $1221.10 | Position: +$27.90\u001b[0m\n"
     ]
    },
    {
     "name": "stdout",
     "output_type": "stream",
     "text": [
      "1/1 [==============================] - 0s 23ms/step\n"
     ]
    },
    {
     "name": "stderr",
     "output_type": "stream",
     "text": [
      "\u001b[32m2024-02-18 20:56:08\u001b[0m \u001b[35mDESKTOP-RNQKCRT\u001b[0m \u001b[34mroot[2564]\u001b[0m \u001b[1;30mDEBUG\u001b[0m \u001b[32mSell at: $1227.13 | Position: +$33.81\u001b[0m\n"
     ]
    },
    {
     "name": "stdout",
     "output_type": "stream",
     "text": [
      "1/1 [==============================] - 0s 73ms/step\n"
     ]
    },
    {
     "name": "stderr",
     "output_type": "stream",
     "text": [
      "\u001b[32m2024-02-18 20:56:08\u001b[0m \u001b[35mDESKTOP-RNQKCRT\u001b[0m \u001b[34mroot[2564]\u001b[0m \u001b[1;30mDEBUG\u001b[0m \u001b[32mSell at: $1236.34 | Position: +$50.79\u001b[0m\n"
     ]
    },
    {
     "name": "stdout",
     "output_type": "stream",
     "text": [
      "1/1 [==============================] - 0s 31ms/step\n"
     ]
    },
    {
     "name": "stderr",
     "output_type": "stream",
     "text": [
      "\u001b[32m2024-02-18 20:56:08\u001b[0m \u001b[35mDESKTOP-RNQKCRT\u001b[0m \u001b[34mroot[2564]\u001b[0m \u001b[1;30mDEBUG\u001b[0m \u001b[32mSell at: $1236.37 | Position: +$52.11\u001b[0m\n"
     ]
    },
    {
     "name": "stdout",
     "output_type": "stream",
     "text": [
      "1/1 [==============================] - 0s 35ms/step\n"
     ]
    },
    {
     "name": "stderr",
     "output_type": "stream",
     "text": [
      "\u001b[32m2024-02-18 20:56:09\u001b[0m \u001b[35mDESKTOP-RNQKCRT\u001b[0m \u001b[34mroot[2564]\u001b[0m \u001b[1;30mDEBUG\u001b[0m \u001b[32mSell at: $1248.84 | Position: +$49.99\u001b[0m\n"
     ]
    },
    {
     "name": "stdout",
     "output_type": "stream",
     "text": [
      "1/1 [==============================] - 0s 32ms/step\n"
     ]
    },
    {
     "name": "stderr",
     "output_type": "stream",
     "text": [
      "\u001b[32m2024-02-18 20:56:09\u001b[0m \u001b[35mDESKTOP-RNQKCRT\u001b[0m \u001b[34mroot[2564]\u001b[0m \u001b[1;30mDEBUG\u001b[0m \u001b[32mSell at: $1264.55 | Position: +$40.58\u001b[0m\n"
     ]
    },
    {
     "name": "stdout",
     "output_type": "stream",
     "text": [
      "1/1 [==============================] - 0s 26ms/step\n"
     ]
    },
    {
     "name": "stderr",
     "output_type": "stream",
     "text": [
      "\u001b[32m2024-02-18 20:56:09\u001b[0m \u001b[35mDESKTOP-RNQKCRT\u001b[0m \u001b[34mroot[2564]\u001b[0m \u001b[1;30mDEBUG\u001b[0m \u001b[32mSell at: $1256.00 | Position: +$24.46\u001b[0m\n"
     ]
    },
    {
     "name": "stdout",
     "output_type": "stream",
     "text": [
      "1/1 [==============================] - 0s 30ms/step\n"
     ]
    },
    {
     "name": "stderr",
     "output_type": "stream",
     "text": [
      "\u001b[32m2024-02-18 20:56:09\u001b[0m \u001b[35mDESKTOP-RNQKCRT\u001b[0m \u001b[34mroot[2564]\u001b[0m \u001b[1;30mDEBUG\u001b[0m \u001b[32mSell at: $1263.45 | Position: +$57.95\u001b[0m\n"
     ]
    },
    {
     "name": "stdout",
     "output_type": "stream",
     "text": [
      "1/1 [==============================] - 0s 31ms/step\n"
     ]
    },
    {
     "name": "stderr",
     "output_type": "stream",
     "text": [
      "\u001b[32m2024-02-18 20:56:09\u001b[0m \u001b[35mDESKTOP-RNQKCRT\u001b[0m \u001b[34mroot[2564]\u001b[0m \u001b[1;30mDEBUG\u001b[0m \u001b[32mSell at: $1272.18 | Position: +$79.18\u001b[0m\n"
     ]
    },
    {
     "name": "stdout",
     "output_type": "stream",
     "text": [
      "1/1 [==============================] - 0s 26ms/step\n"
     ]
    },
    {
     "name": "stderr",
     "output_type": "stream",
     "text": [
      "\u001b[32m2024-02-18 20:56:09\u001b[0m \u001b[35mDESKTOP-RNQKCRT\u001b[0m \u001b[34mroot[2564]\u001b[0m \u001b[1;30mDEBUG\u001b[0m \u001b[32mSell at: $1287.58 | Position: +$119.09\u001b[0m\n"
     ]
    },
    {
     "name": "stdout",
     "output_type": "stream",
     "text": [
      "1/1 [==============================] - 0s 26ms/step\n"
     ]
    },
    {
     "name": "stderr",
     "output_type": "stream",
     "text": [
      "\u001b[32m2024-02-18 20:56:09\u001b[0m \u001b[35mDESKTOP-RNQKCRT\u001b[0m \u001b[34mroot[2564]\u001b[0m \u001b[1;30mDEBUG\u001b[0m \u001b[32mSell at: $1188.48 | Position: +$15.17\u001b[0m\n"
     ]
    },
    {
     "name": "stdout",
     "output_type": "stream",
     "text": [
      "1/1 [==============================] - 0s 24ms/step\n"
     ]
    },
    {
     "name": "stderr",
     "output_type": "stream",
     "text": [
      "\u001b[32m2024-02-18 20:56:09\u001b[0m \u001b[35mDESKTOP-RNQKCRT\u001b[0m \u001b[34mroot[2564]\u001b[0m \u001b[1;30mDEBUG\u001b[0m \u001b[32mBuy at: $1168.08\u001b[0m\n"
     ]
    },
    {
     "name": "stdout",
     "output_type": "stream",
     "text": [
      "1/1 [==============================] - 0s 21ms/step\n"
     ]
    },
    {
     "name": "stderr",
     "output_type": "stream",
     "text": [
      "\u001b[32m2024-02-18 20:56:09\u001b[0m \u001b[35mDESKTOP-RNQKCRT\u001b[0m \u001b[34mroot[2564]\u001b[0m \u001b[1;30mDEBUG\u001b[0m \u001b[32mBuy at: $1162.61\u001b[0m\n"
     ]
    },
    {
     "name": "stdout",
     "output_type": "stream",
     "text": [
      "1/1 [==============================] - 0s 23ms/step\n"
     ]
    },
    {
     "name": "stderr",
     "output_type": "stream",
     "text": [
      "\u001b[32m2024-02-18 20:56:09\u001b[0m \u001b[35mDESKTOP-RNQKCRT\u001b[0m \u001b[34mroot[2564]\u001b[0m \u001b[1;30mDEBUG\u001b[0m \u001b[32mSell at: $1185.40 | Position: -$9.03\u001b[0m\n"
     ]
    },
    {
     "name": "stdout",
     "output_type": "stream",
     "text": [
      "1/1 [==============================] - 0s 24ms/step\n"
     ]
    },
    {
     "name": "stderr",
     "output_type": "stream",
     "text": [
      "\u001b[32m2024-02-18 20:56:09\u001b[0m \u001b[35mDESKTOP-RNQKCRT\u001b[0m \u001b[34mroot[2564]\u001b[0m \u001b[1;30mDEBUG\u001b[0m \u001b[32mBuy at: $1189.39\u001b[0m\n"
     ]
    },
    {
     "name": "stdout",
     "output_type": "stream",
     "text": [
      "1/1 [==============================] - 0s 46ms/step\n",
      "1/1 [==============================] - 0s 22ms/step\n"
     ]
    },
    {
     "name": "stderr",
     "output_type": "stream",
     "text": [
      "\u001b[32m2024-02-18 20:56:10\u001b[0m \u001b[35mDESKTOP-RNQKCRT\u001b[0m \u001b[34mroot[2564]\u001b[0m \u001b[1;30mDEBUG\u001b[0m \u001b[32mBuy at: $1166.27\u001b[0m\n"
     ]
    },
    {
     "name": "stdout",
     "output_type": "stream",
     "text": [
      "1/1 [==============================] - 0s 20ms/step\n",
      "1/1 [==============================] - 0s 21ms/step\n",
      "1/1 [==============================] - 0s 22ms/step\n",
      "1/1 [==============================] - 0s 22ms/step\n",
      "1/1 [==============================] - 0s 21ms/step\n"
     ]
    },
    {
     "name": "stderr",
     "output_type": "stream",
     "text": [
      "\u001b[32m2024-02-18 20:56:10\u001b[0m \u001b[35mDESKTOP-RNQKCRT\u001b[0m \u001b[34mroot[2564]\u001b[0m \u001b[1;30mDEBUG\u001b[0m \u001b[32mBuy at: $1164.21\u001b[0m\n"
     ]
    },
    {
     "name": "stdout",
     "output_type": "stream",
     "text": [
      "1/1 [==============================] - 0s 22ms/step\n"
     ]
    },
    {
     "name": "stderr",
     "output_type": "stream",
     "text": [
      "\u001b[32m2024-02-18 20:56:10\u001b[0m \u001b[35mDESKTOP-RNQKCRT\u001b[0m \u001b[34mroot[2564]\u001b[0m \u001b[1;30mDEBUG\u001b[0m \u001b[32mBuy at: $1178.98\u001b[0m\n"
     ]
    },
    {
     "name": "stdout",
     "output_type": "stream",
     "text": [
      "1/1 [==============================] - 0s 25ms/step\n"
     ]
    },
    {
     "name": "stderr",
     "output_type": "stream",
     "text": [
      "\u001b[32m2024-02-18 20:56:10\u001b[0m \u001b[35mDESKTOP-RNQKCRT\u001b[0m \u001b[34mroot[2564]\u001b[0m \u001b[1;30mDEBUG\u001b[0m \u001b[32mBuy at: $1162.30\u001b[0m\n"
     ]
    },
    {
     "name": "stdout",
     "output_type": "stream",
     "text": [
      "1/1 [==============================] - 0s 24ms/step\n"
     ]
    },
    {
     "name": "stderr",
     "output_type": "stream",
     "text": [
      "\u001b[32m2024-02-18 20:56:10\u001b[0m \u001b[35mDESKTOP-RNQKCRT\u001b[0m \u001b[34mroot[2564]\u001b[0m \u001b[1;30mDEBUG\u001b[0m \u001b[32mBuy at: $1138.85\u001b[0m\n"
     ]
    },
    {
     "name": "stdout",
     "output_type": "stream",
     "text": [
      "1/1 [==============================] - 0s 21ms/step\n"
     ]
    },
    {
     "name": "stderr",
     "output_type": "stream",
     "text": [
      "\u001b[32m2024-02-18 20:56:10\u001b[0m \u001b[35mDESKTOP-RNQKCRT\u001b[0m \u001b[34mroot[2564]\u001b[0m \u001b[1;30mDEBUG\u001b[0m \u001b[32mBuy at: $1149.63\u001b[0m\n"
     ]
    },
    {
     "name": "stdout",
     "output_type": "stream",
     "text": [
      "1/1 [==============================] - 0s 20ms/step\n"
     ]
    },
    {
     "name": "stderr",
     "output_type": "stream",
     "text": [
      "\u001b[32m2024-02-18 20:56:10\u001b[0m \u001b[35mDESKTOP-RNQKCRT\u001b[0m \u001b[34mroot[2564]\u001b[0m \u001b[1;30mDEBUG\u001b[0m \u001b[32mSell at: $1151.42 | Position: -$49.07\u001b[0m\n"
     ]
    },
    {
     "name": "stdout",
     "output_type": "stream",
     "text": [
      "1/1 [==============================] - 0s 21ms/step\n"
     ]
    },
    {
     "name": "stderr",
     "output_type": "stream",
     "text": [
      "\u001b[32m2024-02-18 20:56:10\u001b[0m \u001b[35mDESKTOP-RNQKCRT\u001b[0m \u001b[34mroot[2564]\u001b[0m \u001b[1;30mDEBUG\u001b[0m \u001b[32mBuy at: $1140.77\u001b[0m\n"
     ]
    },
    {
     "name": "stdout",
     "output_type": "stream",
     "text": [
      "1/1 [==============================] - 0s 24ms/step\n"
     ]
    },
    {
     "name": "stderr",
     "output_type": "stream",
     "text": [
      "\u001b[32m2024-02-18 20:56:10\u001b[0m \u001b[35mDESKTOP-RNQKCRT\u001b[0m \u001b[34mroot[2564]\u001b[0m \u001b[1;30mDEBUG\u001b[0m \u001b[32mBuy at: $1133.47\u001b[0m\n"
     ]
    },
    {
     "name": "stdout",
     "output_type": "stream",
     "text": [
      "1/1 [==============================] - 0s 25ms/step\n"
     ]
    },
    {
     "name": "stderr",
     "output_type": "stream",
     "text": [
      "\u001b[32m2024-02-18 20:56:10\u001b[0m \u001b[35mDESKTOP-RNQKCRT\u001b[0m \u001b[34mroot[2564]\u001b[0m \u001b[1;30mDEBUG\u001b[0m \u001b[32mBuy at: $1134.15\u001b[0m\n"
     ]
    },
    {
     "name": "stdout",
     "output_type": "stream",
     "text": [
      "1/1 [==============================] - 0s 34ms/step\n"
     ]
    },
    {
     "name": "stderr",
     "output_type": "stream",
     "text": [
      "\u001b[32m2024-02-18 20:56:11\u001b[0m \u001b[35mDESKTOP-RNQKCRT\u001b[0m \u001b[34mroot[2564]\u001b[0m \u001b[1;30mDEBUG\u001b[0m \u001b[32mBuy at: $1116.46\u001b[0m\n"
     ]
    },
    {
     "name": "stdout",
     "output_type": "stream",
     "text": [
      "1/1 [==============================] - 0s 23ms/step\n"
     ]
    },
    {
     "name": "stderr",
     "output_type": "stream",
     "text": [
      "\u001b[32m2024-02-18 20:56:11\u001b[0m \u001b[35mDESKTOP-RNQKCRT\u001b[0m \u001b[34mroot[2564]\u001b[0m \u001b[1;30mDEBUG\u001b[0m \u001b[32mSell at: $1117.95 | Position: -$87.97\u001b[0m\n"
     ]
    },
    {
     "name": "stdout",
     "output_type": "stream",
     "text": [
      "1/1 [==============================] - 0s 25ms/step\n"
     ]
    },
    {
     "name": "stderr",
     "output_type": "stream",
     "text": [
      "\u001b[32m2024-02-18 20:56:11\u001b[0m \u001b[35mDESKTOP-RNQKCRT\u001b[0m \u001b[34mroot[2564]\u001b[0m \u001b[1;30mDEBUG\u001b[0m \u001b[32mBuy at: $1103.63\u001b[0m\n"
     ]
    },
    {
     "name": "stdout",
     "output_type": "stream",
     "text": [
      "1/1 [==============================] - 0s 32ms/step\n",
      "1/1 [==============================] - 0s 28ms/step\n"
     ]
    },
    {
     "name": "stderr",
     "output_type": "stream",
     "text": [
      "\u001b[32m2024-02-18 20:56:11\u001b[0m \u001b[35mDESKTOP-RNQKCRT\u001b[0m \u001b[34mroot[2564]\u001b[0m \u001b[1;30mDEBUG\u001b[0m \u001b[32mBuy at: $1053.05\u001b[0m\n"
     ]
    },
    {
     "name": "stdout",
     "output_type": "stream",
     "text": [
      "1/1 [==============================] - 0s 26ms/step\n"
     ]
    },
    {
     "name": "stderr",
     "output_type": "stream",
     "text": [
      "\u001b[32m2024-02-18 20:56:11\u001b[0m \u001b[35mDESKTOP-RNQKCRT\u001b[0m \u001b[34mroot[2564]\u001b[0m \u001b[1;30mDEBUG\u001b[0m \u001b[32mBuy at: $1042.22\u001b[0m\n"
     ]
    },
    {
     "name": "stdout",
     "output_type": "stream",
     "text": [
      "1/1 [==============================] - 0s 22ms/step\n"
     ]
    },
    {
     "name": "stderr",
     "output_type": "stream",
     "text": [
      "\u001b[32m2024-02-18 20:56:11\u001b[0m \u001b[35mDESKTOP-RNQKCRT\u001b[0m \u001b[34mroot[2564]\u001b[0m \u001b[1;30mDEBUG\u001b[0m \u001b[32mBuy at: $1044.34\u001b[0m\n"
     ]
    },
    {
     "name": "stdout",
     "output_type": "stream",
     "text": [
      "1/1 [==============================] - 0s 25ms/step\n"
     ]
    },
    {
     "name": "stderr",
     "output_type": "stream",
     "text": [
      "\u001b[32m2024-02-18 20:56:11\u001b[0m \u001b[35mDESKTOP-RNQKCRT\u001b[0m \u001b[34mroot[2564]\u001b[0m \u001b[1;30mDEBUG\u001b[0m \u001b[32mSell at: $1066.04 | Position: -$131.21\u001b[0m\n"
     ]
    },
    {
     "name": "stdout",
     "output_type": "stream",
     "text": [
      "1/1 [==============================] - 0s 25ms/step\n"
     ]
    },
    {
     "name": "stderr",
     "output_type": "stream",
     "text": [
      "\u001b[32m2024-02-18 20:56:11\u001b[0m \u001b[35mDESKTOP-RNQKCRT\u001b[0m \u001b[34mroot[2564]\u001b[0m \u001b[1;30mDEBUG\u001b[0m \u001b[32mSell at: $1080.38 | Position: -$121.78\u001b[0m\n"
     ]
    },
    {
     "name": "stdout",
     "output_type": "stream",
     "text": [
      "1/1 [==============================] - 0s 25ms/step\n"
     ]
    },
    {
     "name": "stderr",
     "output_type": "stream",
     "text": [
      "\u001b[32m2024-02-18 20:56:11\u001b[0m \u001b[35mDESKTOP-RNQKCRT\u001b[0m \u001b[34mroot[2564]\u001b[0m \u001b[1;30mDEBUG\u001b[0m \u001b[32mSell at: $1078.72 | Position: -$139.15\u001b[0m\n"
     ]
    },
    {
     "name": "stdout",
     "output_type": "stream",
     "text": [
      "1/1 [==============================] - 0s 26ms/step\n"
     ]
    },
    {
     "name": "stderr",
     "output_type": "stream",
     "text": [
      "\u001b[32m2024-02-18 20:56:11\u001b[0m \u001b[35mDESKTOP-RNQKCRT\u001b[0m \u001b[34mroot[2564]\u001b[0m \u001b[1;30mDEBUG\u001b[0m \u001b[32mSell at: $1077.03 | Position: -$91.05\u001b[0m\n"
     ]
    },
    {
     "name": "stdout",
     "output_type": "stream",
     "text": [
      "1/1 [==============================] - 0s 23ms/step\n"
     ]
    },
    {
     "name": "stderr",
     "output_type": "stream",
     "text": [
      "\u001b[32m2024-02-18 20:56:11\u001b[0m \u001b[35mDESKTOP-RNQKCRT\u001b[0m \u001b[34mroot[2564]\u001b[0m \u001b[1;30mDEBUG\u001b[0m \u001b[32mBuy at: $1088.77\u001b[0m\n"
     ]
    },
    {
     "name": "stdout",
     "output_type": "stream",
     "text": [
      "1/1 [==============================] - 0s 22ms/step\n"
     ]
    },
    {
     "name": "stderr",
     "output_type": "stream",
     "text": [
      "\u001b[32m2024-02-18 20:56:11\u001b[0m \u001b[35mDESKTOP-RNQKCRT\u001b[0m \u001b[34mroot[2564]\u001b[0m \u001b[1;30mDEBUG\u001b[0m \u001b[32mSell at: $1085.35 | Position: -$77.26\u001b[0m\n"
     ]
    },
    {
     "name": "stdout",
     "output_type": "stream",
     "text": [
      "1/1 [==============================] - 0s 24ms/step\n"
     ]
    },
    {
     "name": "stderr",
     "output_type": "stream",
     "text": [
      "\u001b[32m2024-02-18 20:56:12\u001b[0m \u001b[35mDESKTOP-RNQKCRT\u001b[0m \u001b[34mroot[2564]\u001b[0m \u001b[1;30mDEBUG\u001b[0m \u001b[32mSell at: $1092.50 | Position: -$96.89\u001b[0m\n"
     ]
    },
    {
     "name": "stdout",
     "output_type": "stream",
     "text": [
      "1/1 [==============================] - 0s 22ms/step\n"
     ]
    },
    {
     "name": "stderr",
     "output_type": "stream",
     "text": [
      "\u001b[32m2024-02-18 20:56:12\u001b[0m \u001b[35mDESKTOP-RNQKCRT\u001b[0m \u001b[34mroot[2564]\u001b[0m \u001b[1;30mDEBUG\u001b[0m \u001b[32mSell at: $1103.60 | Position: -$62.67\u001b[0m\n"
     ]
    },
    {
     "name": "stdout",
     "output_type": "stream",
     "text": [
      "1/1 [==============================] - 0s 27ms/step\n"
     ]
    },
    {
     "name": "stderr",
     "output_type": "stream",
     "text": [
      "\u001b[32m2024-02-18 20:56:12\u001b[0m \u001b[35mDESKTOP-RNQKCRT\u001b[0m \u001b[34mroot[2564]\u001b[0m \u001b[1;30mDEBUG\u001b[0m \u001b[32mSell at: $1102.33 | Position: -$61.88\u001b[0m\n"
     ]
    },
    {
     "name": "stdout",
     "output_type": "stream",
     "text": [
      "1/1 [==============================] - 0s 63ms/step\n"
     ]
    },
    {
     "name": "stderr",
     "output_type": "stream",
     "text": [
      "\u001b[32m2024-02-18 20:56:12\u001b[0m \u001b[35mDESKTOP-RNQKCRT\u001b[0m \u001b[34mroot[2564]\u001b[0m \u001b[1;30mDEBUG\u001b[0m \u001b[32mBuy at: $1111.42\u001b[0m\n"
     ]
    },
    {
     "name": "stdout",
     "output_type": "stream",
     "text": [
      "1/1 [==============================] - 0s 27ms/step\n"
     ]
    },
    {
     "name": "stderr",
     "output_type": "stream",
     "text": [
      "\u001b[32m2024-02-18 20:56:12\u001b[0m \u001b[35mDESKTOP-RNQKCRT\u001b[0m \u001b[34mroot[2564]\u001b[0m \u001b[1;30mDEBUG\u001b[0m \u001b[32mSell at: $1121.88 | Position: -$57.10\u001b[0m\n"
     ]
    },
    {
     "name": "stdout",
     "output_type": "stream",
     "text": [
      "1/1 [==============================] - 0s 24ms/step\n"
     ]
    },
    {
     "name": "stderr",
     "output_type": "stream",
     "text": [
      "\u001b[32m2024-02-18 20:56:12\u001b[0m \u001b[35mDESKTOP-RNQKCRT\u001b[0m \u001b[34mroot[2564]\u001b[0m \u001b[1;30mDEBUG\u001b[0m \u001b[32mSell at: $1115.52 | Position: -$46.78\u001b[0m\n"
     ]
    },
    {
     "name": "stdout",
     "output_type": "stream",
     "text": [
      "1/1 [==============================] - 0s 27ms/step\n"
     ]
    },
    {
     "name": "stderr",
     "output_type": "stream",
     "text": [
      "\u001b[32m2024-02-18 20:56:12\u001b[0m \u001b[35mDESKTOP-RNQKCRT\u001b[0m \u001b[34mroot[2564]\u001b[0m \u001b[1;30mDEBUG\u001b[0m \u001b[32mSell at: $1086.35 | Position: -$52.50\u001b[0m\n"
     ]
    },
    {
     "name": "stdout",
     "output_type": "stream",
     "text": [
      "1/1 [==============================] - 0s 24ms/step\n"
     ]
    },
    {
     "name": "stderr",
     "output_type": "stream",
     "text": [
      "\u001b[32m2024-02-18 20:56:12\u001b[0m \u001b[35mDESKTOP-RNQKCRT\u001b[0m \u001b[34mroot[2564]\u001b[0m \u001b[1;30mDEBUG\u001b[0m \u001b[32mBuy at: $1079.80\u001b[0m\n"
     ]
    },
    {
     "name": "stdout",
     "output_type": "stream",
     "text": [
      "1/1 [==============================] - 0s 34ms/step\n"
     ]
    },
    {
     "name": "stderr",
     "output_type": "stream",
     "text": [
      "\u001b[32m2024-02-18 20:56:12\u001b[0m \u001b[35mDESKTOP-RNQKCRT\u001b[0m \u001b[34mroot[2564]\u001b[0m \u001b[1;30mDEBUG\u001b[0m \u001b[32mSell at: $1076.01 | Position: -$73.62\u001b[0m\n"
     ]
    },
    {
     "name": "stdout",
     "output_type": "stream",
     "text": [
      "1/1 [==============================] - 0s 34ms/step\n"
     ]
    },
    {
     "name": "stderr",
     "output_type": "stream",
     "text": [
      "\u001b[32m2024-02-18 20:56:12\u001b[0m \u001b[35mDESKTOP-RNQKCRT\u001b[0m \u001b[34mroot[2564]\u001b[0m \u001b[1;30mDEBUG\u001b[0m \u001b[32mBuy at: $1080.91\u001b[0m\n"
     ]
    },
    {
     "name": "stdout",
     "output_type": "stream",
     "text": [
      "1/1 [==============================] - 0s 23ms/step\n"
     ]
    },
    {
     "name": "stderr",
     "output_type": "stream",
     "text": [
      "\u001b[32m2024-02-18 20:56:12\u001b[0m \u001b[35mDESKTOP-RNQKCRT\u001b[0m \u001b[34mroot[2564]\u001b[0m \u001b[1;30mDEBUG\u001b[0m \u001b[32mBuy at: $1097.95\u001b[0m\n"
     ]
    },
    {
     "name": "stdout",
     "output_type": "stream",
     "text": [
      "1/1 [==============================] - 0s 23ms/step\n"
     ]
    },
    {
     "name": "stderr",
     "output_type": "stream",
     "text": [
      "\u001b[32m2024-02-18 20:56:12\u001b[0m \u001b[35mDESKTOP-RNQKCRT\u001b[0m \u001b[34mroot[2564]\u001b[0m \u001b[1;30mDEBUG\u001b[0m \u001b[32mBuy at: $1111.25\u001b[0m\n"
     ]
    },
    {
     "name": "stdout",
     "output_type": "stream",
     "text": [
      "1/1 [==============================] - 0s 25ms/step\n"
     ]
    },
    {
     "name": "stderr",
     "output_type": "stream",
     "text": [
      "\u001b[32m2024-02-18 20:56:13\u001b[0m \u001b[35mDESKTOP-RNQKCRT\u001b[0m \u001b[34mroot[2564]\u001b[0m \u001b[1;30mDEBUG\u001b[0m \u001b[32mSell at: $1121.58 | Position: -$19.19\u001b[0m\n"
     ]
    },
    {
     "name": "stdout",
     "output_type": "stream",
     "text": [
      "1/1 [==============================] - 0s 25ms/step\n"
     ]
    },
    {
     "name": "stderr",
     "output_type": "stream",
     "text": [
      "\u001b[32m2024-02-18 20:56:13\u001b[0m \u001b[35mDESKTOP-RNQKCRT\u001b[0m \u001b[34mroot[2564]\u001b[0m \u001b[1;30mDEBUG\u001b[0m \u001b[32mSell at: $1131.59 | Position: -$1.88\u001b[0m\n"
     ]
    },
    {
     "name": "stdout",
     "output_type": "stream",
     "text": [
      "1/1 [==============================] - 0s 23ms/step\n"
     ]
    },
    {
     "name": "stderr",
     "output_type": "stream",
     "text": [
      "\u001b[32m2024-02-18 20:56:13\u001b[0m \u001b[35mDESKTOP-RNQKCRT\u001b[0m \u001b[34mroot[2564]\u001b[0m \u001b[1;30mDEBUG\u001b[0m \u001b[32mSell at: $1116.35 | Position: -$17.80\u001b[0m\n"
     ]
    },
    {
     "name": "stdout",
     "output_type": "stream",
     "text": [
      "1/1 [==============================] - 0s 67ms/step\n"
     ]
    },
    {
     "name": "stderr",
     "output_type": "stream",
     "text": [
      "\u001b[32m2024-02-18 20:56:13\u001b[0m \u001b[35mDESKTOP-RNQKCRT\u001b[0m \u001b[34mroot[2564]\u001b[0m \u001b[1;30mDEBUG\u001b[0m \u001b[32mSell at: $1124.83 | Position: +$8.37\u001b[0m\n"
     ]
    },
    {
     "name": "stdout",
     "output_type": "stream",
     "text": [
      "1/1 [==============================] - 0s 25ms/step\n"
     ]
    },
    {
     "name": "stderr",
     "output_type": "stream",
     "text": [
      "\u001b[32m2024-02-18 20:56:13\u001b[0m \u001b[35mDESKTOP-RNQKCRT\u001b[0m \u001b[34mroot[2564]\u001b[0m \u001b[1;30mDEBUG\u001b[0m \u001b[32mSell at: $1140.48 | Position: +$36.85\u001b[0m\n"
     ]
    },
    {
     "name": "stdout",
     "output_type": "stream",
     "text": [
      "1/1 [==============================] - 0s 26ms/step\n"
     ]
    },
    {
     "name": "stderr",
     "output_type": "stream",
     "text": [
      "\u001b[32m2024-02-18 20:56:13\u001b[0m \u001b[35mDESKTOP-RNQKCRT\u001b[0m \u001b[34mroot[2564]\u001b[0m \u001b[1;30mDEBUG\u001b[0m \u001b[32mBuy at: $1144.21\u001b[0m\n"
     ]
    },
    {
     "name": "stdout",
     "output_type": "stream",
     "text": [
      "1/1 [==============================] - 0s 23ms/step\n"
     ]
    },
    {
     "name": "stderr",
     "output_type": "stream",
     "text": [
      "\u001b[32m2024-02-18 20:56:13\u001b[0m \u001b[35mDESKTOP-RNQKCRT\u001b[0m \u001b[34mroot[2564]\u001b[0m \u001b[1;30mDEBUG\u001b[0m \u001b[32mSell at: $1144.90 | Position: +$91.85\u001b[0m\n"
     ]
    },
    {
     "name": "stdout",
     "output_type": "stream",
     "text": [
      "1/1 [==============================] - 0s 28ms/step\n"
     ]
    },
    {
     "name": "stderr",
     "output_type": "stream",
     "text": [
      "\u001b[32m2024-02-18 20:56:13\u001b[0m \u001b[35mDESKTOP-RNQKCRT\u001b[0m \u001b[34mroot[2564]\u001b[0m \u001b[1;30mDEBUG\u001b[0m \u001b[32mSell at: $1150.34 | Position: +$108.12\u001b[0m\n"
     ]
    },
    {
     "name": "stdout",
     "output_type": "stream",
     "text": [
      "1/1 [==============================] - 0s 22ms/step\n"
     ]
    },
    {
     "name": "stderr",
     "output_type": "stream",
     "text": [
      "\u001b[32m2024-02-18 20:56:13\u001b[0m \u001b[35mDESKTOP-RNQKCRT\u001b[0m \u001b[34mroot[2564]\u001b[0m \u001b[1;30mDEBUG\u001b[0m \u001b[32mSell at: $1153.58 | Position: +$109.24\u001b[0m\n"
     ]
    },
    {
     "name": "stdout",
     "output_type": "stream",
     "text": [
      "1/1 [==============================] - 0s 22ms/step\n"
     ]
    },
    {
     "name": "stderr",
     "output_type": "stream",
     "text": [
      "\u001b[32m2024-02-18 20:56:13\u001b[0m \u001b[35mDESKTOP-RNQKCRT\u001b[0m \u001b[34mroot[2564]\u001b[0m \u001b[1;30mDEBUG\u001b[0m \u001b[32mSell at: $1146.35 | Position: +$57.58\u001b[0m\n"
     ]
    },
    {
     "name": "stdout",
     "output_type": "stream",
     "text": [
      "1/1 [==============================] - 0s 35ms/step\n"
     ]
    },
    {
     "name": "stderr",
     "output_type": "stream",
     "text": [
      "\u001b[32m2024-02-18 20:56:13\u001b[0m \u001b[35mDESKTOP-RNQKCRT\u001b[0m \u001b[34mroot[2564]\u001b[0m \u001b[1;30mDEBUG\u001b[0m \u001b[32mSell at: $1146.33 | Position: +$34.91\u001b[0m\n"
     ]
    },
    {
     "name": "stdout",
     "output_type": "stream",
     "text": [
      "1/1 [==============================] - 0s 21ms/step\n"
     ]
    },
    {
     "name": "stderr",
     "output_type": "stream",
     "text": [
      "\u001b[32m2024-02-18 20:56:13\u001b[0m \u001b[35mDESKTOP-RNQKCRT\u001b[0m \u001b[34mroot[2564]\u001b[0m \u001b[1;30mDEBUG\u001b[0m \u001b[32mBuy at: $1130.10\u001b[0m\n"
     ]
    },
    {
     "name": "stdout",
     "output_type": "stream",
     "text": [
      "1/1 [==============================] - 0s 24ms/step\n"
     ]
    },
    {
     "name": "stderr",
     "output_type": "stream",
     "text": [
      "\u001b[32m2024-02-18 20:56:13\u001b[0m \u001b[35mDESKTOP-RNQKCRT\u001b[0m \u001b[34mroot[2564]\u001b[0m \u001b[1;30mDEBUG\u001b[0m \u001b[32mSell at: $1138.07 | Position: +$58.27\u001b[0m\n"
     ]
    },
    {
     "name": "stdout",
     "output_type": "stream",
     "text": [
      "1/1 [==============================] - 0s 23ms/step\n"
     ]
    },
    {
     "name": "stderr",
     "output_type": "stream",
     "text": [
      "\u001b[32m2024-02-18 20:56:14\u001b[0m \u001b[35mDESKTOP-RNQKCRT\u001b[0m \u001b[34mroot[2564]\u001b[0m \u001b[1;30mDEBUG\u001b[0m \u001b[32mSell at: $1146.21 | Position: +$65.30\u001b[0m\n"
     ]
    },
    {
     "name": "stdout",
     "output_type": "stream",
     "text": [
      "1/1 [==============================] - 0s 20ms/step\n"
     ]
    },
    {
     "name": "stderr",
     "output_type": "stream",
     "text": [
      "\u001b[32m2024-02-18 20:56:14\u001b[0m \u001b[35mDESKTOP-RNQKCRT\u001b[0m \u001b[34mroot[2564]\u001b[0m \u001b[1;30mDEBUG\u001b[0m \u001b[32mBuy at: $1137.81\u001b[0m\n"
     ]
    },
    {
     "name": "stdout",
     "output_type": "stream",
     "text": [
      "1/1 [==============================] - 0s 25ms/step\n"
     ]
    },
    {
     "name": "stderr",
     "output_type": "stream",
     "text": [
      "\u001b[32m2024-02-18 20:56:14\u001b[0m \u001b[35mDESKTOP-RNQKCRT\u001b[0m \u001b[34mroot[2564]\u001b[0m \u001b[1;30mDEBUG\u001b[0m \u001b[32mBuy at: $1132.12\u001b[0m\n"
     ]
    },
    {
     "name": "stdout",
     "output_type": "stream",
     "text": [
      "1/1 [==============================] - 0s 20ms/step\n"
     ]
    },
    {
     "name": "stderr",
     "output_type": "stream",
     "text": [
      "\u001b[32m2024-02-18 20:56:14\u001b[0m \u001b[35mDESKTOP-RNQKCRT\u001b[0m \u001b[34mroot[2564]\u001b[0m \u001b[1;30mDEBUG\u001b[0m \u001b[32mSell at: $1250.41 | Position: +$152.46\u001b[0m\n"
     ]
    },
    {
     "name": "stdout",
     "output_type": "stream",
     "text": [
      "1/1 [==============================] - 0s 28ms/step\n"
     ]
    },
    {
     "name": "stderr",
     "output_type": "stream",
     "text": [
      "\u001b[32m2024-02-18 20:56:14\u001b[0m \u001b[35mDESKTOP-RNQKCRT\u001b[0m \u001b[34mroot[2564]\u001b[0m \u001b[1;30mDEBUG\u001b[0m \u001b[32mBuy at: $1239.41\u001b[0m\n"
     ]
    },
    {
     "name": "stdout",
     "output_type": "stream",
     "text": [
      "1/1 [==============================] - 0s 25ms/step\n"
     ]
    },
    {
     "name": "stderr",
     "output_type": "stream",
     "text": [
      "\u001b[32m2024-02-18 20:56:14\u001b[0m \u001b[35mDESKTOP-RNQKCRT\u001b[0m \u001b[34mroot[2564]\u001b[0m \u001b[1;30mDEBUG\u001b[0m \u001b[32mBuy at: $1225.14\u001b[0m\n"
     ]
    },
    {
     "name": "stdout",
     "output_type": "stream",
     "text": [
      "1/1 [==============================] - 0s 20ms/step\n"
     ]
    },
    {
     "name": "stderr",
     "output_type": "stream",
     "text": [
      "\u001b[32m2024-02-18 20:56:14\u001b[0m \u001b[35mDESKTOP-RNQKCRT\u001b[0m \u001b[34mroot[2564]\u001b[0m \u001b[1;30mDEBUG\u001b[0m \u001b[32mBuy at: $1216.68\u001b[0m\n"
     ]
    },
    {
     "name": "stdout",
     "output_type": "stream",
     "text": [
      "1/1 [==============================] - 0s 21ms/step\n"
     ]
    },
    {
     "name": "stderr",
     "output_type": "stream",
     "text": [
      "\u001b[32m2024-02-18 20:56:14\u001b[0m \u001b[35mDESKTOP-RNQKCRT\u001b[0m \u001b[34mroot[2564]\u001b[0m \u001b[1;30mDEBUG\u001b[0m \u001b[32mBuy at: $1209.01\u001b[0m\n"
     ]
    },
    {
     "name": "stdout",
     "output_type": "stream",
     "text": [
      "1/1 [==============================] - 0s 21ms/step\n"
     ]
    },
    {
     "name": "stderr",
     "output_type": "stream",
     "text": [
      "\u001b[32m2024-02-18 20:56:14\u001b[0m \u001b[35mDESKTOP-RNQKCRT\u001b[0m \u001b[34mroot[2564]\u001b[0m \u001b[1;30mDEBUG\u001b[0m \u001b[32mBuy at: $1193.99\u001b[0m\n"
     ]
    },
    {
     "name": "stdout",
     "output_type": "stream",
     "text": [
      "1/1 [==============================] - 0s 25ms/step\n",
      "1/1 [==============================] - 0s 23ms/step\n",
      "1/1 [==============================] - 0s 23ms/step\n",
      "1/1 [==============================] - 0s 24ms/step\n"
     ]
    },
    {
     "name": "stderr",
     "output_type": "stream",
     "text": [
      "\u001b[32m2024-02-18 20:56:14\u001b[0m \u001b[35mDESKTOP-RNQKCRT\u001b[0m \u001b[34mroot[2564]\u001b[0m \u001b[1;30mDEBUG\u001b[0m \u001b[32mSell at: $1204.80 | Position: +$93.55\u001b[0m\n"
     ]
    },
    {
     "name": "stdout",
     "output_type": "stream",
     "text": [
      "1/1 [==============================] - 0s 22ms/step\n",
      "1/1 [==============================] - 0s 30ms/step\n",
      "1/1 [==============================] - 0s 26ms/step\n"
     ]
    },
    {
     "name": "stderr",
     "output_type": "stream",
     "text": [
      "\u001b[32m2024-02-18 20:56:15\u001b[0m \u001b[35mDESKTOP-RNQKCRT\u001b[0m \u001b[34mroot[2564]\u001b[0m \u001b[1;30mDEBUG\u001b[0m \u001b[32mSell at: $1197.27 | Position: +$53.06\u001b[0m\n"
     ]
    },
    {
     "name": "stdout",
     "output_type": "stream",
     "text": [
      "1/1 [==============================] - 0s 24ms/step\n"
     ]
    },
    {
     "name": "stderr",
     "output_type": "stream",
     "text": [
      "\u001b[32m2024-02-18 20:56:15\u001b[0m \u001b[35mDESKTOP-RNQKCRT\u001b[0m \u001b[34mroot[2564]\u001b[0m \u001b[1;30mDEBUG\u001b[0m \u001b[32mBuy at: $1164.29\u001b[0m\n"
     ]
    },
    {
     "name": "stdout",
     "output_type": "stream",
     "text": [
      "1/1 [==============================] - 0s 26ms/step\n"
     ]
    },
    {
     "name": "stderr",
     "output_type": "stream",
     "text": [
      "\u001b[32m2024-02-18 20:56:15\u001b[0m \u001b[35mDESKTOP-RNQKCRT\u001b[0m \u001b[34mroot[2564]\u001b[0m \u001b[1;30mDEBUG\u001b[0m \u001b[32mBuy at: $1167.26\u001b[0m\n"
     ]
    },
    {
     "name": "stdout",
     "output_type": "stream",
     "text": [
      "1/1 [==============================] - 0s 25ms/step\n"
     ]
    },
    {
     "name": "stderr",
     "output_type": "stream",
     "text": [
      "\u001b[32m2024-02-18 20:56:15\u001b[0m \u001b[35mDESKTOP-RNQKCRT\u001b[0m \u001b[34mroot[2564]\u001b[0m \u001b[1;30mDEBUG\u001b[0m \u001b[32mSell at: $1177.60 | Position: +$47.50\u001b[0m\n"
     ]
    },
    {
     "name": "stdout",
     "output_type": "stream",
     "text": [
      "1/1 [==============================] - 0s 22ms/step\n"
     ]
    },
    {
     "name": "stderr",
     "output_type": "stream",
     "text": [
      "\u001b[32m2024-02-18 20:56:15\u001b[0m \u001b[35mDESKTOP-RNQKCRT\u001b[0m \u001b[34mroot[2564]\u001b[0m \u001b[1;30mDEBUG\u001b[0m \u001b[32mSell at: $1198.45 | Position: +$60.64\u001b[0m\n"
     ]
    },
    {
     "name": "stdout",
     "output_type": "stream",
     "text": [
      "1/1 [==============================] - 0s 26ms/step\n"
     ]
    },
    {
     "name": "stderr",
     "output_type": "stream",
     "text": [
      "\u001b[32m2024-02-18 20:56:15\u001b[0m \u001b[35mDESKTOP-RNQKCRT\u001b[0m \u001b[34mroot[2564]\u001b[0m \u001b[1;30mDEBUG\u001b[0m \u001b[32mSell at: $1182.69 | Position: +$50.57\u001b[0m\n"
     ]
    },
    {
     "name": "stdout",
     "output_type": "stream",
     "text": [
      "1/1 [==============================] - 0s 32ms/step\n"
     ]
    },
    {
     "name": "stderr",
     "output_type": "stream",
     "text": [
      "\u001b[32m2024-02-18 20:56:15\u001b[0m \u001b[35mDESKTOP-RNQKCRT\u001b[0m \u001b[34mroot[2564]\u001b[0m \u001b[1;30mDEBUG\u001b[0m \u001b[32mSell at: $1191.25 | Position: -$48.16\u001b[0m\n"
     ]
    },
    {
     "name": "stdout",
     "output_type": "stream",
     "text": [
      "1/1 [==============================] - 0s 26ms/step\n"
     ]
    },
    {
     "name": "stderr",
     "output_type": "stream",
     "text": [
      "\u001b[32m2024-02-18 20:56:15\u001b[0m \u001b[35mDESKTOP-RNQKCRT\u001b[0m \u001b[34mroot[2564]\u001b[0m \u001b[1;30mDEBUG\u001b[0m \u001b[32mSell at: $1189.53 | Position: -$35.61\u001b[0m\n"
     ]
    },
    {
     "name": "stdout",
     "output_type": "stream",
     "text": [
      "1/1 [==============================] - 0s 24ms/step\n"
     ]
    },
    {
     "name": "stderr",
     "output_type": "stream",
     "text": [
      "\u001b[32m2024-02-18 20:56:15\u001b[0m \u001b[35mDESKTOP-RNQKCRT\u001b[0m \u001b[34mroot[2564]\u001b[0m \u001b[1;30mDEBUG\u001b[0m \u001b[32mBuy at: $1151.29\u001b[0m\n"
     ]
    },
    {
     "name": "stdout",
     "output_type": "stream",
     "text": [
      "1/1 [==============================] - 0s 25ms/step\n"
     ]
    },
    {
     "name": "stderr",
     "output_type": "stream",
     "text": [
      "\u001b[32m2024-02-18 20:56:15\u001b[0m \u001b[35mDESKTOP-RNQKCRT\u001b[0m \u001b[34mroot[2564]\u001b[0m \u001b[1;30mDEBUG\u001b[0m \u001b[32mSell at: $1168.89 | Position: -$47.79\u001b[0m\n"
     ]
    },
    {
     "name": "stdout",
     "output_type": "stream",
     "text": [
      "1/1 [==============================] - 0s 21ms/step\n"
     ]
    },
    {
     "name": "stderr",
     "output_type": "stream",
     "text": [
      "\u001b[32m2024-02-18 20:56:15\u001b[0m \u001b[35mDESKTOP-RNQKCRT\u001b[0m \u001b[34mroot[2564]\u001b[0m \u001b[1;30mDEBUG\u001b[0m \u001b[32mBuy at: $1167.84\u001b[0m\n"
     ]
    },
    {
     "name": "stdout",
     "output_type": "stream",
     "text": [
      "1/1 [==============================] - 0s 25ms/step\n"
     ]
    },
    {
     "name": "stderr",
     "output_type": "stream",
     "text": [
      "\u001b[32m2024-02-18 20:56:16\u001b[0m \u001b[35mDESKTOP-RNQKCRT\u001b[0m \u001b[34mroot[2564]\u001b[0m \u001b[1;30mDEBUG\u001b[0m \u001b[32mSell at: $1171.02 | Position: -$37.99\u001b[0m\n"
     ]
    },
    {
     "name": "stdout",
     "output_type": "stream",
     "text": [
      "1/1 [==============================] - 0s 22ms/step\n"
     ]
    },
    {
     "name": "stderr",
     "output_type": "stream",
     "text": [
      "\u001b[32m2024-02-18 20:56:16\u001b[0m \u001b[35mDESKTOP-RNQKCRT\u001b[0m \u001b[34mroot[2564]\u001b[0m \u001b[1;30mDEBUG\u001b[0m \u001b[32mSell at: $1192.85 | Position: -$1.14\u001b[0m\n"
     ]
    },
    {
     "name": "stdout",
     "output_type": "stream",
     "text": [
      "1/1 [==============================] - 0s 23ms/step\n"
     ]
    },
    {
     "name": "stderr",
     "output_type": "stream",
     "text": [
      "\u001b[32m2024-02-18 20:56:16\u001b[0m \u001b[35mDESKTOP-RNQKCRT\u001b[0m \u001b[34mroot[2564]\u001b[0m \u001b[1;30mDEBUG\u001b[0m \u001b[32mBuy at: $1188.10\u001b[0m\n"
     ]
    },
    {
     "name": "stdout",
     "output_type": "stream",
     "text": [
      "1/1 [==============================] - 0s 21ms/step\n"
     ]
    },
    {
     "name": "stderr",
     "output_type": "stream",
     "text": [
      "\u001b[32m2024-02-18 20:56:16\u001b[0m \u001b[35mDESKTOP-RNQKCRT\u001b[0m \u001b[34mroot[2564]\u001b[0m \u001b[1;30mDEBUG\u001b[0m \u001b[32mBuy at: $1168.39\u001b[0m\n"
     ]
    },
    {
     "name": "stdout",
     "output_type": "stream",
     "text": [
      "1/1 [==============================] - 0s 23ms/step\n"
     ]
    },
    {
     "name": "stderr",
     "output_type": "stream",
     "text": [
      "\u001b[32m2024-02-18 20:56:16\u001b[0m \u001b[35mDESKTOP-RNQKCRT\u001b[0m \u001b[34mroot[2564]\u001b[0m \u001b[1;30mDEBUG\u001b[0m \u001b[32mSell at: $1181.41 | Position: +$17.12\u001b[0m\n"
     ]
    },
    {
     "name": "stdout",
     "output_type": "stream",
     "text": [
      "1/1 [==============================] - 0s 24ms/step\n"
     ]
    },
    {
     "name": "stderr",
     "output_type": "stream",
     "text": [
      "\u001b[32m2024-02-18 20:56:16\u001b[0m \u001b[35mDESKTOP-RNQKCRT\u001b[0m \u001b[34mroot[2564]\u001b[0m \u001b[1;30mDEBUG\u001b[0m \u001b[32mSell at: $1211.38 | Position: +$44.12\u001b[0m\n"
     ]
    },
    {
     "name": "stdout",
     "output_type": "stream",
     "text": [
      "1/1 [==============================] - 0s 23ms/step\n",
      "1/1 [==============================] - 0s 25ms/step\n"
     ]
    },
    {
     "name": "stderr",
     "output_type": "stream",
     "text": [
      "\u001b[32m2024-02-18 20:56:16\u001b[0m \u001b[35mDESKTOP-RNQKCRT\u001b[0m \u001b[34mroot[2564]\u001b[0m \u001b[1;30mDEBUG\u001b[0m \u001b[32mBuy at: $1204.41\u001b[0m\n"
     ]
    },
    {
     "name": "stdout",
     "output_type": "stream",
     "text": [
      "1/1 [==============================] - 0s 23ms/step\n"
     ]
    },
    {
     "name": "stderr",
     "output_type": "stream",
     "text": [
      "\u001b[32m2024-02-18 20:56:16\u001b[0m \u001b[35mDESKTOP-RNQKCRT\u001b[0m \u001b[34mroot[2564]\u001b[0m \u001b[1;30mDEBUG\u001b[0m \u001b[32mSell at: $1206.00 | Position: +$54.71\u001b[0m\n"
     ]
    },
    {
     "name": "stdout",
     "output_type": "stream",
     "text": [
      "1/1 [==============================] - 0s 24ms/step\n"
     ]
    },
    {
     "name": "stderr",
     "output_type": "stream",
     "text": [
      "\u001b[32m2024-02-18 20:56:16\u001b[0m \u001b[35mDESKTOP-RNQKCRT\u001b[0m \u001b[34mroot[2564]\u001b[0m \u001b[1;30mDEBUG\u001b[0m \u001b[32mSell at: $1220.17 | Position: +$52.33\u001b[0m\n"
     ]
    },
    {
     "name": "stdout",
     "output_type": "stream",
     "text": [
      "1/1 [==============================] - 0s 27ms/step\n"
     ]
    },
    {
     "name": "stderr",
     "output_type": "stream",
     "text": [
      "\u001b[32m2024-02-18 20:56:16\u001b[0m \u001b[35mDESKTOP-RNQKCRT\u001b[0m \u001b[34mroot[2564]\u001b[0m \u001b[1;30mDEBUG\u001b[0m \u001b[32mSell at: $1234.25 | Position: +$46.15\u001b[0m\n"
     ]
    },
    {
     "name": "stdout",
     "output_type": "stream",
     "text": [
      "1/1 [==============================] - 0s 30ms/step\n"
     ]
    },
    {
     "name": "stderr",
     "output_type": "stream",
     "text": [
      "\u001b[32m2024-02-18 20:56:16\u001b[0m \u001b[35mDESKTOP-RNQKCRT\u001b[0m \u001b[34mroot[2564]\u001b[0m \u001b[1;30mDEBUG\u001b[0m \u001b[32mSell at: $1239.56 | Position: +$71.17\u001b[0m\n"
     ]
    },
    {
     "name": "stdout",
     "output_type": "stream",
     "text": [
      "1/1 [==============================] - 0s 25ms/step\n"
     ]
    },
    {
     "name": "stderr",
     "output_type": "stream",
     "text": [
      "\u001b[32m2024-02-18 20:56:16\u001b[0m \u001b[35mDESKTOP-RNQKCRT\u001b[0m \u001b[34mroot[2564]\u001b[0m \u001b[1;30mDEBUG\u001b[0m \u001b[32mBuy at: $1231.30\u001b[0m\n"
     ]
    },
    {
     "name": "stdout",
     "output_type": "stream",
     "text": [
      "1/1 [==============================] - 0s 28ms/step\n"
     ]
    },
    {
     "name": "stderr",
     "output_type": "stream",
     "text": [
      "\u001b[32m2024-02-18 20:56:17\u001b[0m \u001b[35mDESKTOP-RNQKCRT\u001b[0m \u001b[34mroot[2564]\u001b[0m \u001b[1;30mDEBUG\u001b[0m \u001b[32mBuy at: $1229.15\u001b[0m\n"
     ]
    },
    {
     "name": "stdout",
     "output_type": "stream",
     "text": [
      "1/1 [==============================] - 0s 27ms/step\n"
     ]
    },
    {
     "name": "stderr",
     "output_type": "stream",
     "text": [
      "\u001b[32m2024-02-18 20:56:17\u001b[0m \u001b[35mDESKTOP-RNQKCRT\u001b[0m \u001b[34mroot[2564]\u001b[0m \u001b[1;30mDEBUG\u001b[0m \u001b[32mSell at: $1232.41 | Position: +$28.00\u001b[0m\n"
     ]
    },
    {
     "name": "stdout",
     "output_type": "stream",
     "text": [
      "1/1 [==============================] - 0s 22ms/step\n"
     ]
    },
    {
     "name": "stderr",
     "output_type": "stream",
     "text": [
      "\u001b[32m2024-02-18 20:56:17\u001b[0m \u001b[35mDESKTOP-RNQKCRT\u001b[0m \u001b[34mroot[2564]\u001b[0m \u001b[1;30mDEBUG\u001b[0m \u001b[32mSell at: $1238.71 | Position: +$7.41\u001b[0m\n"
     ]
    },
    {
     "name": "stdout",
     "output_type": "stream",
     "text": [
      "1/1 [==============================] - 0s 27ms/step\n"
     ]
    },
    {
     "name": "stderr",
     "output_type": "stream",
     "text": [
      "\u001b[32m2024-02-18 20:56:17\u001b[0m \u001b[35mDESKTOP-RNQKCRT\u001b[0m \u001b[34mroot[2564]\u001b[0m \u001b[1;30mDEBUG\u001b[0m \u001b[32mSell at: $1229.93 | Position: +$0.78\u001b[0m\n"
     ]
    },
    {
     "name": "stdout",
     "output_type": "stream",
     "text": [
      "1/1 [==============================] - 0s 72ms/step\n",
      "1/1 [==============================] - 0s 23ms/step\n"
     ]
    },
    {
     "name": "stderr",
     "output_type": "stream",
     "text": [
      "\u001b[32m2024-02-18 20:56:17\u001b[0m \u001b[35mDESKTOP-RNQKCRT\u001b[0m \u001b[34mroot[2564]\u001b[0m \u001b[1;30mDEBUG\u001b[0m \u001b[32mBuy at: $1218.76\u001b[0m\n"
     ]
    },
    {
     "name": "stdout",
     "output_type": "stream",
     "text": [
      "1/1 [==============================] - 0s 29ms/step\n"
     ]
    },
    {
     "name": "stderr",
     "output_type": "stream",
     "text": [
      "\u001b[32m2024-02-18 20:56:17\u001b[0m \u001b[35mDESKTOP-RNQKCRT\u001b[0m \u001b[34mroot[2564]\u001b[0m \u001b[1;30mDEBUG\u001b[0m \u001b[32mSell at: $1246.52 | Position: +$27.76\u001b[0m\n"
     ]
    },
    {
     "name": "stdout",
     "output_type": "stream",
     "text": [
      "1/1 [==============================] - 0s 28ms/step\n"
     ]
    },
    {
     "name": "stderr",
     "output_type": "stream",
     "text": [
      "\u001b[32m2024-02-18 20:56:17\u001b[0m \u001b[35mDESKTOP-RNQKCRT\u001b[0m \u001b[34mroot[2564]\u001b[0m \u001b[1;30mDEBUG\u001b[0m \u001b[32mBuy at: $1241.39\u001b[0m\n"
     ]
    },
    {
     "name": "stdout",
     "output_type": "stream",
     "text": [
      "1/1 [==============================] - 0s 22ms/step\n"
     ]
    },
    {
     "name": "stderr",
     "output_type": "stream",
     "text": [
      "\u001b[32m2024-02-18 20:56:17\u001b[0m \u001b[35mDESKTOP-RNQKCRT\u001b[0m \u001b[34mroot[2564]\u001b[0m \u001b[1;30mDEBUG\u001b[0m \u001b[32mBuy at: $1225.09\u001b[0m\n"
     ]
    },
    {
     "name": "stdout",
     "output_type": "stream",
     "text": [
      "1/1 [==============================] - 0s 32ms/step\n"
     ]
    },
    {
     "name": "stderr",
     "output_type": "stream",
     "text": [
      "\u001b[32m2024-02-18 20:56:17\u001b[0m \u001b[35mDESKTOP-RNQKCRT\u001b[0m \u001b[34mroot[2564]\u001b[0m \u001b[1;30mDEBUG\u001b[0m \u001b[32mBuy at: $1219.00\u001b[0m\n"
     ]
    },
    {
     "name": "stdout",
     "output_type": "stream",
     "text": [
      "1/1 [==============================] - 0s 27ms/step\n",
      "1/1 [==============================] - 0s 23ms/step\n"
     ]
    },
    {
     "name": "stderr",
     "output_type": "stream",
     "text": [
      "\u001b[32m2024-02-18 20:56:18\u001b[0m \u001b[35mDESKTOP-RNQKCRT\u001b[0m \u001b[34mroot[2564]\u001b[0m \u001b[1;30mDEBUG\u001b[0m \u001b[32mBuy at: $1176.63\u001b[0m\n"
     ]
    },
    {
     "name": "stdout",
     "output_type": "stream",
     "text": [
      "1/1 [==============================] - 0s 24ms/step\n"
     ]
    },
    {
     "name": "stderr",
     "output_type": "stream",
     "text": [
      "\u001b[32m2024-02-18 20:56:18\u001b[0m \u001b[35mDESKTOP-RNQKCRT\u001b[0m \u001b[34mroot[2564]\u001b[0m \u001b[1;30mDEBUG\u001b[0m \u001b[32mBuy at: $1187.83\u001b[0m\n"
     ]
    },
    {
     "name": "stdout",
     "output_type": "stream",
     "text": [
      "1/1 [==============================] - 0s 22ms/step\n"
     ]
    },
    {
     "name": "stderr",
     "output_type": "stream",
     "text": [
      "\u001b[32m2024-02-18 20:56:18\u001b[0m \u001b[35mDESKTOP-RNQKCRT\u001b[0m \u001b[34mroot[2564]\u001b[0m \u001b[1;30mDEBUG\u001b[0m \u001b[32mBuy at: $1209.00\u001b[0m\n"
     ]
    },
    {
     "name": "stdout",
     "output_type": "stream",
     "text": [
      "1/1 [==============================] - 0s 28ms/step\n",
      "1/1 [==============================] - 0s 27ms/step\n",
      "1/1 [==============================] - 0s 21ms/step\n"
     ]
    },
    {
     "name": "stderr",
     "output_type": "stream",
     "text": [
      "\u001b[32m2024-02-18 20:56:18\u001b[0m \u001b[35mDESKTOP-RNQKCRT\u001b[0m \u001b[34mroot[2564]\u001b[0m \u001b[1;30mDEBUG\u001b[0m \u001b[32mBuy at: $1202.31\u001b[0m\n"
     ]
    },
    {
     "name": "stdout",
     "output_type": "stream",
     "text": [
      "1/1 [==============================] - 0s 24ms/step\n"
     ]
    },
    {
     "name": "stderr",
     "output_type": "stream",
     "text": [
      "\u001b[32m2024-02-18 20:56:18\u001b[0m \u001b[35mDESKTOP-RNQKCRT\u001b[0m \u001b[34mroot[2564]\u001b[0m \u001b[1;30mDEBUG\u001b[0m \u001b[32mSell at: $1208.67 | Position: -$32.72\u001b[0m\n"
     ]
    },
    {
     "name": "stdout",
     "output_type": "stream",
     "text": [
      "1/1 [==============================] - 0s 61ms/step\n"
     ]
    },
    {
     "name": "stderr",
     "output_type": "stream",
     "text": [
      "\u001b[32m2024-02-18 20:56:18\u001b[0m \u001b[35mDESKTOP-RNQKCRT\u001b[0m \u001b[34mroot[2564]\u001b[0m \u001b[1;30mDEBUG\u001b[0m \u001b[32mBuy at: $1215.45\u001b[0m\n"
     ]
    },
    {
     "name": "stdout",
     "output_type": "stream",
     "text": [
      "1/1 [==============================] - 0s 23ms/step\n"
     ]
    },
    {
     "name": "stderr",
     "output_type": "stream",
     "text": [
      "\u001b[32m2024-02-18 20:56:18\u001b[0m \u001b[35mDESKTOP-RNQKCRT\u001b[0m \u001b[34mroot[2564]\u001b[0m \u001b[1;30mDEBUG\u001b[0m \u001b[32mSell at: $1217.14 | Position: -$7.95\u001b[0m\n"
     ]
    },
    {
     "name": "stdout",
     "output_type": "stream",
     "text": [
      "1/1 [==============================] - 0s 24ms/step\n"
     ]
    },
    {
     "name": "stderr",
     "output_type": "stream",
     "text": [
      "\u001b[32m2024-02-18 20:56:18\u001b[0m \u001b[35mDESKTOP-RNQKCRT\u001b[0m \u001b[34mroot[2564]\u001b[0m \u001b[1;30mDEBUG\u001b[0m \u001b[32mSell at: $1243.01 | Position: +$24.01\u001b[0m\n"
     ]
    },
    {
     "name": "stdout",
     "output_type": "stream",
     "text": [
      "1/1 [==============================] - 0s 22ms/step\n"
     ]
    },
    {
     "name": "stderr",
     "output_type": "stream",
     "text": [
      "\u001b[32m2024-02-18 20:56:18\u001b[0m \u001b[35mDESKTOP-RNQKCRT\u001b[0m \u001b[34mroot[2564]\u001b[0m \u001b[1;30mDEBUG\u001b[0m \u001b[32mSell at: $1243.64 | Position: +$67.01\u001b[0m\n"
     ]
    },
    {
     "name": "stdout",
     "output_type": "stream",
     "text": [
      "1/1 [==============================] - 0s 25ms/step\n"
     ]
    },
    {
     "name": "stderr",
     "output_type": "stream",
     "text": [
      "\u001b[32m2024-02-18 20:56:18\u001b[0m \u001b[35mDESKTOP-RNQKCRT\u001b[0m \u001b[34mroot[2564]\u001b[0m \u001b[1;30mDEBUG\u001b[0m \u001b[32mSell at: $1253.07 | Position: +$65.24\u001b[0m\n"
     ]
    },
    {
     "name": "stdout",
     "output_type": "stream",
     "text": [
      "1/1 [==============================] - 0s 23ms/step\n"
     ]
    },
    {
     "name": "stderr",
     "output_type": "stream",
     "text": [
      "\u001b[32m2024-02-18 20:56:18\u001b[0m \u001b[35mDESKTOP-RNQKCRT\u001b[0m \u001b[34mroot[2564]\u001b[0m \u001b[1;30mDEBUG\u001b[0m \u001b[32mSell at: $1245.49 | Position: +$36.49\u001b[0m\n"
     ]
    },
    {
     "name": "stdout",
     "output_type": "stream",
     "text": [
      "1/1 [==============================] - 0s 29ms/step\n"
     ]
    },
    {
     "name": "stderr",
     "output_type": "stream",
     "text": [
      "\u001b[32m2024-02-18 20:56:18\u001b[0m \u001b[35mDESKTOP-RNQKCRT\u001b[0m \u001b[34mroot[2564]\u001b[0m \u001b[1;30mDEBUG\u001b[0m \u001b[32mSell at: $1246.15 | Position: +$43.84\u001b[0m\n"
     ]
    },
    {
     "name": "stdout",
     "output_type": "stream",
     "text": [
      "1/1 [==============================] - 0s 21ms/step\n"
     ]
    },
    {
     "name": "stderr",
     "output_type": "stream",
     "text": [
      "\u001b[32m2024-02-18 20:56:19\u001b[0m \u001b[35mDESKTOP-RNQKCRT\u001b[0m \u001b[34mroot[2564]\u001b[0m \u001b[1;30mDEBUG\u001b[0m \u001b[32mSell at: $1242.80 | Position: +$27.35\u001b[0m\n"
     ]
    },
    {
     "name": "stdout",
     "output_type": "stream",
     "text": [
      "1/1 [==============================] - 0s 37ms/step\n",
      "1/1 [==============================] - 0s 25ms/step\n",
      "1/1 [==============================] - 0s 24ms/step\n"
     ]
    },
    {
     "name": "stderr",
     "output_type": "stream",
     "text": [
      "\u001b[32m2024-02-18 20:56:19\u001b[0m \u001b[35mDESKTOP-RNQKCRT\u001b[0m \u001b[34mroot[2564]\u001b[0m \u001b[1;30mDEBUG\u001b[0m \u001b[32mBuy at: $1265.13\u001b[0m\n"
     ]
    },
    {
     "name": "stdout",
     "output_type": "stream",
     "text": [
      "1/1 [==============================] - 0s 30ms/step\n"
     ]
    },
    {
     "name": "stderr",
     "output_type": "stream",
     "text": [
      "\u001b[32m2024-02-18 20:56:19\u001b[0m \u001b[35mDESKTOP-RNQKCRT\u001b[0m \u001b[34mroot[2564]\u001b[0m \u001b[1;30mDEBUG\u001b[0m \u001b[32mSell at: $1290.00 | Position: +$24.87\u001b[0m\n"
     ]
    },
    {
     "name": "stdout",
     "output_type": "stream",
     "text": [
      "1/1 [==============================] - 0s 21ms/step\n",
      "1/1 [==============================] - 0s 28ms/step\n",
      "1/1 [==============================] - 0s 28ms/step\n",
      "1/1 [==============================] - 0s 27ms/step\n"
     ]
    },
    {
     "name": "stderr",
     "output_type": "stream",
     "text": [
      "\u001b[32m2024-02-18 20:56:19\u001b[0m \u001b[35mDESKTOP-RNQKCRT\u001b[0m \u001b[34mroot[2564]\u001b[0m \u001b[1;30mDEBUG\u001b[0m \u001b[32mBuy at: $1273.74\u001b[0m\n"
     ]
    },
    {
     "name": "stdout",
     "output_type": "stream",
     "text": [
      "1/1 [==============================] - 0s 35ms/step\n"
     ]
    },
    {
     "name": "stderr",
     "output_type": "stream",
     "text": [
      "\u001b[32m2024-02-18 20:56:19\u001b[0m \u001b[35mDESKTOP-RNQKCRT\u001b[0m \u001b[34mroot[2564]\u001b[0m \u001b[1;30mDEBUG\u001b[0m \u001b[32mBuy at: $1291.37\u001b[0m\n"
     ]
    },
    {
     "name": "stdout",
     "output_type": "stream",
     "text": [
      "1/1 [==============================] - 0s 31ms/step\n"
     ]
    },
    {
     "name": "stderr",
     "output_type": "stream",
     "text": [
      "\u001b[32m2024-02-18 20:56:19\u001b[0m \u001b[35mDESKTOP-RNQKCRT\u001b[0m \u001b[34mroot[2564]\u001b[0m \u001b[1;30mDEBUG\u001b[0m \u001b[32mBuy at: $1292.03\u001b[0m\n"
     ]
    },
    {
     "name": "stdout",
     "output_type": "stream",
     "text": [
      "1/1 [==============================] - 0s 25ms/step\n"
     ]
    },
    {
     "name": "stderr",
     "output_type": "stream",
     "text": [
      "\u001b[32m2024-02-18 20:56:19\u001b[0m \u001b[35mDESKTOP-RNQKCRT\u001b[0m \u001b[34mroot[2564]\u001b[0m \u001b[1;30mDEBUG\u001b[0m \u001b[32mBuy at: $1291.80\u001b[0m\n"
     ]
    },
    {
     "name": "stdout",
     "output_type": "stream",
     "text": [
      "1/1 [==============================] - 0s 24ms/step\n"
     ]
    },
    {
     "name": "stderr",
     "output_type": "stream",
     "text": [
      "\u001b[32m2024-02-18 20:56:20\u001b[0m \u001b[35mDESKTOP-RNQKCRT\u001b[0m \u001b[34mroot[2564]\u001b[0m \u001b[1;30mDEBUG\u001b[0m \u001b[32mSell at: $1308.86 | Position: +$35.12\u001b[0m\n"
     ]
    },
    {
     "name": "stdout",
     "output_type": "stream",
     "text": [
      "1/1 [==============================] - 0s 24ms/step\n"
     ]
    },
    {
     "name": "stderr",
     "output_type": "stream",
     "text": [
      "\u001b[32m2024-02-18 20:56:20\u001b[0m \u001b[35mDESKTOP-RNQKCRT\u001b[0m \u001b[34mroot[2564]\u001b[0m \u001b[1;30mDEBUG\u001b[0m \u001b[32mSell at: $1311.37 | Position: +$20.00\u001b[0m\n"
     ]
    },
    {
     "name": "stdout",
     "output_type": "stream",
     "text": [
      "1/1 [==============================] - 0s 21ms/step\n"
     ]
    },
    {
     "name": "stderr",
     "output_type": "stream",
     "text": [
      "\u001b[32m2024-02-18 20:56:20\u001b[0m \u001b[35mDESKTOP-RNQKCRT\u001b[0m \u001b[34mroot[2564]\u001b[0m \u001b[1;30mDEBUG\u001b[0m \u001b[32mSell at: $1299.19 | Position: +$7.16\u001b[0m\n"
     ]
    },
    {
     "name": "stdout",
     "output_type": "stream",
     "text": [
      "1/1 [==============================] - 0s 34ms/step\n"
     ]
    },
    {
     "name": "stderr",
     "output_type": "stream",
     "text": [
      "\u001b[32m2024-02-18 20:56:20\u001b[0m \u001b[35mDESKTOP-RNQKCRT\u001b[0m \u001b[34mroot[2564]\u001b[0m \u001b[1;30mDEBUG\u001b[0m \u001b[32mSell at: $1298.80 | Position: +$7.00\u001b[0m\n"
     ]
    },
    {
     "name": "stdout",
     "output_type": "stream",
     "text": [
      "1/1 [==============================] - 0s 43ms/step\n"
     ]
    },
    {
     "name": "stderr",
     "output_type": "stream",
     "text": [
      "\u001b[32m2024-02-18 20:56:20\u001b[0m \u001b[35mDESKTOP-RNQKCRT\u001b[0m \u001b[34mroot[2564]\u001b[0m \u001b[1;30mDEBUG\u001b[0m \u001b[32mBuy at: $1298.00\u001b[0m\n"
     ]
    },
    {
     "name": "stdout",
     "output_type": "stream",
     "text": [
      "1/1 [==============================] - 0s 22ms/step\n"
     ]
    },
    {
     "name": "stderr",
     "output_type": "stream",
     "text": [
      "\u001b[32m2024-02-18 20:56:20\u001b[0m \u001b[35mDESKTOP-RNQKCRT\u001b[0m \u001b[34mroot[2564]\u001b[0m \u001b[1;30mDEBUG\u001b[0m \u001b[32mSell at: $1311.46 | Position: +$13.46\u001b[0m\n"
     ]
    },
    {
     "name": "stdout",
     "output_type": "stream",
     "text": [
      "1/1 [==============================] - 0s 61ms/step\n",
      "1/1 [==============================] - 0s 27ms/step\n"
     ]
    },
    {
     "name": "stderr",
     "output_type": "stream",
     "text": [
      "\u001b[32m2024-02-18 20:56:20\u001b[0m \u001b[35mDESKTOP-RNQKCRT\u001b[0m \u001b[34mroot[2564]\u001b[0m \u001b[1;30mDEBUG\u001b[0m \u001b[32mBuy at: $1320.70\u001b[0m\n"
     ]
    },
    {
     "name": "stdout",
     "output_type": "stream",
     "text": [
      "1/1 [==============================] - 0s 33ms/step\n"
     ]
    },
    {
     "name": "stderr",
     "output_type": "stream",
     "text": [
      "\u001b[32m2024-02-18 20:56:20\u001b[0m \u001b[35mDESKTOP-RNQKCRT\u001b[0m \u001b[34mroot[2564]\u001b[0m \u001b[1;30mDEBUG\u001b[0m \u001b[32mBuy at: $1315.46\u001b[0m\n"
     ]
    },
    {
     "name": "stdout",
     "output_type": "stream",
     "text": [
      "1/1 [==============================] - 0s 32ms/step\n",
      "1/1 [==============================] - 0s 33ms/step\n"
     ]
    },
    {
     "name": "stderr",
     "output_type": "stream",
     "text": [
      "\u001b[32m2024-02-18 20:56:20\u001b[0m \u001b[35mDESKTOP-RNQKCRT\u001b[0m \u001b[34mroot[2564]\u001b[0m \u001b[1;30mDEBUG\u001b[0m \u001b[32mBuy at: $1301.35\u001b[0m\n"
     ]
    },
    {
     "name": "stdout",
     "output_type": "stream",
     "text": [
      "1/1 [==============================] - 0s 29ms/step\n"
     ]
    },
    {
     "name": "stderr",
     "output_type": "stream",
     "text": [
      "\u001b[32m2024-02-18 20:56:20\u001b[0m \u001b[35mDESKTOP-RNQKCRT\u001b[0m \u001b[34mroot[2564]\u001b[0m \u001b[1;30mDEBUG\u001b[0m \u001b[32mBuy at: $1295.34\u001b[0m\n"
     ]
    },
    {
     "name": "stdout",
     "output_type": "stream",
     "text": [
      "1/1 [==============================] - 0s 31ms/step\n"
     ]
    },
    {
     "name": "stderr",
     "output_type": "stream",
     "text": [
      "\u001b[32m2024-02-18 20:56:21\u001b[0m \u001b[35mDESKTOP-RNQKCRT\u001b[0m \u001b[34mroot[2564]\u001b[0m \u001b[1;30mDEBUG\u001b[0m \u001b[32mBuy at: $1306.69\u001b[0m\n"
     ]
    },
    {
     "name": "stdout",
     "output_type": "stream",
     "text": [
      "1/1 [==============================] - 0s 33ms/step\n"
     ]
    },
    {
     "name": "stderr",
     "output_type": "stream",
     "text": [
      "\u001b[32m2024-02-18 20:56:21\u001b[0m \u001b[35mDESKTOP-RNQKCRT\u001b[0m \u001b[34mroot[2564]\u001b[0m \u001b[1;30mDEBUG\u001b[0m \u001b[32mBuy at: $1313.55\u001b[0m\n"
     ]
    },
    {
     "name": "stdout",
     "output_type": "stream",
     "text": [
      "1/1 [==============================] - 0s 29ms/step\n"
     ]
    },
    {
     "name": "stderr",
     "output_type": "stream",
     "text": [
      "\u001b[32m2024-02-18 20:56:21\u001b[0m \u001b[35mDESKTOP-RNQKCRT\u001b[0m \u001b[34mroot[2564]\u001b[0m \u001b[1;30mDEBUG\u001b[0m \u001b[32mBuy at: $1312.99\u001b[0m\n"
     ]
    },
    {
     "name": "stdout",
     "output_type": "stream",
     "text": [
      "1/1 [==============================] - 0s 33ms/step\n"
     ]
    },
    {
     "name": "stderr",
     "output_type": "stream",
     "text": [
      "\u001b[32m2024-02-18 20:56:21\u001b[0m \u001b[35mDESKTOP-RNQKCRT\u001b[0m \u001b[34mroot[2564]\u001b[0m \u001b[1;30mDEBUG\u001b[0m \u001b[32mBuy at: $1304.96\u001b[0m\n"
     ]
    },
    {
     "name": "stdout",
     "output_type": "stream",
     "text": [
      "1/1 [==============================] - 0s 37ms/step\n",
      "1/1 [==============================] - 0s 50ms/step\n",
      "1/1 [==============================] - 0s 25ms/step\n"
     ]
    },
    {
     "name": "stderr",
     "output_type": "stream",
     "text": [
      "\u001b[32m2024-02-18 20:56:21\u001b[0m \u001b[35mDESKTOP-RNQKCRT\u001b[0m \u001b[34mroot[2564]\u001b[0m \u001b[1;30mDEBUG\u001b[0m \u001b[32mBuy at: $1320.54\u001b[0m\n"
     ]
    },
    {
     "name": "stdout",
     "output_type": "stream",
     "text": [
      "1/1 [==============================] - 0s 25ms/step\n"
     ]
    },
    {
     "name": "stderr",
     "output_type": "stream",
     "text": [
      "\u001b[32m2024-02-18 20:56:21\u001b[0m \u001b[35mDESKTOP-RNQKCRT\u001b[0m \u001b[34mroot[2564]\u001b[0m \u001b[1;30mDEBUG\u001b[0m \u001b[32mSell at: $1328.13 | Position: +$7.43\u001b[0m\n"
     ]
    },
    {
     "name": "stdout",
     "output_type": "stream",
     "text": [
      "1/1 [==============================] - 0s 32ms/step\n"
     ]
    },
    {
     "name": "stderr",
     "output_type": "stream",
     "text": [
      "\u001b[32m2024-02-18 20:56:21\u001b[0m \u001b[35mDESKTOP-RNQKCRT\u001b[0m \u001b[34mroot[2564]\u001b[0m \u001b[1;30mDEBUG\u001b[0m \u001b[32mSell at: $1340.62 | Position: +$25.16\u001b[0m\n"
     ]
    },
    {
     "name": "stdout",
     "output_type": "stream",
     "text": [
      "1/1 [==============================] - 0s 25ms/step\n"
     ]
    },
    {
     "name": "stderr",
     "output_type": "stream",
     "text": [
      "\u001b[32m2024-02-18 20:56:21\u001b[0m \u001b[35mDESKTOP-RNQKCRT\u001b[0m \u001b[34mroot[2564]\u001b[0m \u001b[1;30mDEBUG\u001b[0m \u001b[32mSell at: $1343.56 | Position: +$42.21\u001b[0m\n"
     ]
    },
    {
     "name": "stdout",
     "output_type": "stream",
     "text": [
      "1/1 [==============================] - 0s 29ms/step\n"
     ]
    },
    {
     "name": "stderr",
     "output_type": "stream",
     "text": [
      "\u001b[32m2024-02-18 20:56:22\u001b[0m \u001b[35mDESKTOP-RNQKCRT\u001b[0m \u001b[34mroot[2564]\u001b[0m \u001b[1;30mDEBUG\u001b[0m \u001b[32mSell at: $1344.66 | Position: +$49.32\u001b[0m\n"
     ]
    },
    {
     "name": "stdout",
     "output_type": "stream",
     "text": [
      "1/1 [==============================] - 0s 29ms/step\n"
     ]
    },
    {
     "name": "stderr",
     "output_type": "stream",
     "text": [
      "\u001b[32m2024-02-18 20:56:22\u001b[0m \u001b[35mDESKTOP-RNQKCRT\u001b[0m \u001b[34mroot[2564]\u001b[0m \u001b[1;30mDEBUG\u001b[0m \u001b[32mSell at: $1345.02 | Position: +$38.33\u001b[0m\n"
     ]
    },
    {
     "name": "stdout",
     "output_type": "stream",
     "text": [
      "1/1 [==============================] - 0s 29ms/step\n"
     ]
    },
    {
     "name": "stderr",
     "output_type": "stream",
     "text": [
      "\u001b[32m2024-02-18 20:56:22\u001b[0m \u001b[35mDESKTOP-RNQKCRT\u001b[0m \u001b[34mroot[2564]\u001b[0m \u001b[1;30mDEBUG\u001b[0m \u001b[32mSell at: $1350.27 | Position: +$36.72\u001b[0m\n"
     ]
    },
    {
     "name": "stdout",
     "output_type": "stream",
     "text": [
      "1/1 [==============================] - 0s 27ms/step\n"
     ]
    },
    {
     "name": "stderr",
     "output_type": "stream",
     "text": [
      "\u001b[32m2024-02-18 20:56:22\u001b[0m \u001b[35mDESKTOP-RNQKCRT\u001b[0m \u001b[34mroot[2564]\u001b[0m \u001b[1;30mDEBUG\u001b[0m \u001b[32mSell at: $1347.83 | Position: +$34.84\u001b[0m\n"
     ]
    },
    {
     "name": "stdout",
     "output_type": "stream",
     "text": [
      "1/1 [==============================] - 0s 25ms/step\n"
     ]
    },
    {
     "name": "stderr",
     "output_type": "stream",
     "text": [
      "\u001b[32m2024-02-18 20:56:22\u001b[0m \u001b[35mDESKTOP-RNQKCRT\u001b[0m \u001b[34mroot[2564]\u001b[0m \u001b[1;30mDEBUG\u001b[0m \u001b[32mSell at: $1361.17 | Position: +$56.21\u001b[0m\n"
     ]
    },
    {
     "name": "stdout",
     "output_type": "stream",
     "text": [
      "1/1 [==============================] - 0s 27ms/step\n"
     ]
    },
    {
     "name": "stderr",
     "output_type": "stream",
     "text": [
      "\u001b[32m2024-02-18 20:56:22\u001b[0m \u001b[35mDESKTOP-RNQKCRT\u001b[0m \u001b[34mroot[2564]\u001b[0m \u001b[1;30mDEBUG\u001b[0m \u001b[32mSell at: $1355.12 | Position: +$34.58\u001b[0m\n"
     ]
    },
    {
     "name": "stdout",
     "output_type": "stream",
     "text": [
      "1/1 [==============================] - 0s 25ms/step\n"
     ]
    },
    {
     "name": "stderr",
     "output_type": "stream",
     "text": [
      "\u001b[32m2024-02-18 20:56:22\u001b[0m \u001b[35mDESKTOP-RNQKCRT\u001b[0m \u001b[34mroot[2564]\u001b[0m \u001b[1;30mDEBUG\u001b[0m \u001b[32mBuy at: $1352.62\u001b[0m\n"
     ]
    },
    {
     "name": "stdout",
     "output_type": "stream",
     "text": [
      "1/1 [==============================] - 0s 26ms/step\n"
     ]
    },
    {
     "name": "stderr",
     "output_type": "stream",
     "text": [
      "\u001b[32m2024-02-18 20:56:22\u001b[0m \u001b[35mDESKTOP-RNQKCRT\u001b[0m \u001b[34mroot[2564]\u001b[0m \u001b[1;30mDEBUG\u001b[0m \u001b[32mSell at: $1356.04 | Position: +$3.42\u001b[0m\n"
     ]
    },
    {
     "name": "stdout",
     "output_type": "stream",
     "text": [
      "1/1 [==============================] - 0s 51ms/step\n",
      "1/1 [==============================] - 0s 28ms/step\n",
      "1/1 [==============================] - 0s 30ms/step\n"
     ]
    },
    {
     "name": "stderr",
     "output_type": "stream",
     "text": [
      "\u001b[32m2024-02-18 20:56:22\u001b[0m \u001b[35mDESKTOP-RNQKCRT\u001b[0m \u001b[34mroot[2564]\u001b[0m \u001b[1;30mDEBUG\u001b[0m \u001b[32mBuy at: $1343.56\u001b[0m\n"
     ]
    },
    {
     "name": "stdout",
     "output_type": "stream",
     "text": [
      "1/1 [==============================] - 0s 28ms/step\n"
     ]
    },
    {
     "name": "stderr",
     "output_type": "stream",
     "text": [
      "\u001b[32m2024-02-18 20:56:23\u001b[0m \u001b[35mDESKTOP-RNQKCRT\u001b[0m \u001b[34mroot[2564]\u001b[0m \u001b[1;30mDEBUG\u001b[0m \u001b[32mSell at: $1360.40 | Position: +$16.84\u001b[0m\n"
     ]
    },
    {
     "name": "stdout",
     "output_type": "stream",
     "text": [
      "1/1 [==============================] - 0s 24ms/step\n"
     ]
    },
    {
     "name": "stderr",
     "output_type": "stream",
     "text": [
      "\u001b[32m2024-02-18 20:56:23\u001b[0m \u001b[35mDESKTOP-RNQKCRT\u001b[0m \u001b[34mroot[2564]\u001b[0m \u001b[1;30mDEBUG\u001b[0m \u001b[32mBuy at: $1351.89\u001b[0m\n",
      "\u001b[32m2024-02-18 20:56:23\u001b[0m \u001b[35mDESKTOP-RNQKCRT\u001b[0m \u001b[34mroot[2564]\u001b[0m \u001b[1;30mINFO\u001b[0m model_t-dqn_GOOG_10: +$2480.37\n",
      "\n"
     ]
    }
   ],
   "source": [
    "import logging\n",
    "import coloredlogs\n",
    "\n",
    "from trading_bot.utils import show_eval_result, switch_k_backend_device, get_stock_data\n",
    "from trading_bot.methods import evaluate_model\n",
    "\n",
    "coloredlogs.install(level='DEBUG')\n",
    "switch_k_backend_device()\n",
    "\n",
    "test_data = get_stock_data(test_stock)\n",
    "initial_offset = test_data[1] - test_data[0]\n",
    "\n",
    "test_result, history = evaluate_model(agent, test_data, window_size, debug)\n",
    "show_eval_result(model_name, test_result, initial_offset)"
   ]
  },
  {
   "cell_type": "markdown",
   "metadata": {},
   "source": [
    "### 4. Visualize"
   ]
  },
  {
   "cell_type": "code",
   "execution_count": 9,
   "metadata": {},
   "outputs": [],
   "source": [
    "def visualize(df, history, title=\"trading session\"):\n",
    "    # add history to dataframe\n",
    "    position = [history[0][0]] + [x[0] for x in history]\n",
    "    actions = ['HOLD'] + [x[1] for x in history]\n",
    "    df['position'] = position\n",
    "    df['action'] = actions\n",
    "    \n",
    "    # specify y-axis scale for stock prices\n",
    "    scale = alt.Scale(domain=(min(min(df['actual']), min(df['position'])) - 50, max(max(df['actual']), max(df['position'])) + 50), clamp=True)\n",
    "    \n",
    "    # plot a line chart for stock positions\n",
    "    actual = alt.Chart(df).mark_line(\n",
    "        color='green',\n",
    "        opacity=0.5\n",
    "    ).encode(\n",
    "        x='date:T',\n",
    "        y=alt.Y('position', axis=alt.Axis(format='$.2f', title='Price'), scale=scale)\n",
    "    ).interactive(\n",
    "        bind_y=False\n",
    "    )\n",
    "    \n",
    "    # plot the BUY and SELL actions as points\n",
    "    points = alt.Chart(df).transform_filter(\n",
    "        alt.datum.action != 'HOLD'\n",
    "    ).mark_point(\n",
    "        filled=True\n",
    "    ).encode(\n",
    "        x=alt.X('date:T', axis=alt.Axis(title='Date')),\n",
    "        y=alt.Y('position', axis=alt.Axis(format='$.2f', title='Price'), scale=scale),\n",
    "        color='action'\n",
    "    ).interactive(bind_y=False)\n",
    "\n",
    "    # merge the two charts\n",
    "    chart = alt.layer(actual, points, title=title).properties(height=300, width=1000)\n",
    "    \n",
    "    return chart"
   ]
  },
  {
   "cell_type": "code",
   "execution_count": 10,
   "metadata": {},
   "outputs": [
    {
     "data": {
      "text/html": [
       "\n",
       "<style>\n",
       "  #altair-viz-31f34538cc2c4c20891cfb4abda6bc5c.vega-embed {\n",
       "    width: 100%;\n",
       "    display: flex;\n",
       "  }\n",
       "\n",
       "  #altair-viz-31f34538cc2c4c20891cfb4abda6bc5c.vega-embed details,\n",
       "  #altair-viz-31f34538cc2c4c20891cfb4abda6bc5c.vega-embed details summary {\n",
       "    position: relative;\n",
       "  }\n",
       "</style>\n",
       "<div id=\"altair-viz-31f34538cc2c4c20891cfb4abda6bc5c\"></div>\n",
       "<script type=\"text/javascript\">\n",
       "  var VEGA_DEBUG = (typeof VEGA_DEBUG == \"undefined\") ? {} : VEGA_DEBUG;\n",
       "  (function(spec, embedOpt){\n",
       "    let outputDiv = document.currentScript.previousElementSibling;\n",
       "    if (outputDiv.id !== \"altair-viz-31f34538cc2c4c20891cfb4abda6bc5c\") {\n",
       "      outputDiv = document.getElementById(\"altair-viz-31f34538cc2c4c20891cfb4abda6bc5c\");\n",
       "    }\n",
       "    const paths = {\n",
       "      \"vega\": \"https://cdn.jsdelivr.net/npm/vega@5?noext\",\n",
       "      \"vega-lib\": \"https://cdn.jsdelivr.net/npm/vega-lib?noext\",\n",
       "      \"vega-lite\": \"https://cdn.jsdelivr.net/npm/vega-lite@5.16.3?noext\",\n",
       "      \"vega-embed\": \"https://cdn.jsdelivr.net/npm/vega-embed@6?noext\",\n",
       "    };\n",
       "\n",
       "    function maybeLoadScript(lib, version) {\n",
       "      var key = `${lib.replace(\"-\", \"\")}_version`;\n",
       "      return (VEGA_DEBUG[key] == version) ?\n",
       "        Promise.resolve(paths[lib]) :\n",
       "        new Promise(function(resolve, reject) {\n",
       "          var s = document.createElement('script');\n",
       "          document.getElementsByTagName(\"head\")[0].appendChild(s);\n",
       "          s.async = true;\n",
       "          s.onload = () => {\n",
       "            VEGA_DEBUG[key] = version;\n",
       "            return resolve(paths[lib]);\n",
       "          };\n",
       "          s.onerror = () => reject(`Error loading script: ${paths[lib]}`);\n",
       "          s.src = paths[lib];\n",
       "        });\n",
       "    }\n",
       "\n",
       "    function showError(err) {\n",
       "      outputDiv.innerHTML = `<div class=\"error\" style=\"color:red;\">${err}</div>`;\n",
       "      throw err;\n",
       "    }\n",
       "\n",
       "    function displayChart(vegaEmbed) {\n",
       "      vegaEmbed(outputDiv, spec, embedOpt)\n",
       "        .catch(err => showError(`Javascript Error: ${err.message}<br>This usually means there's a typo in your chart specification. See the javascript console for the full traceback.`));\n",
       "    }\n",
       "\n",
       "    if(typeof define === \"function\" && define.amd) {\n",
       "      requirejs.config({paths});\n",
       "      require([\"vega-embed\"], displayChart, err => showError(`Error loading script: ${err.message}`));\n",
       "    } else {\n",
       "      maybeLoadScript(\"vega\", \"5\")\n",
       "        .then(() => maybeLoadScript(\"vega-lite\", \"5.16.3\"))\n",
       "        .then(() => maybeLoadScript(\"vega-embed\", \"6\"))\n",
       "        .catch(showError)\n",
       "        .then(() => displayChart(vegaEmbed));\n",
       "    }\n",
       "  })({\"config\": {\"view\": {\"continuousWidth\": 300, \"continuousHeight\": 300}}, \"layer\": [{\"mark\": {\"type\": \"line\", \"color\": \"green\", \"opacity\": 0.5}, \"encoding\": {\"x\": {\"field\": \"date\", \"type\": \"temporal\"}, \"y\": {\"axis\": {\"format\": \"$.2f\", \"title\": \"Price\"}, \"field\": \"position\", \"scale\": {\"clamp\": true, \"domain\": [58.70368194580078, 192.35000610351562]}, \"type\": \"quantitative\"}}, \"name\": \"view_1\"}, {\"mark\": {\"type\": \"point\", \"filled\": true}, \"encoding\": {\"color\": {\"field\": \"action\", \"type\": \"nominal\"}, \"x\": {\"axis\": {\"title\": \"Date\"}, \"field\": \"date\", \"type\": \"temporal\"}, \"y\": {\"axis\": {\"format\": \"$.2f\", \"title\": \"Price\"}, \"field\": \"position\", \"scale\": {\"clamp\": true, \"domain\": [58.70368194580078, 192.35000610351562]}, \"type\": \"quantitative\"}}, \"name\": \"view_2\", \"transform\": [{\"filter\": \"(datum.action !== 'HOLD')\"}]}], \"data\": {\"name\": \"data-9e46ba22ad2a1b8e3f44d272eede07da\"}, \"height\": 300, \"params\": [{\"name\": \"param_1\", \"select\": {\"type\": \"interval\", \"encodings\": [\"x\"]}, \"bind\": \"scales\", \"views\": [\"view_1\"]}, {\"name\": \"param_2\", \"select\": {\"type\": \"interval\", \"encodings\": [\"x\"]}, \"bind\": \"scales\", \"views\": [\"view_2\"]}], \"title\": \"data/EA_2023.csv\", \"width\": 1000, \"$schema\": \"https://vega.github.io/schema/vega-lite/v5.16.3.json\", \"datasets\": {\"data-9e46ba22ad2a1b8e3f44d272eede07da\": [{\"date\": \"2023-01-03T00:00:00\", \"actual\": 122.0439682006836, \"position\": 122.0439682006836, \"action\": \"HOLD\"}, {\"date\": \"2023-01-04T00:00:00\", \"actual\": 124.24037170410156, \"position\": 122.0439682006836, \"action\": \"BUY\"}, {\"date\": \"2023-01-05T00:00:00\", \"actual\": 123.91240692138672, \"position\": 124.24037170410156, \"action\": \"BUY\"}, {\"date\": \"2023-01-06T00:00:00\", \"actual\": 123.12726593017578, \"position\": 123.91240692138672, \"action\": \"SELL\"}, {\"date\": \"2023-01-09T00:00:00\", \"actual\": 123.4055404663086, \"position\": 123.12726593017578, \"action\": \"SELL\"}, {\"date\": \"2023-01-10T00:00:00\", \"actual\": 123.25645446777344, \"position\": 123.4055404663086, \"action\": \"HOLD\"}, {\"date\": \"2023-01-11T00:00:00\", \"actual\": 125.33360290527344, \"position\": 123.25645446777344, \"action\": \"HOLD\"}, {\"date\": \"2023-01-12T00:00:00\", \"actual\": 125.64167785644533, \"position\": 125.33360290527344, \"action\": \"HOLD\"}, {\"date\": \"2023-01-13T00:00:00\", \"actual\": 124.6875991821289, \"position\": 125.64167785644533, \"action\": \"HOLD\"}, {\"date\": \"2023-01-17T00:00:00\", \"actual\": 122.9384307861328, \"position\": 124.6875991821289, \"action\": \"HOLD\"}, {\"date\": \"2023-01-18T00:00:00\", \"actual\": 122.9483642578125, \"position\": 122.9384307861328, \"action\": \"HOLD\"}, {\"date\": \"2023-01-19T00:00:00\", \"actual\": 122.95830535888672, \"position\": 122.9483642578125, \"action\": \"HOLD\"}, {\"date\": \"2023-01-20T00:00:00\", \"actual\": 125.21432495117188, \"position\": 122.95830535888672, \"action\": \"HOLD\"}, {\"date\": \"2023-01-23T00:00:00\", \"actual\": 126.6255874633789, \"position\": 125.21432495117188, \"action\": \"HOLD\"}, {\"date\": \"2023-01-24T00:00:00\", \"actual\": 126.7051010131836, \"position\": 126.6255874633789, \"action\": \"HOLD\"}, {\"date\": \"2023-01-25T00:00:00\", \"actual\": 126.77466583251952, \"position\": 126.7051010131836, \"action\": \"HOLD\"}, {\"date\": \"2023-01-26T00:00:00\", \"actual\": 128.34495544433594, \"position\": 126.77466583251952, \"action\": \"HOLD\"}, {\"date\": \"2023-01-27T00:00:00\", \"actual\": 128.07659912109375, \"position\": 128.34495544433594, \"action\": \"HOLD\"}, {\"date\": \"2023-01-30T00:00:00\", \"actual\": 128.19586181640625, \"position\": 128.07659912109375, \"action\": \"HOLD\"}, {\"date\": \"2023-01-31T00:00:00\", \"actual\": 127.88777160644533, \"position\": 128.19586181640625, \"action\": \"HOLD\"}, {\"date\": \"2023-02-01T00:00:00\", \"actual\": 116.04116821289062, \"position\": 127.88777160644533, \"action\": \"HOLD\"}, {\"date\": \"2023-02-02T00:00:00\", \"actual\": 115.2759017944336, \"position\": 116.04116821289062, \"action\": \"BUY\"}, {\"date\": \"2023-02-03T00:00:00\", \"actual\": 113.21864318847656, \"position\": 115.2759017944336, \"action\": \"BUY\"}, {\"date\": \"2023-02-06T00:00:00\", \"actual\": 111.49929809570312, \"position\": 113.21864318847656, \"action\": \"BUY\"}, {\"date\": \"2023-02-07T00:00:00\", \"actual\": 113.47705078125, \"position\": 111.49929809570312, \"action\": \"BUY\"}, {\"date\": \"2023-02-08T00:00:00\", \"actual\": 112.0061492919922, \"position\": 113.47705078125, \"action\": \"BUY\"}, {\"date\": \"2023-02-09T00:00:00\", \"actual\": 111.10175323486328, \"position\": 112.0061492919922, \"action\": \"HOLD\"}, {\"date\": \"2023-02-10T00:00:00\", \"actual\": 111.1116943359375, \"position\": 111.10175323486328, \"action\": \"BUY\"}, {\"date\": \"2023-02-13T00:00:00\", \"actual\": 112.5030746459961, \"position\": 111.1116943359375, \"action\": \"BUY\"}, {\"date\": \"2023-02-14T00:00:00\", \"actual\": 111.55892181396484, \"position\": 112.5030746459961, \"action\": \"BUY\"}, {\"date\": \"2023-02-15T00:00:00\", \"actual\": 112.6422119140625, \"position\": 111.55892181396484, \"action\": \"SELL\"}, {\"date\": \"2023-02-16T00:00:00\", \"actual\": 111.03218841552734, \"position\": 112.6422119140625, \"action\": \"BUY\"}, {\"date\": \"2023-02-17T00:00:00\", \"actual\": 111.31046295166016, \"position\": 111.03218841552734, \"action\": \"HOLD\"}, {\"date\": \"2023-02-21T00:00:00\", \"actual\": 111.33033752441406, \"position\": 111.31046295166016, \"action\": \"SELL\"}, {\"date\": \"2023-02-22T00:00:00\", \"actual\": 111.05206298828124, \"position\": 111.33033752441406, \"action\": \"SELL\"}, {\"date\": \"2023-02-23T00:00:00\", \"actual\": 110.03834533691406, \"position\": 111.05206298828124, \"action\": \"SELL\"}, {\"date\": \"2023-02-24T00:00:00\", \"actual\": 109.09418487548828, \"position\": 110.03834533691406, \"action\": \"SELL\"}, {\"date\": \"2023-02-27T00:00:00\", \"actual\": 110.40605926513672, \"position\": 109.09418487548828, \"action\": \"SELL\"}, {\"date\": \"2023-02-28T00:00:00\", \"actual\": 110.44588470458984, \"position\": 110.40605926513672, \"action\": \"SELL\"}, {\"date\": \"2023-03-01T00:00:00\", \"actual\": 109.91825103759766, \"position\": 110.44588470458984, \"action\": \"SELL\"}, {\"date\": \"2023-03-02T00:00:00\", \"actual\": 111.78987121582033, \"position\": 109.91825103759766, \"action\": \"BUY\"}, {\"date\": \"2023-03-03T00:00:00\", \"actual\": 112.6460418701172, \"position\": 111.78987121582033, \"action\": \"HOLD\"}, {\"date\": \"2023-03-06T00:00:00\", \"actual\": 112.68586730957033, \"position\": 112.6460418701172, \"action\": \"SELL\"}, {\"date\": \"2023-03-07T00:00:00\", \"actual\": 111.64054107666016, \"position\": 112.68586730957033, \"action\": \"SELL\"}, {\"date\": \"2023-03-08T00:00:00\", \"actual\": 111.77991485595705, \"position\": 111.64054107666016, \"action\": \"HOLD\"}, {\"date\": \"2023-03-09T00:00:00\", \"actual\": 109.968017578125, \"position\": 111.77991485595705, \"action\": \"HOLD\"}, {\"date\": \"2023-03-10T00:00:00\", \"actual\": 108.70368194580078, \"position\": 109.968017578125, \"action\": \"BUY\"}, {\"date\": \"2023-03-13T00:00:00\", \"actual\": 109.57976531982422, \"position\": 108.70368194580078, \"action\": \"SELL\"}, {\"date\": \"2023-03-14T00:00:00\", \"actual\": 110.98348999023438, \"position\": 109.57976531982422, \"action\": \"HOLD\"}, {\"date\": \"2023-03-15T00:00:00\", \"actual\": 110.88392639160156, \"position\": 110.98348999023438, \"action\": \"HOLD\"}, {\"date\": \"2023-03-16T00:00:00\", \"actual\": 113.02434539794922, \"position\": 110.88392639160156, \"action\": \"BUY\"}, {\"date\": \"2023-03-17T00:00:00\", \"actual\": 112.84514617919922, \"position\": 113.02434539794922, \"action\": \"SELL\"}, {\"date\": \"2023-03-20T00:00:00\", \"actual\": 113.01438903808594, \"position\": 112.84514617919922, \"action\": \"HOLD\"}, {\"date\": \"2023-03-21T00:00:00\", \"actual\": 114.4280776977539, \"position\": 113.01438903808594, \"action\": \"HOLD\"}, {\"date\": \"2023-03-22T00:00:00\", \"actual\": 112.65599822998048, \"position\": 114.4280776977539, \"action\": \"HOLD\"}, {\"date\": \"2023-03-23T00:00:00\", \"actual\": 115.5231704711914, \"position\": 112.65599822998048, \"action\": \"HOLD\"}, {\"date\": \"2023-03-24T00:00:00\", \"actual\": 118.4998550415039, \"position\": 115.5231704711914, \"action\": \"HOLD\"}, {\"date\": \"2023-03-27T00:00:00\", \"actual\": 118.11158752441406, \"position\": 118.4998550415039, \"action\": \"HOLD\"}, {\"date\": \"2023-03-28T00:00:00\", \"actual\": 117.49434661865234, \"position\": 118.11158752441406, \"action\": \"HOLD\"}, {\"date\": \"2023-03-29T00:00:00\", \"actual\": 118.65914154052734, \"position\": 117.49434661865234, \"action\": \"BUY\"}, {\"date\": \"2023-03-30T00:00:00\", \"actual\": 118.56954193115234, \"position\": 118.65914154052734, \"action\": \"SELL\"}, {\"date\": \"2023-03-31T00:00:00\", \"actual\": 119.91352081298828, \"position\": 118.56954193115234, \"action\": \"HOLD\"}, {\"date\": \"2023-04-03T00:00:00\", \"actual\": 120.80951690673828, \"position\": 119.91352081298828, \"action\": \"HOLD\"}, {\"date\": \"2023-04-04T00:00:00\", \"actual\": 124.68218994140624, \"position\": 120.80951690673828, \"action\": \"HOLD\"}, {\"date\": \"2023-04-05T00:00:00\", \"actual\": 125.588134765625, \"position\": 124.68218994140624, \"action\": \"HOLD\"}, {\"date\": \"2023-04-06T00:00:00\", \"actual\": 124.6025619506836, \"position\": 125.588134765625, \"action\": \"HOLD\"}, {\"date\": \"2023-04-10T00:00:00\", \"actual\": 125.0605010986328, \"position\": 124.6025619506836, \"action\": \"HOLD\"}, {\"date\": \"2023-04-11T00:00:00\", \"actual\": 125.12023162841795, \"position\": 125.0605010986328, \"action\": \"HOLD\"}, {\"date\": \"2023-04-12T00:00:00\", \"actual\": 125.56822204589844, \"position\": 125.12023162841795, \"action\": \"HOLD\"}, {\"date\": \"2023-04-13T00:00:00\", \"actual\": 127.70866394042967, \"position\": 125.56822204589844, \"action\": \"HOLD\"}, {\"date\": \"2023-04-14T00:00:00\", \"actual\": 127.30048370361328, \"position\": 127.70866394042967, \"action\": \"HOLD\"}, {\"date\": \"2023-04-17T00:00:00\", \"actual\": 127.5095443725586, \"position\": 127.30048370361328, \"action\": \"HOLD\"}, {\"date\": \"2023-04-18T00:00:00\", \"actual\": 128.4652557373047, \"position\": 127.5095443725586, \"action\": \"BUY\"}, {\"date\": \"2023-04-19T00:00:00\", \"actual\": 127.60909271240234, \"position\": 128.4652557373047, \"action\": \"SELL\"}, {\"date\": \"2023-04-20T00:00:00\", \"actual\": 128.22634887695312, \"position\": 127.60909271240234, \"action\": \"HOLD\"}, {\"date\": \"2023-04-21T00:00:00\", \"actual\": 128.5349578857422, \"position\": 128.22634887695312, \"action\": \"HOLD\"}, {\"date\": \"2023-04-24T00:00:00\", \"actual\": 128.90330505371094, \"position\": 128.5349578857422, \"action\": \"HOLD\"}, {\"date\": \"2023-04-25T00:00:00\", \"actual\": 128.9232177734375, \"position\": 128.90330505371094, \"action\": \"HOLD\"}, {\"date\": \"2023-04-26T00:00:00\", \"actual\": 124.56272888183594, \"position\": 128.9232177734375, \"action\": \"HOLD\"}, {\"date\": \"2023-04-27T00:00:00\", \"actual\": 125.94654083251952, \"position\": 124.56272888183594, \"action\": \"HOLD\"}, {\"date\": \"2023-04-28T00:00:00\", \"actual\": 126.7131118774414, \"position\": 125.94654083251952, \"action\": \"HOLD\"}, {\"date\": \"2023-05-01T00:00:00\", \"actual\": 126.85247802734376, \"position\": 126.7131118774414, \"action\": \"HOLD\"}, {\"date\": \"2023-05-02T00:00:00\", \"actual\": 125.5980987548828, \"position\": 126.85247802734376, \"action\": \"HOLD\"}, {\"date\": \"2023-05-03T00:00:00\", \"actual\": 124.51294708251952, \"position\": 125.5980987548828, \"action\": \"BUY\"}, {\"date\": \"2023-05-04T00:00:00\", \"actual\": 123.45767211914062, \"position\": 124.51294708251952, \"action\": \"BUY\"}, {\"date\": \"2023-05-05T00:00:00\", \"actual\": 124.86139678955078, \"position\": 123.45767211914062, \"action\": \"BUY\"}, {\"date\": \"2023-05-08T00:00:00\", \"actual\": 125.19988250732422, \"position\": 124.86139678955078, \"action\": \"BUY\"}, {\"date\": \"2023-05-09T00:00:00\", \"actual\": 124.8514404296875, \"position\": 125.19988250732422, \"action\": \"SELL\"}, {\"date\": \"2023-05-10T00:00:00\", \"actual\": 124.1844253540039, \"position\": 124.8514404296875, \"action\": \"BUY\"}, {\"date\": \"2023-05-11T00:00:00\", \"actual\": 124.7618408203125, \"position\": 124.1844253540039, \"action\": \"BUY\"}, {\"date\": \"2023-05-12T00:00:00\", \"actual\": 124.9111785888672, \"position\": 124.7618408203125, \"action\": \"SELL\"}, {\"date\": \"2023-05-15T00:00:00\", \"actual\": 124.28397369384766, \"position\": 124.9111785888672, \"action\": \"SELL\"}, {\"date\": \"2023-05-16T00:00:00\", \"actual\": 124.56272888183594, \"position\": 124.28397369384766, \"action\": \"HOLD\"}, {\"date\": \"2023-05-17T00:00:00\", \"actual\": 124.36361694335938, \"position\": 124.56272888183594, \"action\": \"SELL\"}, {\"date\": \"2023-05-18T00:00:00\", \"actual\": 125.64788055419922, \"position\": 124.36361694335938, \"action\": \"SELL\"}, {\"date\": \"2023-05-19T00:00:00\", \"actual\": 125.10032653808594, \"position\": 125.64788055419922, \"action\": \"SELL\"}, {\"date\": \"2023-05-22T00:00:00\", \"actual\": 124.56272888183594, \"position\": 125.10032653808594, \"action\": \"HOLD\"}, {\"date\": \"2023-05-23T00:00:00\", \"actual\": 124.73197174072266, \"position\": 124.56272888183594, \"action\": \"HOLD\"}, {\"date\": \"2023-05-24T00:00:00\", \"actual\": 124.84147644042967, \"position\": 124.73197174072266, \"action\": \"HOLD\"}, {\"date\": \"2023-05-25T00:00:00\", \"actual\": 124.84147644042967, \"position\": 124.84147644042967, \"action\": \"HOLD\"}, {\"date\": \"2023-05-26T00:00:00\", \"actual\": 126.2352523803711, \"position\": 124.84147644042967, \"action\": \"HOLD\"}, {\"date\": \"2023-05-30T00:00:00\", \"actual\": 126.10562896728516, \"position\": 126.2352523803711, \"action\": \"BUY\"}, {\"date\": \"2023-05-31T00:00:00\", \"actual\": 127.62113189697266, \"position\": 126.10562896728516, \"action\": \"BUY\"}, {\"date\": \"2023-06-01T00:00:00\", \"actual\": 127.31204986572266, \"position\": 127.62113189697266, \"action\": \"SELL\"}, {\"date\": \"2023-06-02T00:00:00\", \"actual\": 127.29209899902344, \"position\": 127.31204986572266, \"action\": \"SELL\"}, {\"date\": \"2023-06-05T00:00:00\", \"actual\": 126.64402770996094, \"position\": 127.29209899902344, \"action\": \"HOLD\"}, {\"date\": \"2023-06-06T00:00:00\", \"actual\": 126.76367950439452, \"position\": 126.64402770996094, \"action\": \"HOLD\"}, {\"date\": \"2023-06-07T00:00:00\", \"actual\": 125.86634063720705, \"position\": 126.76367950439452, \"action\": \"HOLD\"}, {\"date\": \"2023-06-08T00:00:00\", \"actual\": 126.7337646484375, \"position\": 125.86634063720705, \"action\": \"HOLD\"}, {\"date\": \"2023-06-09T00:00:00\", \"actual\": 125.56723022460938, \"position\": 126.7337646484375, \"action\": \"HOLD\"}, {\"date\": \"2023-06-12T00:00:00\", \"actual\": 125.38776397705078, \"position\": 125.56723022460938, \"action\": \"HOLD\"}, {\"date\": \"2023-06-13T00:00:00\", \"actual\": 126.94314575195312, \"position\": 125.38776397705078, \"action\": \"HOLD\"}, {\"date\": \"2023-06-14T00:00:00\", \"actual\": 127.52143096923828, \"position\": 126.94314575195312, \"action\": \"HOLD\"}, {\"date\": \"2023-06-15T00:00:00\", \"actual\": 128.6082000732422, \"position\": 127.52143096923828, \"action\": \"HOLD\"}, {\"date\": \"2023-06-16T00:00:00\", \"actual\": 128.2791748046875, \"position\": 128.6082000732422, \"action\": \"HOLD\"}, {\"date\": \"2023-06-20T00:00:00\", \"actual\": 126.0358428955078, \"position\": 128.2791748046875, \"action\": \"HOLD\"}, {\"date\": \"2023-06-21T00:00:00\", \"actual\": 124.20128631591795, \"position\": 126.0358428955078, \"action\": \"HOLD\"}, {\"date\": \"2023-06-22T00:00:00\", \"actual\": 125.07867431640624, \"position\": 124.20128631591795, \"action\": \"HOLD\"}, {\"date\": \"2023-06-23T00:00:00\", \"actual\": 124.87926483154295, \"position\": 125.07867431640624, \"action\": \"HOLD\"}, {\"date\": \"2023-06-26T00:00:00\", \"actual\": 126.2950668334961, \"position\": 124.87926483154295, \"action\": \"HOLD\"}, {\"date\": \"2023-06-27T00:00:00\", \"actual\": 130.99111938476562, \"position\": 126.2950668334961, \"action\": \"HOLD\"}, {\"date\": \"2023-06-28T00:00:00\", \"actual\": 130.2732696533203, \"position\": 130.99111938476562, \"action\": \"HOLD\"}, {\"date\": \"2023-06-29T00:00:00\", \"actual\": 130.06387329101562, \"position\": 130.2732696533203, \"action\": \"HOLD\"}, {\"date\": \"2023-06-30T00:00:00\", \"actual\": 129.31610107421875, \"position\": 130.06387329101562, \"action\": \"HOLD\"}, {\"date\": \"2023-07-03T00:00:00\", \"actual\": 130.48263549804688, \"position\": 129.31610107421875, \"action\": \"HOLD\"}, {\"date\": \"2023-07-05T00:00:00\", \"actual\": 129.50552368164062, \"position\": 130.48263549804688, \"action\": \"HOLD\"}, {\"date\": \"2023-07-06T00:00:00\", \"actual\": 130.31314086914062, \"position\": 129.50552368164062, \"action\": \"HOLD\"}, {\"date\": \"2023-07-07T00:00:00\", \"actual\": 128.8175811767578, \"position\": 130.31314086914062, \"action\": \"HOLD\"}, {\"date\": \"2023-07-10T00:00:00\", \"actual\": 130.1536102294922, \"position\": 128.8175811767578, \"action\": \"BUY\"}, {\"date\": \"2023-07-11T00:00:00\", \"actual\": 136.92352294921875, \"position\": 130.1536102294922, \"action\": \"BUY\"}, {\"date\": \"2023-07-12T00:00:00\", \"actual\": 135.06903076171875, \"position\": 136.92352294921875, \"action\": \"SELL\"}, {\"date\": \"2023-07-13T00:00:00\", \"actual\": 136.30535888671875, \"position\": 135.06903076171875, \"action\": \"SELL\"}, {\"date\": \"2023-07-14T00:00:00\", \"actual\": 136.93348693847656, \"position\": 136.30535888671875, \"action\": \"HOLD\"}, {\"date\": \"2023-07-17T00:00:00\", \"actual\": 137.84080505371094, \"position\": 136.93348693847656, \"action\": \"HOLD\"}, {\"date\": \"2023-07-18T00:00:00\", \"actual\": 138.4589385986328, \"position\": 137.84080505371094, \"action\": \"HOLD\"}, {\"date\": \"2023-07-19T00:00:00\", \"actual\": 136.43495178222656, \"position\": 138.4589385986328, \"action\": \"BUY\"}, {\"date\": \"2023-07-20T00:00:00\", \"actual\": 136.72410583496094, \"position\": 136.43495178222656, \"action\": \"HOLD\"}, {\"date\": \"2023-07-21T00:00:00\", \"actual\": 136.654296875, \"position\": 136.72410583496094, \"action\": \"SELL\"}, {\"date\": \"2023-07-24T00:00:00\", \"actual\": 137.35223388671875, \"position\": 136.654296875, \"action\": \"HOLD\"}, {\"date\": \"2023-07-25T00:00:00\", \"actual\": 139.15689086914062, \"position\": 137.35223388671875, \"action\": \"HOLD\"}, {\"date\": \"2023-07-26T00:00:00\", \"actual\": 138.41908264160156, \"position\": 139.15689086914062, \"action\": \"HOLD\"}, {\"date\": \"2023-07-27T00:00:00\", \"actual\": 137.1029815673828, \"position\": 138.41908264160156, \"action\": \"HOLD\"}, {\"date\": \"2023-07-28T00:00:00\", \"actual\": 137.44198608398438, \"position\": 137.1029815673828, \"action\": \"HOLD\"}, {\"date\": \"2023-07-31T00:00:00\", \"actual\": 135.94642639160156, \"position\": 137.44198608398438, \"action\": \"HOLD\"}, {\"date\": \"2023-08-01T00:00:00\", \"actual\": 135.71710205078125, \"position\": 135.94642639160156, \"action\": \"HOLD\"}, {\"date\": \"2023-08-02T00:00:00\", \"actual\": 125.93612670898438, \"position\": 135.71710205078125, \"action\": \"HOLD\"}, {\"date\": \"2023-08-03T00:00:00\", \"actual\": 123.4634780883789, \"position\": 125.93612670898438, \"action\": \"BUY\"}, {\"date\": \"2023-08-04T00:00:00\", \"actual\": 122.22714233398438, \"position\": 123.4634780883789, \"action\": \"BUY\"}, {\"date\": \"2023-08-07T00:00:00\", \"actual\": 123.68282318115234, \"position\": 122.22714233398438, \"action\": \"BUY\"}, {\"date\": \"2023-08-08T00:00:00\", \"actual\": 122.24708557128906, \"position\": 123.68282318115234, \"action\": \"BUY\"}, {\"date\": \"2023-08-09T00:00:00\", \"actual\": 121.55912017822266, \"position\": 122.24708557128906, \"action\": \"BUY\"}, {\"date\": \"2023-08-10T00:00:00\", \"actual\": 121.90808868408205, \"position\": 121.55912017822266, \"action\": \"BUY\"}, {\"date\": \"2023-08-11T00:00:00\", \"actual\": 121.83828735351562, \"position\": 121.90808868408205, \"action\": \"BUY\"}, {\"date\": \"2023-08-14T00:00:00\", \"actual\": 122.40660858154295, \"position\": 121.83828735351562, \"action\": \"SELL\"}, {\"date\": \"2023-08-15T00:00:00\", \"actual\": 121.06060791015624, \"position\": 122.40660858154295, \"action\": \"BUY\"}, {\"date\": \"2023-08-16T00:00:00\", \"actual\": 120.3227996826172, \"position\": 121.06060791015624, \"action\": \"BUY\"}, {\"date\": \"2023-08-17T00:00:00\", \"actual\": 118.40847778320312, \"position\": 120.3227996826172, \"action\": \"SELL\"}, {\"date\": \"2023-08-18T00:00:00\", \"actual\": 118.0096664428711, \"position\": 118.40847778320312, \"action\": \"BUY\"}, {\"date\": \"2023-08-21T00:00:00\", \"actual\": 118.24894714355467, \"position\": 118.0096664428711, \"action\": \"SELL\"}, {\"date\": \"2023-08-22T00:00:00\", \"actual\": 119.17620086669922, \"position\": 118.24894714355467, \"action\": \"BUY\"}, {\"date\": \"2023-08-23T00:00:00\", \"actual\": 120.96089935302734, \"position\": 119.17620086669922, \"action\": \"SELL\"}, {\"date\": \"2023-08-24T00:00:00\", \"actual\": 119.55508422851562, \"position\": 120.96089935302734, \"action\": \"BUY\"}, {\"date\": \"2023-08-25T00:00:00\", \"actual\": 119.33573150634766, \"position\": 119.55508422851562, \"action\": \"SELL\"}, {\"date\": \"2023-08-28T00:00:00\", \"actual\": 120.16326904296876, \"position\": 119.33573150634766, \"action\": \"SELL\"}, {\"date\": \"2023-08-29T00:00:00\", \"actual\": 120.79239654541016, \"position\": 120.16326904296876, \"action\": \"SELL\"}, {\"date\": \"2023-08-30T00:00:00\", \"actual\": 120.38296508789062, \"position\": 120.79239654541016, \"action\": \"HOLD\"}, {\"date\": \"2023-08-31T00:00:00\", \"actual\": 119.81375885009766, \"position\": 120.38296508789062, \"action\": \"SELL\"}, {\"date\": \"2023-09-01T00:00:00\", \"actual\": 120.37297821044922, \"position\": 119.81375885009766, \"action\": \"SELL\"}, {\"date\": \"2023-09-05T00:00:00\", \"actual\": 121.33164978027344, \"position\": 120.37297821044922, \"action\": \"SELL\"}, {\"date\": \"2023-09-06T00:00:00\", \"actual\": 120.73247528076172, \"position\": 121.33164978027344, \"action\": \"SELL\"}, {\"date\": \"2023-09-07T00:00:00\", \"actual\": 120.77242279052734, \"position\": 120.73247528076172, \"action\": \"BUY\"}, {\"date\": \"2023-09-08T00:00:00\", \"actual\": 121.581298828125, \"position\": 120.77242279052734, \"action\": \"SELL\"}, {\"date\": \"2023-09-11T00:00:00\", \"actual\": 122.36021423339844, \"position\": 121.581298828125, \"action\": \"SELL\"}, {\"date\": \"2023-09-12T00:00:00\", \"actual\": 121.2517547607422, \"position\": 122.36021423339844, \"action\": \"HOLD\"}, {\"date\": \"2023-09-13T00:00:00\", \"actual\": 121.51139831542967, \"position\": 121.2517547607422, \"action\": \"HOLD\"}, {\"date\": \"2023-09-14T00:00:00\", \"actual\": 122.86951446533205, \"position\": 121.51139831542967, \"action\": \"HOLD\"}, {\"date\": \"2023-09-15T00:00:00\", \"actual\": 120.29308319091795, \"position\": 122.86951446533205, \"action\": \"HOLD\"}, {\"date\": \"2023-09-18T00:00:00\", \"actual\": 120.43289184570312, \"position\": 120.29308319091795, \"action\": \"HOLD\"}, {\"date\": \"2023-09-19T00:00:00\", \"actual\": 120.83233642578124, \"position\": 120.43289184570312, \"action\": \"HOLD\"}, {\"date\": \"2023-09-20T00:00:00\", \"actual\": 120.28309631347656, \"position\": 120.83233642578124, \"action\": \"HOLD\"}, {\"date\": \"2023-09-21T00:00:00\", \"actual\": 118.63539123535156, \"position\": 120.28309631347656, \"action\": \"HOLD\"}, {\"date\": \"2023-09-22T00:00:00\", \"actual\": 118.83511352539062, \"position\": 118.63539123535156, \"action\": \"HOLD\"}, {\"date\": \"2023-09-25T00:00:00\", \"actual\": 119.54412841796876, \"position\": 118.83511352539062, \"action\": \"HOLD\"}, {\"date\": \"2023-09-26T00:00:00\", \"actual\": 118.1959991455078, \"position\": 119.54412841796876, \"action\": \"HOLD\"}, {\"date\": \"2023-09-27T00:00:00\", \"actual\": 117.8065414428711, \"position\": 118.1959991455078, \"action\": \"HOLD\"}, {\"date\": \"2023-09-28T00:00:00\", \"actual\": 119.01486206054688, \"position\": 117.8065414428711, \"action\": \"HOLD\"}, {\"date\": \"2023-09-29T00:00:00\", \"actual\": 120.23316955566406, \"position\": 119.01486206054688, \"action\": \"HOLD\"}, {\"date\": \"2023-10-02T00:00:00\", \"actual\": 119.9835205078125, \"position\": 120.23316955566406, \"action\": \"HOLD\"}, {\"date\": \"2023-10-03T00:00:00\", \"actual\": 119.38435363769533, \"position\": 119.9835205078125, \"action\": \"HOLD\"}, {\"date\": \"2023-10-04T00:00:00\", \"actual\": 120.55272674560548, \"position\": 119.38435363769533, \"action\": \"BUY\"}, {\"date\": \"2023-10-05T00:00:00\", \"actual\": 120.62262725830078, \"position\": 120.55272674560548, \"action\": \"SELL\"}, {\"date\": \"2023-10-06T00:00:00\", \"actual\": 122.78961944580078, \"position\": 120.62262725830078, \"action\": \"HOLD\"}, {\"date\": \"2023-10-09T00:00:00\", \"actual\": 124.4173583984375, \"position\": 122.78961944580078, \"action\": \"HOLD\"}, {\"date\": \"2023-10-10T00:00:00\", \"actual\": 127.90252685546876, \"position\": 124.4173583984375, \"action\": \"HOLD\"}, {\"date\": \"2023-10-11T00:00:00\", \"actual\": 129.5102996826172, \"position\": 127.90252685546876, \"action\": \"HOLD\"}, {\"date\": \"2023-10-12T00:00:00\", \"actual\": 131.3876953125, \"position\": 129.5102996826172, \"action\": \"HOLD\"}, {\"date\": \"2023-10-13T00:00:00\", \"actual\": 131.1080780029297, \"position\": 131.3876953125, \"action\": \"HOLD\"}, {\"date\": \"2023-10-16T00:00:00\", \"actual\": 130.95828247070312, \"position\": 131.1080780029297, \"action\": \"HOLD\"}, {\"date\": \"2023-10-17T00:00:00\", \"actual\": 130.8484344482422, \"position\": 130.95828247070312, \"action\": \"HOLD\"}, {\"date\": \"2023-10-18T00:00:00\", \"actual\": 130.07949829101562, \"position\": 130.8484344482422, \"action\": \"HOLD\"}, {\"date\": \"2023-10-19T00:00:00\", \"actual\": 128.0523223876953, \"position\": 130.07949829101562, \"action\": \"HOLD\"}, {\"date\": \"2023-10-20T00:00:00\", \"actual\": 127.26342010498048, \"position\": 128.0523223876953, \"action\": \"HOLD\"}, {\"date\": \"2023-10-23T00:00:00\", \"actual\": 126.16493225097656, \"position\": 127.26342010498048, \"action\": \"BUY\"}, {\"date\": \"2023-10-24T00:00:00\", \"actual\": 127.48311614990234, \"position\": 126.16493225097656, \"action\": \"BUY\"}, {\"date\": \"2023-10-25T00:00:00\", \"actual\": 125.5457992553711, \"position\": 127.48311614990234, \"action\": \"BUY\"}, {\"date\": \"2023-10-26T00:00:00\", \"actual\": 123.46868133544922, \"position\": 125.5457992553711, \"action\": \"BUY\"}, {\"date\": \"2023-10-27T00:00:00\", \"actual\": 122.46007537841795, \"position\": 123.46868133544922, \"action\": \"BUY\"}, {\"date\": \"2023-10-30T00:00:00\", \"actual\": 121.14190673828124, \"position\": 122.46007537841795, \"action\": \"HOLD\"}, {\"date\": \"2023-10-31T00:00:00\", \"actual\": 123.61847686767578, \"position\": 121.14190673828124, \"action\": \"BUY\"}, {\"date\": \"2023-11-01T00:00:00\", \"actual\": 123.60848236083984, \"position\": 123.61847686767578, \"action\": \"BUY\"}, {\"date\": \"2023-11-02T00:00:00\", \"actual\": 128.1022491455078, \"position\": 123.60848236083984, \"action\": \"SELL\"}, {\"date\": \"2023-11-03T00:00:00\", \"actual\": 129.41043090820312, \"position\": 128.1022491455078, \"action\": \"SELL\"}, {\"date\": \"2023-11-06T00:00:00\", \"actual\": 129.09088134765625, \"position\": 129.41043090820312, \"action\": \"SELL\"}, {\"date\": \"2023-11-07T00:00:00\", \"actual\": 129.55023193359375, \"position\": 129.09088134765625, \"action\": \"SELL\"}, {\"date\": \"2023-11-08T00:00:00\", \"actual\": 130.55885314941406, \"position\": 129.55023193359375, \"action\": \"HOLD\"}, {\"date\": \"2023-11-09T00:00:00\", \"actual\": 131.11807250976562, \"position\": 130.55885314941406, \"action\": \"SELL\"}, {\"date\": \"2023-11-10T00:00:00\", \"actual\": 132.59600830078125, \"position\": 131.11807250976562, \"action\": \"SELL\"}, {\"date\": \"2023-11-13T00:00:00\", \"actual\": 132.49615478515625, \"position\": 132.59600830078125, \"action\": \"SELL\"}, {\"date\": \"2023-11-14T00:00:00\", \"actual\": 134.25372314453125, \"position\": 132.49615478515625, \"action\": \"HOLD\"}, {\"date\": \"2023-11-15T00:00:00\", \"actual\": 134.2437286376953, \"position\": 134.25372314453125, \"action\": \"HOLD\"}, {\"date\": \"2023-11-16T00:00:00\", \"actual\": 133.21514892578125, \"position\": 134.2437286376953, \"action\": \"HOLD\"}, {\"date\": \"2023-11-17T00:00:00\", \"actual\": 133.51473999023438, \"position\": 133.21514892578125, \"action\": \"HOLD\"}, {\"date\": \"2023-11-20T00:00:00\", \"actual\": 135.26231384277344, \"position\": 133.51473999023438, \"action\": \"HOLD\"}, {\"date\": \"2023-11-21T00:00:00\", \"actual\": 135.87147521972656, \"position\": 135.26231384277344, \"action\": \"HOLD\"}, {\"date\": \"2023-11-22T00:00:00\", \"actual\": 135.93138122558594, \"position\": 135.87147521972656, \"action\": \"HOLD\"}, {\"date\": \"2023-11-24T00:00:00\", \"actual\": 136.41073608398438, \"position\": 135.93138122558594, \"action\": \"HOLD\"}, {\"date\": \"2023-11-27T00:00:00\", \"actual\": 136.92999267578125, \"position\": 136.41073608398438, \"action\": \"HOLD\"}, {\"date\": \"2023-11-28T00:00:00\", \"actual\": 136.3800048828125, \"position\": 136.92999267578125, \"action\": \"HOLD\"}, {\"date\": \"2023-11-29T00:00:00\", \"actual\": 137.30999755859375, \"position\": 136.3800048828125, \"action\": \"HOLD\"}, {\"date\": \"2023-11-30T00:00:00\", \"actual\": 138.00999450683594, \"position\": 137.30999755859375, \"action\": \"HOLD\"}, {\"date\": \"2023-12-01T00:00:00\", \"actual\": 137.75999450683594, \"position\": 138.00999450683594, \"action\": \"BUY\"}, {\"date\": \"2023-12-04T00:00:00\", \"actual\": 137.82000732421875, \"position\": 137.75999450683594, \"action\": \"SELL\"}, {\"date\": \"2023-12-05T00:00:00\", \"actual\": 137.4199981689453, \"position\": 137.82000732421875, \"action\": \"HOLD\"}, {\"date\": \"2023-12-06T00:00:00\", \"actual\": 137.13999938964844, \"position\": 137.4199981689453, \"action\": \"HOLD\"}, {\"date\": \"2023-12-07T00:00:00\", \"actual\": 135.5500030517578, \"position\": 137.13999938964844, \"action\": \"HOLD\"}, {\"date\": \"2023-12-08T00:00:00\", \"actual\": 137.13999938964844, \"position\": 135.5500030517578, \"action\": \"HOLD\"}, {\"date\": \"2023-12-11T00:00:00\", \"actual\": 138.55999755859375, \"position\": 137.13999938964844, \"action\": \"HOLD\"}, {\"date\": \"2023-12-12T00:00:00\", \"actual\": 140.3300018310547, \"position\": 138.55999755859375, \"action\": \"HOLD\"}, {\"date\": \"2023-12-13T00:00:00\", \"actual\": 142.35000610351562, \"position\": 140.3300018310547, \"action\": \"HOLD\"}, {\"date\": \"2023-12-14T00:00:00\", \"actual\": 140.85000610351562, \"position\": 142.35000610351562, \"action\": \"HOLD\"}, {\"date\": \"2023-12-15T00:00:00\", \"actual\": 138.8300018310547, \"position\": 140.85000610351562, \"action\": \"HOLD\"}, {\"date\": \"2023-12-18T00:00:00\", \"actual\": 138.08999633789062, \"position\": 138.8300018310547, \"action\": \"HOLD\"}, {\"date\": \"2023-12-19T00:00:00\", \"actual\": 138.5500030517578, \"position\": 138.08999633789062, \"action\": \"BUY\"}, {\"date\": \"2023-12-20T00:00:00\", \"actual\": 136.58999633789062, \"position\": 138.5500030517578, \"action\": \"SELL\"}, {\"date\": \"2023-12-21T00:00:00\", \"actual\": 137.8800048828125, \"position\": 136.58999633789062, \"action\": \"HOLD\"}, {\"date\": \"2023-12-22T00:00:00\", \"actual\": 137.6699981689453, \"position\": 137.8800048828125, \"action\": \"BUY\"}, {\"date\": \"2023-12-26T00:00:00\", \"actual\": 137.2899932861328, \"position\": 137.6699981689453, \"action\": \"BUY\"}, {\"date\": \"2023-12-27T00:00:00\", \"actual\": 136.7100067138672, \"position\": 137.2899932861328, \"action\": \"HOLD\"}, {\"date\": \"2023-12-28T00:00:00\", \"actual\": 136.75999450683594, \"position\": 136.7100067138672, \"action\": \"SELL\"}, {\"date\": \"2023-12-29T00:00:00\", \"actual\": 136.80999755859375, \"position\": 136.75999450683594, \"action\": \"HOLD\"}]}}, {\"mode\": \"vega-lite\"});\n",
       "</script>"
      ],
      "text/plain": [
       "alt.LayerChart(...)"
      ]
     },
     "execution_count": 10,
     "metadata": {},
     "output_type": "execute_result"
    }
   ],
   "source": [
    "chart = visualize(df, history, title=test_stock)\n",
    "chart"
   ]
  },
  {
   "cell_type": "code",
   "execution_count": null,
   "metadata": {},
   "outputs": [],
   "source": []
  }
 ],
 "metadata": {
  "kernelspec": {
   "display_name": "Python 3",
   "language": "python",
   "name": "python3"
  },
  "language_info": {
   "codemirror_mode": {
    "name": "ipython",
    "version": 3
   },
   "file_extension": ".py",
   "mimetype": "text/x-python",
   "name": "python",
   "nbconvert_exporter": "python",
   "pygments_lexer": "ipython3",
   "version": "3.11.5"
  }
 },
 "nbformat": 4,
 "nbformat_minor": 4
}
