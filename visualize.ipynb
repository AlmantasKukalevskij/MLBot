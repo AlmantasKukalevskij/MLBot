{
 "cells": [
  {
   "cell_type": "markdown",
   "metadata": {},
   "source": [
    "# Visualization: Trading Session"
   ]
  },
  {
   "cell_type": "code",
   "execution_count": 2,
   "metadata": {},
   "outputs": [],
   "source": [
    "import pandas as pd\n",
    "import numpy as np\n",
    "\n",
    "import altair as alt\n",
    "import seaborn as sns"
   ]
  },
  {
   "cell_type": "markdown",
   "metadata": {},
   "source": [
    "### 1. Define parameters and Load model"
   ]
  },
  {
   "cell_type": "code",
   "execution_count": 12,
   "metadata": {},
   "outputs": [
    {
     "name": "stderr",
     "output_type": "stream",
     "text": [
      "\u001b[32m2024-02-22 03:16:56\u001b[0m \u001b[35mDESKTOP-RNQKCRT\u001b[0m \u001b[34mabsl[35792]\u001b[0m \u001b[1;30mWARNING\u001b[0m \u001b[33m`lr` is deprecated in Keras optimizer, please use `learning_rate` or use the legacy optimizer, e.g.,tf.keras.optimizers.legacy.Adam.\u001b[0m\n"
     ]
    },
    {
     "name": "stdout",
     "output_type": "stream",
     "text": [
      "Model at models\\model_ryzas_1.h5 does not exist. Starting fresh.\n"
     ]
    }
   ],
   "source": [
    "from trading_bot.agent import Agent\n",
    "\n",
    "model_name = 'model_ryzas_1'\n",
    "test_stock = 'data/EA_2023.csv'\n",
    "window_size = 10\n",
    "debug = True\n",
    "\n",
    "agent = Agent(window_size, pretrained=True, model_name=model_name)"
   ]
  },
  {
   "cell_type": "markdown",
   "metadata": {},
   "source": [
    "### 2. Load test data"
   ]
  },
  {
   "cell_type": "code",
   "execution_count": 10,
   "metadata": {},
   "outputs": [
    {
     "name": "stderr",
     "output_type": "stream",
     "text": [
      "C:\\Users\\theal\\AppData\\Local\\Temp\\ipykernel_35792\\308547104.py:9: UserWarning: The argument 'infer_datetime_format' is deprecated and will be removed in a future version. A strict version of it is now the default, see https://pandas.pydata.org/pdeps/0004-consistent-to-datetime-parsing.html. You can safely remove this argument.\n",
      "  dates = pd.to_datetime(dates, infer_datetime_format=True)\n"
     ]
    },
    {
     "data": {
      "text/html": [
       "<div>\n",
       "<style scoped>\n",
       "    .dataframe tbody tr th:only-of-type {\n",
       "        vertical-align: middle;\n",
       "    }\n",
       "\n",
       "    .dataframe tbody tr th {\n",
       "        vertical-align: top;\n",
       "    }\n",
       "\n",
       "    .dataframe thead th {\n",
       "        text-align: right;\n",
       "    }\n",
       "</style>\n",
       "<table border=\"1\" class=\"dataframe\">\n",
       "  <thead>\n",
       "    <tr style=\"text-align: right;\">\n",
       "      <th></th>\n",
       "      <th>date</th>\n",
       "      <th>actual</th>\n",
       "    </tr>\n",
       "  </thead>\n",
       "  <tbody>\n",
       "    <tr>\n",
       "      <th>0</th>\n",
       "      <td>2023-01-03</td>\n",
       "      <td>122.043968</td>\n",
       "    </tr>\n",
       "    <tr>\n",
       "      <th>1</th>\n",
       "      <td>2023-01-04</td>\n",
       "      <td>124.240372</td>\n",
       "    </tr>\n",
       "    <tr>\n",
       "      <th>2</th>\n",
       "      <td>2023-01-05</td>\n",
       "      <td>123.912407</td>\n",
       "    </tr>\n",
       "    <tr>\n",
       "      <th>3</th>\n",
       "      <td>2023-01-06</td>\n",
       "      <td>123.127266</td>\n",
       "    </tr>\n",
       "    <tr>\n",
       "      <th>4</th>\n",
       "      <td>2023-01-09</td>\n",
       "      <td>123.405540</td>\n",
       "    </tr>\n",
       "  </tbody>\n",
       "</table>\n",
       "</div>"
      ],
      "text/plain": [
       "        date      actual\n",
       "0 2023-01-03  122.043968\n",
       "1 2023-01-04  124.240372\n",
       "2 2023-01-05  123.912407\n",
       "3 2023-01-06  123.127266\n",
       "4 2023-01-09  123.405540"
      ]
     },
     "execution_count": 10,
     "metadata": {},
     "output_type": "execute_result"
    }
   ],
   "source": [
    "# read csv into dataframe\n",
    "df = pd.read_csv(test_stock)\n",
    "# filter out the desired features\n",
    "df = df[['Date', 'Adj Close']]\n",
    "# rename feature column names\n",
    "df = df.rename(columns={'Adj Close': 'actual', 'Date': 'date'})\n",
    "# convert dates from object to DateTime type\n",
    "dates = df['date']\n",
    "dates = pd.to_datetime(dates, infer_datetime_format=True)\n",
    "df['date'] = dates\n",
    "\n",
    "df.head()"
   ]
  },
  {
   "cell_type": "markdown",
   "metadata": {},
   "source": [
    "### 3. Running Eval"
   ]
  },
  {
   "cell_type": "code",
   "execution_count": 11,
   "metadata": {},
   "outputs": [
    {
     "name": "stderr",
     "output_type": "stream",
     "text": [
      "\u001b[32m2024-02-22 03:16:01\u001b[0m \u001b[35mDESKTOP-RNQKCRT\u001b[0m \u001b[34mroot[35792]\u001b[0m \u001b[1;30mDEBUG\u001b[0m \u001b[32mswitching to TensorFlow for CPU\u001b[0m\n",
      "\u001b[32m2024-02-22 03:16:01\u001b[0m \u001b[35mDESKTOP-RNQKCRT\u001b[0m \u001b[34mroot[35792]\u001b[0m \u001b[1;30mDEBUG\u001b[0m \u001b[32mBuy at: $122.04\u001b[0m\n"
     ]
    },
    {
     "name": "stdout",
     "output_type": "stream",
     "text": [
      "1/1 [==============================] - 0s 61ms/step\n",
      "1/1 [==============================] - 0s 22ms/step\n"
     ]
    },
    {
     "name": "stderr",
     "output_type": "stream",
     "text": [
      "\u001b[32m2024-02-22 03:16:01\u001b[0m \u001b[35mDESKTOP-RNQKCRT\u001b[0m \u001b[34mroot[35792]\u001b[0m \u001b[1;30mDEBUG\u001b[0m \u001b[32mSell at: $123.91 | Position: +$1.87\u001b[0m\n"
     ]
    },
    {
     "name": "stdout",
     "output_type": "stream",
     "text": [
      "1/1 [==============================] - 0s 20ms/step\n",
      "1/1 [==============================] - 0s 20ms/step\n",
      "1/1 [==============================] - 0s 21ms/step\n",
      "1/1 [==============================] - 0s 21ms/step\n",
      "1/1 [==============================] - 0s 22ms/step\n",
      "1/1 [==============================] - 0s 21ms/step\n",
      "1/1 [==============================] - 0s 19ms/step\n",
      "1/1 [==============================] - 0s 19ms/step\n",
      "1/1 [==============================] - 0s 19ms/step\n",
      "1/1 [==============================] - 0s 20ms/step\n",
      "1/1 [==============================] - 0s 21ms/step\n",
      "1/1 [==============================] - 0s 20ms/step\n",
      "1/1 [==============================] - 0s 21ms/step\n",
      "1/1 [==============================] - 0s 20ms/step\n",
      "1/1 [==============================] - 0s 20ms/step\n",
      "1/1 [==============================] - 0s 20ms/step\n"
     ]
    },
    {
     "name": "stderr",
     "output_type": "stream",
     "text": [
      "\u001b[32m2024-02-22 03:16:02\u001b[0m \u001b[35mDESKTOP-RNQKCRT\u001b[0m \u001b[34mroot[35792]\u001b[0m \u001b[1;30mDEBUG\u001b[0m \u001b[32mBuy at: $128.20\u001b[0m\n"
     ]
    },
    {
     "name": "stdout",
     "output_type": "stream",
     "text": [
      "1/1 [==============================] - 0s 21ms/step\n"
     ]
    },
    {
     "name": "stderr",
     "output_type": "stream",
     "text": [
      "\u001b[32m2024-02-22 03:16:02\u001b[0m \u001b[35mDESKTOP-RNQKCRT\u001b[0m \u001b[34mroot[35792]\u001b[0m \u001b[1;30mDEBUG\u001b[0m \u001b[32mSell at: $127.89 | Position: -$0.31\u001b[0m\n"
     ]
    },
    {
     "name": "stdout",
     "output_type": "stream",
     "text": [
      "1/1 [==============================] - 0s 19ms/step\n",
      "1/1 [==============================] - 0s 20ms/step\n",
      "1/1 [==============================] - 0s 21ms/step\n",
      "1/1 [==============================] - 0s 20ms/step\n",
      "1/1 [==============================] - 0s 24ms/step\n"
     ]
    },
    {
     "name": "stderr",
     "output_type": "stream",
     "text": [
      "\u001b[32m2024-02-22 03:16:03\u001b[0m \u001b[35mDESKTOP-RNQKCRT\u001b[0m \u001b[34mroot[35792]\u001b[0m \u001b[1;30mDEBUG\u001b[0m \u001b[32mBuy at: $113.48\u001b[0m\n"
     ]
    },
    {
     "name": "stdout",
     "output_type": "stream",
     "text": [
      "1/1 [==============================] - 0s 21ms/step\n",
      "1/1 [==============================] - 0s 20ms/step\n",
      "1/1 [==============================] - 0s 20ms/step\n",
      "1/1 [==============================] - 0s 22ms/step\n",
      "1/1 [==============================] - 0s 20ms/step\n",
      "1/1 [==============================] - 0s 22ms/step\n",
      "1/1 [==============================] - 0s 20ms/step\n",
      "1/1 [==============================] - 0s 18ms/step\n",
      "1/1 [==============================] - 0s 19ms/step\n"
     ]
    },
    {
     "name": "stderr",
     "output_type": "stream",
     "text": [
      "\u001b[32m2024-02-22 03:16:03\u001b[0m \u001b[35mDESKTOP-RNQKCRT\u001b[0m \u001b[34mroot[35792]\u001b[0m \u001b[1;30mDEBUG\u001b[0m \u001b[32mBuy at: $111.33\u001b[0m\n"
     ]
    },
    {
     "name": "stdout",
     "output_type": "stream",
     "text": [
      "1/1 [==============================] - 0s 19ms/step\n"
     ]
    },
    {
     "name": "stderr",
     "output_type": "stream",
     "text": [
      "\u001b[32m2024-02-22 03:16:03\u001b[0m \u001b[35mDESKTOP-RNQKCRT\u001b[0m \u001b[34mroot[35792]\u001b[0m \u001b[1;30mDEBUG\u001b[0m \u001b[32mSell at: $111.05 | Position: -$2.42\u001b[0m\n"
     ]
    },
    {
     "name": "stdout",
     "output_type": "stream",
     "text": [
      "1/1 [==============================] - 0s 19ms/step\n",
      "1/1 [==============================] - 0s 21ms/step\n",
      "1/1 [==============================] - 0s 22ms/step\n",
      "1/1 [==============================] - 0s 19ms/step\n",
      "1/1 [==============================] - 0s 21ms/step\n",
      "1/1 [==============================] - 0s 20ms/step\n"
     ]
    },
    {
     "name": "stderr",
     "output_type": "stream",
     "text": [
      "\u001b[32m2024-02-22 03:16:03\u001b[0m \u001b[35mDESKTOP-RNQKCRT\u001b[0m \u001b[34mroot[35792]\u001b[0m \u001b[1;30mDEBUG\u001b[0m \u001b[32mSell at: $111.79 | Position: +$0.46\u001b[0m\n"
     ]
    },
    {
     "name": "stdout",
     "output_type": "stream",
     "text": [
      "1/1 [==============================] - 0s 20ms/step\n",
      "1/1 [==============================] - 0s 22ms/step\n",
      "1/1 [==============================] - 0s 19ms/step\n",
      "1/1 [==============================] - 0s 20ms/step\n",
      "1/1 [==============================] - 0s 21ms/step\n",
      "1/1 [==============================] - 0s 19ms/step\n",
      "1/1 [==============================] - 0s 21ms/step\n",
      "1/1 [==============================] - 0s 19ms/step\n",
      "1/1 [==============================] - 0s 21ms/step\n",
      "1/1 [==============================] - 0s 20ms/step\n",
      "1/1 [==============================] - 0s 21ms/step\n",
      "1/1 [==============================] - 0s 19ms/step\n",
      "1/1 [==============================] - 0s 19ms/step\n",
      "1/1 [==============================] - 0s 19ms/step\n",
      "1/1 [==============================] - 0s 21ms/step\n",
      "1/1 [==============================] - 0s 20ms/step\n",
      "1/1 [==============================] - 0s 19ms/step\n",
      "1/1 [==============================] - 0s 19ms/step\n",
      "1/1 [==============================] - 0s 21ms/step\n",
      "1/1 [==============================] - 0s 22ms/step\n",
      "1/1 [==============================] - 0s 19ms/step\n",
      "1/1 [==============================] - 0s 20ms/step\n",
      "1/1 [==============================] - 0s 19ms/step\n",
      "1/1 [==============================] - 0s 19ms/step\n",
      "1/1 [==============================] - 0s 19ms/step\n",
      "1/1 [==============================] - 0s 20ms/step\n",
      "1/1 [==============================] - 0s 20ms/step\n",
      "1/1 [==============================] - 0s 20ms/step\n",
      "1/1 [==============================] - 0s 20ms/step\n",
      "1/1 [==============================] - 0s 21ms/step\n",
      "1/1 [==============================] - 0s 19ms/step\n",
      "1/1 [==============================] - 0s 20ms/step\n",
      "1/1 [==============================] - 0s 19ms/step\n",
      "1/1 [==============================] - 0s 19ms/step\n",
      "1/1 [==============================] - 0s 20ms/step\n",
      "1/1 [==============================] - 0s 19ms/step\n",
      "1/1 [==============================] - 0s 18ms/step\n",
      "1/1 [==============================] - 0s 19ms/step\n",
      "1/1 [==============================] - 0s 20ms/step\n",
      "1/1 [==============================] - 0s 21ms/step\n",
      "1/1 [==============================] - 0s 20ms/step\n",
      "1/1 [==============================] - 0s 19ms/step\n",
      "1/1 [==============================] - 0s 21ms/step\n",
      "1/1 [==============================] - 0s 21ms/step\n",
      "1/1 [==============================] - 0s 19ms/step\n",
      "1/1 [==============================] - 0s 19ms/step\n",
      "1/1 [==============================] - 0s 21ms/step\n",
      "1/1 [==============================] - 0s 19ms/step\n",
      "1/1 [==============================] - 0s 22ms/step\n",
      "1/1 [==============================] - 0s 20ms/step\n",
      "1/1 [==============================] - 0s 20ms/step\n",
      "1/1 [==============================] - 0s 20ms/step\n",
      "1/1 [==============================] - 0s 23ms/step\n",
      "1/1 [==============================] - 0s 22ms/step\n",
      "1/1 [==============================] - 0s 26ms/step\n",
      "1/1 [==============================] - 0s 21ms/step\n",
      "1/1 [==============================] - 0s 20ms/step\n",
      "1/1 [==============================] - 0s 18ms/step\n",
      "1/1 [==============================] - 0s 19ms/step\n",
      "1/1 [==============================] - 0s 20ms/step\n",
      "1/1 [==============================] - 0s 19ms/step\n",
      "1/1 [==============================] - 0s 19ms/step\n",
      "1/1 [==============================] - 0s 19ms/step\n",
      "1/1 [==============================] - 0s 19ms/step\n",
      "1/1 [==============================] - 0s 19ms/step\n",
      "1/1 [==============================] - 0s 19ms/step\n",
      "1/1 [==============================] - 0s 25ms/step\n",
      "1/1 [==============================] - 0s 19ms/step\n",
      "1/1 [==============================] - 0s 20ms/step\n",
      "1/1 [==============================] - 0s 19ms/step\n",
      "1/1 [==============================] - 0s 19ms/step\n",
      "1/1 [==============================] - 0s 20ms/step\n",
      "1/1 [==============================] - 0s 20ms/step\n",
      "1/1 [==============================] - 0s 19ms/step\n",
      "1/1 [==============================] - 0s 20ms/step\n",
      "1/1 [==============================] - 0s 19ms/step\n",
      "1/1 [==============================] - 0s 20ms/step\n",
      "1/1 [==============================] - 0s 20ms/step\n",
      "1/1 [==============================] - 0s 20ms/step\n",
      "1/1 [==============================] - 0s 19ms/step\n",
      "1/1 [==============================] - 0s 18ms/step\n",
      "1/1 [==============================] - 0s 19ms/step\n"
     ]
    },
    {
     "name": "stderr",
     "output_type": "stream",
     "text": [
      "\u001b[32m2024-02-22 03:16:08\u001b[0m \u001b[35mDESKTOP-RNQKCRT\u001b[0m \u001b[34mroot[35792]\u001b[0m \u001b[1;30mDEBUG\u001b[0m \u001b[32mBuy at: $130.06\u001b[0m\n"
     ]
    },
    {
     "name": "stdout",
     "output_type": "stream",
     "text": [
      "1/1 [==============================] - 0s 20ms/step\n",
      "1/1 [==============================] - 0s 19ms/step\n"
     ]
    },
    {
     "name": "stderr",
     "output_type": "stream",
     "text": [
      "\u001b[32m2024-02-22 03:16:08\u001b[0m \u001b[35mDESKTOP-RNQKCRT\u001b[0m \u001b[34mroot[35792]\u001b[0m \u001b[1;30mDEBUG\u001b[0m \u001b[32mSell at: $130.48 | Position: +$0.42\u001b[0m\n"
     ]
    },
    {
     "name": "stdout",
     "output_type": "stream",
     "text": [
      "1/1 [==============================] - 0s 20ms/step\n",
      "1/1 [==============================] - 0s 19ms/step\n",
      "1/1 [==============================] - 0s 18ms/step\n",
      "1/1 [==============================] - 0s 20ms/step\n",
      "1/1 [==============================] - 0s 20ms/step\n",
      "1/1 [==============================] - 0s 19ms/step\n",
      "1/1 [==============================] - 0s 19ms/step\n"
     ]
    },
    {
     "name": "stderr",
     "output_type": "stream",
     "text": [
      "\u001b[32m2024-02-22 03:16:09\u001b[0m \u001b[35mDESKTOP-RNQKCRT\u001b[0m \u001b[34mroot[35792]\u001b[0m \u001b[1;30mDEBUG\u001b[0m \u001b[32mBuy at: $136.31\u001b[0m\n"
     ]
    },
    {
     "name": "stdout",
     "output_type": "stream",
     "text": [
      "1/1 [==============================] - 0s 20ms/step\n",
      "1/1 [==============================] - 0s 19ms/step\n",
      "1/1 [==============================] - 0s 20ms/step\n"
     ]
    },
    {
     "name": "stderr",
     "output_type": "stream",
     "text": [
      "\u001b[32m2024-02-22 03:16:09\u001b[0m \u001b[35mDESKTOP-RNQKCRT\u001b[0m \u001b[34mroot[35792]\u001b[0m \u001b[1;30mDEBUG\u001b[0m \u001b[32mSell at: $138.46 | Position: +$2.15\u001b[0m\n"
     ]
    },
    {
     "name": "stdout",
     "output_type": "stream",
     "text": [
      "1/1 [==============================] - 0s 19ms/step\n",
      "1/1 [==============================] - 0s 21ms/step\n",
      "1/1 [==============================] - 0s 19ms/step\n",
      "1/1 [==============================] - 0s 19ms/step\n",
      "1/1 [==============================] - 0s 19ms/step\n",
      "1/1 [==============================] - 0s 20ms/step\n",
      "1/1 [==============================] - 0s 22ms/step\n"
     ]
    },
    {
     "name": "stderr",
     "output_type": "stream",
     "text": [
      "\u001b[32m2024-02-22 03:16:09\u001b[0m \u001b[35mDESKTOP-RNQKCRT\u001b[0m \u001b[34mroot[35792]\u001b[0m \u001b[1;30mDEBUG\u001b[0m \u001b[32mBuy at: $137.10\u001b[0m\n"
     ]
    },
    {
     "name": "stdout",
     "output_type": "stream",
     "text": [
      "1/1 [==============================] - 0s 20ms/step\n",
      "1/1 [==============================] - 0s 19ms/step\n",
      "1/1 [==============================] - 0s 21ms/step\n"
     ]
    },
    {
     "name": "stderr",
     "output_type": "stream",
     "text": [
      "\u001b[32m2024-02-22 03:16:09\u001b[0m \u001b[35mDESKTOP-RNQKCRT\u001b[0m \u001b[34mroot[35792]\u001b[0m \u001b[1;30mDEBUG\u001b[0m \u001b[32mBuy at: $135.72\u001b[0m\n"
     ]
    },
    {
     "name": "stdout",
     "output_type": "stream",
     "text": [
      "1/1 [==============================] - 0s 20ms/step\n",
      "1/1 [==============================] - 0s 20ms/step\n",
      "1/1 [==============================] - 0s 20ms/step\n",
      "1/1 [==============================] - 0s 18ms/step\n",
      "1/1 [==============================] - 0s 19ms/step\n",
      "1/1 [==============================] - 0s 22ms/step\n",
      "1/1 [==============================] - 0s 20ms/step\n",
      "1/1 [==============================] - 0s 19ms/step\n",
      "1/1 [==============================] - 0s 20ms/step\n"
     ]
    },
    {
     "name": "stderr",
     "output_type": "stream",
     "text": [
      "\u001b[32m2024-02-22 03:16:10\u001b[0m \u001b[35mDESKTOP-RNQKCRT\u001b[0m \u001b[34mroot[35792]\u001b[0m \u001b[1;30mDEBUG\u001b[0m \u001b[32mBuy at: $122.41\u001b[0m\n"
     ]
    },
    {
     "name": "stdout",
     "output_type": "stream",
     "text": [
      "1/1 [==============================] - 0s 21ms/step\n",
      "1/1 [==============================] - 0s 21ms/step\n",
      "1/1 [==============================] - 0s 20ms/step\n",
      "1/1 [==============================] - 0s 19ms/step\n",
      "1/1 [==============================] - 0s 20ms/step\n",
      "1/1 [==============================] - 0s 20ms/step\n",
      "1/1 [==============================] - 0s 23ms/step\n"
     ]
    },
    {
     "name": "stderr",
     "output_type": "stream",
     "text": [
      "\u001b[32m2024-02-22 03:16:10\u001b[0m \u001b[35mDESKTOP-RNQKCRT\u001b[0m \u001b[34mroot[35792]\u001b[0m \u001b[1;30mDEBUG\u001b[0m \u001b[32mSell at: $120.96 | Position: -$16.14\u001b[0m\n"
     ]
    },
    {
     "name": "stdout",
     "output_type": "stream",
     "text": [
      "1/1 [==============================] - 0s 19ms/step\n",
      "1/1 [==============================] - 0s 21ms/step\n"
     ]
    },
    {
     "name": "stderr",
     "output_type": "stream",
     "text": [
      "\u001b[32m2024-02-22 03:16:10\u001b[0m \u001b[35mDESKTOP-RNQKCRT\u001b[0m \u001b[34mroot[35792]\u001b[0m \u001b[1;30mDEBUG\u001b[0m \u001b[32mBuy at: $119.34\u001b[0m\n"
     ]
    },
    {
     "name": "stdout",
     "output_type": "stream",
     "text": [
      "1/1 [==============================] - 0s 20ms/step\n"
     ]
    },
    {
     "name": "stderr",
     "output_type": "stream",
     "text": [
      "\u001b[32m2024-02-22 03:16:10\u001b[0m \u001b[35mDESKTOP-RNQKCRT\u001b[0m \u001b[34mroot[35792]\u001b[0m \u001b[1;30mDEBUG\u001b[0m \u001b[32mSell at: $120.16 | Position: -$15.55\u001b[0m\n"
     ]
    },
    {
     "name": "stdout",
     "output_type": "stream",
     "text": [
      "1/1 [==============================] - 0s 20ms/step\n"
     ]
    },
    {
     "name": "stderr",
     "output_type": "stream",
     "text": [
      "\u001b[32m2024-02-22 03:16:10\u001b[0m \u001b[35mDESKTOP-RNQKCRT\u001b[0m \u001b[34mroot[35792]\u001b[0m \u001b[1;30mDEBUG\u001b[0m \u001b[32mSell at: $120.79 | Position: -$1.61\u001b[0m\n"
     ]
    },
    {
     "name": "stdout",
     "output_type": "stream",
     "text": [
      "1/1 [==============================] - 0s 19ms/step\n",
      "1/1 [==============================] - 0s 20ms/step\n"
     ]
    },
    {
     "name": "stderr",
     "output_type": "stream",
     "text": [
      "\u001b[32m2024-02-22 03:16:11\u001b[0m \u001b[35mDESKTOP-RNQKCRT\u001b[0m \u001b[34mroot[35792]\u001b[0m \u001b[1;30mDEBUG\u001b[0m \u001b[32mBuy at: $119.81\u001b[0m\n"
     ]
    },
    {
     "name": "stdout",
     "output_type": "stream",
     "text": [
      "1/1 [==============================] - 0s 19ms/step\n"
     ]
    },
    {
     "name": "stderr",
     "output_type": "stream",
     "text": [
      "\u001b[32m2024-02-22 03:16:11\u001b[0m \u001b[35mDESKTOP-RNQKCRT\u001b[0m \u001b[34mroot[35792]\u001b[0m \u001b[1;30mDEBUG\u001b[0m \u001b[32mSell at: $120.37 | Position: +$1.04\u001b[0m\n"
     ]
    },
    {
     "name": "stdout",
     "output_type": "stream",
     "text": [
      "1/1 [==============================] - 0s 20ms/step\n"
     ]
    },
    {
     "name": "stderr",
     "output_type": "stream",
     "text": [
      "\u001b[32m2024-02-22 03:16:11\u001b[0m \u001b[35mDESKTOP-RNQKCRT\u001b[0m \u001b[34mroot[35792]\u001b[0m \u001b[1;30mDEBUG\u001b[0m \u001b[32mSell at: $121.33 | Position: +$1.52\u001b[0m\n"
     ]
    },
    {
     "name": "stdout",
     "output_type": "stream",
     "text": [
      "1/1 [==============================] - 0s 25ms/step\n",
      "1/1 [==============================] - 0s 19ms/step\n",
      "1/1 [==============================] - 0s 19ms/step\n",
      "1/1 [==============================] - 0s 22ms/step\n",
      "1/1 [==============================] - 0s 19ms/step\n",
      "1/1 [==============================] - 0s 20ms/step\n",
      "1/1 [==============================] - 0s 20ms/step\n",
      "1/1 [==============================] - 0s 19ms/step\n",
      "1/1 [==============================] - 0s 20ms/step\n",
      "1/1 [==============================] - 0s 22ms/step\n",
      "1/1 [==============================] - 0s 21ms/step\n",
      "1/1 [==============================] - 0s 20ms/step\n",
      "1/1 [==============================] - 0s 20ms/step\n",
      "1/1 [==============================] - 0s 19ms/step\n",
      "1/1 [==============================] - 0s 20ms/step\n",
      "1/1 [==============================] - 0s 20ms/step\n",
      "1/1 [==============================] - 0s 19ms/step\n",
      "1/1 [==============================] - 0s 20ms/step\n",
      "1/1 [==============================] - 0s 26ms/step\n",
      "1/1 [==============================] - 0s 21ms/step\n"
     ]
    },
    {
     "name": "stderr",
     "output_type": "stream",
     "text": [
      "\u001b[32m2024-02-22 03:16:12\u001b[0m \u001b[35mDESKTOP-RNQKCRT\u001b[0m \u001b[34mroot[35792]\u001b[0m \u001b[1;30mDEBUG\u001b[0m \u001b[32mBuy at: $119.38\u001b[0m\n"
     ]
    },
    {
     "name": "stdout",
     "output_type": "stream",
     "text": [
      "1/1 [==============================] - 0s 24ms/step\n"
     ]
    },
    {
     "name": "stderr",
     "output_type": "stream",
     "text": [
      "\u001b[32m2024-02-22 03:16:12\u001b[0m \u001b[35mDESKTOP-RNQKCRT\u001b[0m \u001b[34mroot[35792]\u001b[0m \u001b[1;30mDEBUG\u001b[0m \u001b[32mSell at: $120.55 | Position: +$1.17\u001b[0m\n"
     ]
    },
    {
     "name": "stdout",
     "output_type": "stream",
     "text": [
      "1/1 [==============================] - 0s 20ms/step\n",
      "1/1 [==============================] - 0s 23ms/step\n",
      "1/1 [==============================] - 0s 21ms/step\n",
      "1/1 [==============================] - 0s 19ms/step\n",
      "1/1 [==============================] - 0s 21ms/step\n",
      "1/1 [==============================] - 0s 19ms/step\n",
      "1/1 [==============================] - 0s 20ms/step\n",
      "1/1 [==============================] - 0s 19ms/step\n",
      "1/1 [==============================] - 0s 21ms/step\n",
      "1/1 [==============================] - 0s 19ms/step\n",
      "1/1 [==============================] - 0s 20ms/step\n",
      "1/1 [==============================] - 0s 21ms/step\n",
      "1/1 [==============================] - 0s 19ms/step\n",
      "1/1 [==============================] - 0s 20ms/step\n",
      "1/1 [==============================] - 0s 20ms/step\n",
      "1/1 [==============================] - 0s 19ms/step\n"
     ]
    },
    {
     "name": "stderr",
     "output_type": "stream",
     "text": [
      "\u001b[32m2024-02-22 03:16:13\u001b[0m \u001b[35mDESKTOP-RNQKCRT\u001b[0m \u001b[34mroot[35792]\u001b[0m \u001b[1;30mDEBUG\u001b[0m \u001b[32mBuy at: $123.47\u001b[0m\n"
     ]
    },
    {
     "name": "stdout",
     "output_type": "stream",
     "text": [
      "1/1 [==============================] - 0s 20ms/step\n",
      "1/1 [==============================] - 0s 20ms/step\n",
      "1/1 [==============================] - 0s 20ms/step\n",
      "1/1 [==============================] - 0s 20ms/step\n",
      "1/1 [==============================] - 0s 19ms/step\n",
      "1/1 [==============================] - 0s 19ms/step\n",
      "1/1 [==============================] - 0s 20ms/step\n"
     ]
    },
    {
     "name": "stderr",
     "output_type": "stream",
     "text": [
      "\u001b[32m2024-02-22 03:16:13\u001b[0m \u001b[35mDESKTOP-RNQKCRT\u001b[0m \u001b[34mroot[35792]\u001b[0m \u001b[1;30mDEBUG\u001b[0m \u001b[32mSell at: $129.09 | Position: +$5.62\u001b[0m\n"
     ]
    },
    {
     "name": "stdout",
     "output_type": "stream",
     "text": [
      "1/1 [==============================] - 0s 20ms/step\n",
      "1/1 [==============================] - 0s 21ms/step\n",
      "1/1 [==============================] - 0s 20ms/step\n",
      "1/1 [==============================] - 0s 20ms/step\n"
     ]
    },
    {
     "name": "stderr",
     "output_type": "stream",
     "text": [
      "\u001b[32m2024-02-22 03:16:13\u001b[0m \u001b[35mDESKTOP-RNQKCRT\u001b[0m \u001b[34mroot[35792]\u001b[0m \u001b[1;30mDEBUG\u001b[0m \u001b[32mBuy at: $132.60\u001b[0m\n"
     ]
    },
    {
     "name": "stdout",
     "output_type": "stream",
     "text": [
      "1/1 [==============================] - 0s 27ms/step\n"
     ]
    },
    {
     "name": "stderr",
     "output_type": "stream",
     "text": [
      "\u001b[32m2024-02-22 03:16:14\u001b[0m \u001b[35mDESKTOP-RNQKCRT\u001b[0m \u001b[34mroot[35792]\u001b[0m \u001b[1;30mDEBUG\u001b[0m \u001b[32mSell at: $132.50 | Position: -$0.10\u001b[0m\n"
     ]
    },
    {
     "name": "stdout",
     "output_type": "stream",
     "text": [
      "1/1 [==============================] - 0s 19ms/step\n",
      "1/1 [==============================] - 0s 21ms/step\n",
      "1/1 [==============================] - 0s 20ms/step\n",
      "1/1 [==============================] - 0s 19ms/step\n",
      "1/1 [==============================] - 0s 20ms/step\n",
      "1/1 [==============================] - 0s 20ms/step\n",
      "1/1 [==============================] - 0s 20ms/step\n",
      "1/1 [==============================] - 0s 20ms/step\n",
      "1/1 [==============================] - 0s 19ms/step\n",
      "1/1 [==============================] - 0s 19ms/step\n",
      "1/1 [==============================] - 0s 20ms/step\n",
      "1/1 [==============================] - 0s 20ms/step\n",
      "1/1 [==============================] - 0s 23ms/step\n",
      "1/1 [==============================] - 0s 19ms/step\n",
      "1/1 [==============================] - 0s 21ms/step\n",
      "1/1 [==============================] - 0s 20ms/step\n",
      "1/1 [==============================] - 0s 19ms/step\n",
      "1/1 [==============================] - 0s 20ms/step\n",
      "1/1 [==============================] - 0s 19ms/step\n",
      "1/1 [==============================] - 0s 19ms/step\n",
      "1/1 [==============================] - 0s 19ms/step\n",
      "1/1 [==============================] - 0s 20ms/step\n",
      "1/1 [==============================] - 0s 19ms/step\n",
      "1/1 [==============================] - 0s 20ms/step\n",
      "1/1 [==============================] - 0s 20ms/step\n",
      "1/1 [==============================] - 0s 20ms/step\n",
      "1/1 [==============================] - 0s 19ms/step\n",
      "1/1 [==============================] - 0s 20ms/step\n",
      "1/1 [==============================] - 0s 19ms/step\n",
      "1/1 [==============================] - 0s 20ms/step\n",
      "1/1 [==============================] - 0s 20ms/step\n"
     ]
    },
    {
     "name": "stderr",
     "output_type": "stream",
     "text": [
      "\u001b[32m2024-02-22 03:16:15\u001b[0m \u001b[35mDESKTOP-RNQKCRT\u001b[0m \u001b[34mroot[35792]\u001b[0m \u001b[1;30mINFO\u001b[0m model_debug_9: -$21.90\n",
      "\n"
     ]
    }
   ],
   "source": [
    "import logging\n",
    "import coloredlogs\n",
    "\n",
    "from trading_bot.utils import show_eval_result, switch_k_backend_device, get_stock_data\n",
    "from trading_bot.methods import evaluate_model\n",
    "\n",
    "coloredlogs.install(level='DEBUG')\n",
    "switch_k_backend_device()\n",
    "\n",
    "test_data = get_stock_data(test_stock)\n",
    "initial_offset = test_data[1] - test_data[0]\n",
    "\n",
    "test_result, history = evaluate_model(agent, test_data, window_size, debug)\n",
    "show_eval_result(model_name, test_result, initial_offset)"
   ]
  },
  {
   "cell_type": "markdown",
   "metadata": {},
   "source": [
    "### 4. Visualize"
   ]
  },
  {
   "cell_type": "code",
   "execution_count": 35,
   "metadata": {},
   "outputs": [],
   "source": [
    "def visualize(df, history, title=\"trading session\"):\n",
    "    # add history to dataframe\n",
    "    position = [history[0][0]] + [x[0] for x in history]\n",
    "    actions = ['HOLD'] + [x[1] for x in history]\n",
    "    df['position'] = position\n",
    "    df['action'] = actions\n",
    "    \n",
    "    # specify y-axis scale for stock prices\n",
    "    scale = alt.Scale(domain=(min(min(df['actual']), min(df['position'])) - 50, max(max(df['actual']), max(df['position'])) + 50), clamp=True)\n",
    "    \n",
    "    # plot a line chart for stock positions\n",
    "    actual = alt.Chart(df).mark_line(\n",
    "        color='green',\n",
    "        opacity=0.5\n",
    "    ).encode(\n",
    "        x='date:T',\n",
    "        y=alt.Y('position', axis=alt.Axis(format='$.2f', title='Price'), scale=scale)\n",
    "    ).interactive(\n",
    "        bind_y=False\n",
    "    )\n",
    "    \n",
    "    # plot the BUY and SELL actions as points\n",
    "    points = alt.Chart(df).transform_filter(\n",
    "        alt.datum.action != 'HOLD'\n",
    "    ).mark_point(\n",
    "        filled=True\n",
    "    ).encode(\n",
    "        x=alt.X('date:T', axis=alt.Axis(title='Date')),\n",
    "        y=alt.Y('position', axis=alt.Axis(format='$.2f', title='Price'), scale=scale),\n",
    "        color='action'\n",
    "    ).interactive(bind_y=False)\n",
    "\n",
    "    # merge the two charts\n",
    "    chart = alt.layer(actual, points, title=title).properties(height=300, width=1000)\n",
    "    \n",
    "    return chart"
   ]
  },
  {
   "cell_type": "code",
   "execution_count": 36,
   "metadata": {},
   "outputs": [
    {
     "data": {
      "text/html": [
       "\n",
       "<style>\n",
       "  #altair-viz-1a86993a4bd44df09e9e9b3a8c50f9a2.vega-embed {\n",
       "    width: 100%;\n",
       "    display: flex;\n",
       "  }\n",
       "\n",
       "  #altair-viz-1a86993a4bd44df09e9e9b3a8c50f9a2.vega-embed details,\n",
       "  #altair-viz-1a86993a4bd44df09e9e9b3a8c50f9a2.vega-embed details summary {\n",
       "    position: relative;\n",
       "  }\n",
       "</style>\n",
       "<div id=\"altair-viz-1a86993a4bd44df09e9e9b3a8c50f9a2\"></div>\n",
       "<script type=\"text/javascript\">\n",
       "  var VEGA_DEBUG = (typeof VEGA_DEBUG == \"undefined\") ? {} : VEGA_DEBUG;\n",
       "  (function(spec, embedOpt){\n",
       "    let outputDiv = document.currentScript.previousElementSibling;\n",
       "    if (outputDiv.id !== \"altair-viz-1a86993a4bd44df09e9e9b3a8c50f9a2\") {\n",
       "      outputDiv = document.getElementById(\"altair-viz-1a86993a4bd44df09e9e9b3a8c50f9a2\");\n",
       "    }\n",
       "    const paths = {\n",
       "      \"vega\": \"https://cdn.jsdelivr.net/npm/vega@5?noext\",\n",
       "      \"vega-lib\": \"https://cdn.jsdelivr.net/npm/vega-lib?noext\",\n",
       "      \"vega-lite\": \"https://cdn.jsdelivr.net/npm/vega-lite@5.16.3?noext\",\n",
       "      \"vega-embed\": \"https://cdn.jsdelivr.net/npm/vega-embed@6?noext\",\n",
       "    };\n",
       "\n",
       "    function maybeLoadScript(lib, version) {\n",
       "      var key = `${lib.replace(\"-\", \"\")}_version`;\n",
       "      return (VEGA_DEBUG[key] == version) ?\n",
       "        Promise.resolve(paths[lib]) :\n",
       "        new Promise(function(resolve, reject) {\n",
       "          var s = document.createElement('script');\n",
       "          document.getElementsByTagName(\"head\")[0].appendChild(s);\n",
       "          s.async = true;\n",
       "          s.onload = () => {\n",
       "            VEGA_DEBUG[key] = version;\n",
       "            return resolve(paths[lib]);\n",
       "          };\n",
       "          s.onerror = () => reject(`Error loading script: ${paths[lib]}`);\n",
       "          s.src = paths[lib];\n",
       "        });\n",
       "    }\n",
       "\n",
       "    function showError(err) {\n",
       "      outputDiv.innerHTML = `<div class=\"error\" style=\"color:red;\">${err}</div>`;\n",
       "      throw err;\n",
       "    }\n",
       "\n",
       "    function displayChart(vegaEmbed) {\n",
       "      vegaEmbed(outputDiv, spec, embedOpt)\n",
       "        .catch(err => showError(`Javascript Error: ${err.message}<br>This usually means there's a typo in your chart specification. See the javascript console for the full traceback.`));\n",
       "    }\n",
       "\n",
       "    if(typeof define === \"function\" && define.amd) {\n",
       "      requirejs.config({paths});\n",
       "      require([\"vega-embed\"], displayChart, err => showError(`Error loading script: ${err.message}`));\n",
       "    } else {\n",
       "      maybeLoadScript(\"vega\", \"5\")\n",
       "        .then(() => maybeLoadScript(\"vega-lite\", \"5.16.3\"))\n",
       "        .then(() => maybeLoadScript(\"vega-embed\", \"6\"))\n",
       "        .catch(showError)\n",
       "        .then(() => displayChart(vegaEmbed));\n",
       "    }\n",
       "  })({\"config\": {\"view\": {\"continuousWidth\": 300, \"continuousHeight\": 300}}, \"layer\": [{\"mark\": {\"type\": \"line\", \"color\": \"green\", \"opacity\": 0.5}, \"encoding\": {\"x\": {\"field\": \"date\", \"type\": \"temporal\"}, \"y\": {\"axis\": {\"format\": \"$.2f\", \"title\": \"Price\"}, \"field\": \"position\", \"scale\": {\"clamp\": true, \"domain\": [966.059998, 1411.170044]}, \"type\": \"quantitative\"}}, \"name\": \"view_3\"}, {\"mark\": {\"type\": \"point\", \"filled\": true}, \"encoding\": {\"color\": {\"field\": \"action\", \"type\": \"nominal\"}, \"x\": {\"axis\": {\"title\": \"Date\"}, \"field\": \"date\", \"type\": \"temporal\"}, \"y\": {\"axis\": {\"format\": \"$.2f\", \"title\": \"Price\"}, \"field\": \"position\", \"scale\": {\"clamp\": true, \"domain\": [966.059998, 1411.170044]}, \"type\": \"quantitative\"}}, \"name\": \"view_4\", \"transform\": [{\"filter\": \"(datum.action !== 'HOLD')\"}]}], \"data\": {\"name\": \"data-f14de7887c2264e4cdd393252c6b9561\"}, \"height\": 300, \"params\": [{\"name\": \"param_3\", \"select\": {\"type\": \"interval\", \"encodings\": [\"x\"]}, \"bind\": \"scales\", \"views\": [\"view_3\"]}, {\"name\": \"param_4\", \"select\": {\"type\": \"interval\", \"encodings\": [\"x\"]}, \"bind\": \"scales\", \"views\": [\"view_4\"]}], \"title\": \"data/GOOG_2019.csv\", \"width\": 1000, \"$schema\": \"https://vega.github.io/schema/vega-lite/v5.16.3.json\", \"datasets\": {\"data-f14de7887c2264e4cdd393252c6b9561\": [{\"date\": \"2019-01-02T00:00:00\", \"actual\": 1045.849976, \"position\": 1045.849976, \"action\": \"HOLD\"}, {\"date\": \"2019-01-03T00:00:00\", \"actual\": 1016.059998, \"position\": 1045.849976, \"action\": \"BUY\"}, {\"date\": \"2019-01-04T00:00:00\", \"actual\": 1070.709961, \"position\": 1016.059998, \"action\": \"BUY\"}, {\"date\": \"2019-01-07T00:00:00\", \"actual\": 1068.390015, \"position\": 1070.709961, \"action\": \"SELL\"}, {\"date\": \"2019-01-08T00:00:00\", \"actual\": 1076.280029, \"position\": 1068.390015, \"action\": \"BUY\"}, {\"date\": \"2019-01-09T00:00:00\", \"actual\": 1074.660034, \"position\": 1076.280029, \"action\": \"SELL\"}, {\"date\": \"2019-01-10T00:00:00\", \"actual\": 1070.329956, \"position\": 1074.660034, \"action\": \"SELL\"}, {\"date\": \"2019-01-11T00:00:00\", \"actual\": 1057.189941, \"position\": 1070.329956, \"action\": \"HOLD\"}, {\"date\": \"2019-01-14T00:00:00\", \"actual\": 1044.689941, \"position\": 1057.189941, \"action\": \"BUY\"}, {\"date\": \"2019-01-15T00:00:00\", \"actual\": 1077.150024, \"position\": 1044.689941, \"action\": \"BUY\"}, {\"date\": \"2019-01-16T00:00:00\", \"actual\": 1080.969971, \"position\": 1077.150024, \"action\": \"BUY\"}, {\"date\": \"2019-01-17T00:00:00\", \"actual\": 1089.900024, \"position\": 1080.969971, \"action\": \"SELL\"}, {\"date\": \"2019-01-18T00:00:00\", \"actual\": 1098.26001, \"position\": 1089.900024, \"action\": \"BUY\"}, {\"date\": \"2019-01-22T00:00:00\", \"actual\": 1070.52002, \"position\": 1098.26001, \"action\": \"SELL\"}, {\"date\": \"2019-01-23T00:00:00\", \"actual\": 1075.569946, \"position\": 1070.52002, \"action\": \"BUY\"}, {\"date\": \"2019-01-24T00:00:00\", \"actual\": 1073.900024, \"position\": 1075.569946, \"action\": \"BUY\"}, {\"date\": \"2019-01-25T00:00:00\", \"actual\": 1090.98999, \"position\": 1073.900024, \"action\": \"BUY\"}, {\"date\": \"2019-01-28T00:00:00\", \"actual\": 1070.079956, \"position\": 1090.98999, \"action\": \"SELL\"}, {\"date\": \"2019-01-29T00:00:00\", \"actual\": 1060.619995, \"position\": 1070.079956, \"action\": \"SELL\"}, {\"date\": \"2019-01-30T00:00:00\", \"actual\": 1089.060059, \"position\": 1060.619995, \"action\": \"SELL\"}, {\"date\": \"2019-01-31T00:00:00\", \"actual\": 1116.369995, \"position\": 1089.060059, \"action\": \"SELL\"}, {\"date\": \"2019-02-01T00:00:00\", \"actual\": 1110.75, \"position\": 1116.369995, \"action\": \"SELL\"}, {\"date\": \"2019-02-04T00:00:00\", \"actual\": 1132.800049, \"position\": 1110.75, \"action\": \"BUY\"}, {\"date\": \"2019-02-05T00:00:00\", \"actual\": 1145.98999, \"position\": 1132.800049, \"action\": \"SELL\"}, {\"date\": \"2019-02-06T00:00:00\", \"actual\": 1115.22998, \"position\": 1145.98999, \"action\": \"HOLD\"}, {\"date\": \"2019-02-07T00:00:00\", \"actual\": 1098.709961, \"position\": 1115.22998, \"action\": \"BUY\"}, {\"date\": \"2019-02-08T00:00:00\", \"actual\": 1095.060059, \"position\": 1098.709961, \"action\": \"SELL\"}, {\"date\": \"2019-02-11T00:00:00\", \"actual\": 1095.01001, \"position\": 1095.060059, \"action\": \"HOLD\"}, {\"date\": \"2019-02-12T00:00:00\", \"actual\": 1121.369995, \"position\": 1095.01001, \"action\": \"BUY\"}, {\"date\": \"2019-02-13T00:00:00\", \"actual\": 1120.160034, \"position\": 1121.369995, \"action\": \"BUY\"}, {\"date\": \"2019-02-14T00:00:00\", \"actual\": 1121.670044, \"position\": 1120.160034, \"action\": \"BUY\"}, {\"date\": \"2019-02-15T00:00:00\", \"actual\": 1113.650024, \"position\": 1121.670044, \"action\": \"BUY\"}, {\"date\": \"2019-02-19T00:00:00\", \"actual\": 1118.560059, \"position\": 1113.650024, \"action\": \"BUY\"}, {\"date\": \"2019-02-20T00:00:00\", \"actual\": 1113.800049, \"position\": 1118.560059, \"action\": \"SELL\"}, {\"date\": \"2019-02-21T00:00:00\", \"actual\": 1096.969971, \"position\": 1113.800049, \"action\": \"BUY\"}, {\"date\": \"2019-02-22T00:00:00\", \"actual\": 1110.369995, \"position\": 1096.969971, \"action\": \"BUY\"}, {\"date\": \"2019-02-25T00:00:00\", \"actual\": 1109.400024, \"position\": 1110.369995, \"action\": \"BUY\"}, {\"date\": \"2019-02-26T00:00:00\", \"actual\": 1115.130005, \"position\": 1109.400024, \"action\": \"SELL\"}, {\"date\": \"2019-02-27T00:00:00\", \"actual\": 1116.050049, \"position\": 1115.130005, \"action\": \"SELL\"}, {\"date\": \"2019-02-28T00:00:00\", \"actual\": 1119.920044, \"position\": 1116.050049, \"action\": \"SELL\"}, {\"date\": \"2019-03-01T00:00:00\", \"actual\": 1140.98999, \"position\": 1119.920044, \"action\": \"SELL\"}, {\"date\": \"2019-03-04T00:00:00\", \"actual\": 1147.800049, \"position\": 1140.98999, \"action\": \"SELL\"}, {\"date\": \"2019-03-05T00:00:00\", \"actual\": 1162.030029, \"position\": 1147.800049, \"action\": \"SELL\"}, {\"date\": \"2019-03-06T00:00:00\", \"actual\": 1157.859985, \"position\": 1162.030029, \"action\": \"BUY\"}, {\"date\": \"2019-03-07T00:00:00\", \"actual\": 1143.300049, \"position\": 1157.859985, \"action\": \"SELL\"}, {\"date\": \"2019-03-08T00:00:00\", \"actual\": 1142.319946, \"position\": 1143.300049, \"action\": \"SELL\"}, {\"date\": \"2019-03-11T00:00:00\", \"actual\": 1175.76001, \"position\": 1142.319946, \"action\": \"HOLD\"}, {\"date\": \"2019-03-12T00:00:00\", \"actual\": 1193.199951, \"position\": 1175.76001, \"action\": \"HOLD\"}, {\"date\": \"2019-03-13T00:00:00\", \"actual\": 1193.319946, \"position\": 1193.199951, \"action\": \"HOLD\"}, {\"date\": \"2019-03-14T00:00:00\", \"actual\": 1185.550049, \"position\": 1193.319946, \"action\": \"HOLD\"}, {\"date\": \"2019-03-15T00:00:00\", \"actual\": 1184.459961, \"position\": 1185.550049, \"action\": \"BUY\"}, {\"date\": \"2019-03-18T00:00:00\", \"actual\": 1184.26001, \"position\": 1184.459961, \"action\": \"SELL\"}, {\"date\": \"2019-03-19T00:00:00\", \"actual\": 1198.849976, \"position\": 1184.26001, \"action\": \"HOLD\"}, {\"date\": \"2019-03-20T00:00:00\", \"actual\": 1223.969971, \"position\": 1198.849976, \"action\": \"HOLD\"}, {\"date\": \"2019-03-21T00:00:00\", \"actual\": 1231.540039, \"position\": 1223.969971, \"action\": \"BUY\"}, {\"date\": \"2019-03-22T00:00:00\", \"actual\": 1205.5, \"position\": 1231.540039, \"action\": \"SELL\"}, {\"date\": \"2019-03-25T00:00:00\", \"actual\": 1193.0, \"position\": 1205.5, \"action\": \"HOLD\"}, {\"date\": \"2019-03-26T00:00:00\", \"actual\": 1184.619995, \"position\": 1193.0, \"action\": \"HOLD\"}, {\"date\": \"2019-03-27T00:00:00\", \"actual\": 1173.02002, \"position\": 1184.619995, \"action\": \"HOLD\"}, {\"date\": \"2019-03-28T00:00:00\", \"actual\": 1168.48999, \"position\": 1173.02002, \"action\": \"BUY\"}, {\"date\": \"2019-03-29T00:00:00\", \"actual\": 1173.310059, \"position\": 1168.48999, \"action\": \"BUY\"}, {\"date\": \"2019-04-01T00:00:00\", \"actual\": 1194.430054, \"position\": 1173.310059, \"action\": \"BUY\"}, {\"date\": \"2019-04-02T00:00:00\", \"actual\": 1200.48999, \"position\": 1194.430054, \"action\": \"BUY\"}, {\"date\": \"2019-04-03T00:00:00\", \"actual\": 1205.920044, \"position\": 1200.48999, \"action\": \"BUY\"}, {\"date\": \"2019-04-04T00:00:00\", \"actual\": 1215.0, \"position\": 1205.920044, \"action\": \"SELL\"}, {\"date\": \"2019-04-05T00:00:00\", \"actual\": 1207.150024, \"position\": 1215.0, \"action\": \"SELL\"}, {\"date\": \"2019-04-08T00:00:00\", \"actual\": 1203.839966, \"position\": 1207.150024, \"action\": \"BUY\"}, {\"date\": \"2019-04-09T00:00:00\", \"actual\": 1197.25, \"position\": 1203.839966, \"action\": \"BUY\"}, {\"date\": \"2019-04-10T00:00:00\", \"actual\": 1202.160034, \"position\": 1197.25, \"action\": \"BUY\"}, {\"date\": \"2019-04-11T00:00:00\", \"actual\": 1204.619995, \"position\": 1202.160034, \"action\": \"SELL\"}, {\"date\": \"2019-04-12T00:00:00\", \"actual\": 1217.869995, \"position\": 1204.619995, \"action\": \"HOLD\"}, {\"date\": \"2019-04-15T00:00:00\", \"actual\": 1221.099976, \"position\": 1217.869995, \"action\": \"BUY\"}, {\"date\": \"2019-04-16T00:00:00\", \"actual\": 1227.130005, \"position\": 1221.099976, \"action\": \"SELL\"}, {\"date\": \"2019-04-17T00:00:00\", \"actual\": 1236.339966, \"position\": 1227.130005, \"action\": \"SELL\"}, {\"date\": \"2019-04-18T00:00:00\", \"actual\": 1236.369995, \"position\": 1236.339966, \"action\": \"SELL\"}, {\"date\": \"2019-04-22T00:00:00\", \"actual\": 1248.839966, \"position\": 1236.369995, \"action\": \"SELL\"}, {\"date\": \"2019-04-23T00:00:00\", \"actual\": 1264.550049, \"position\": 1248.839966, \"action\": \"SELL\"}, {\"date\": \"2019-04-24T00:00:00\", \"actual\": 1256.0, \"position\": 1264.550049, \"action\": \"SELL\"}, {\"date\": \"2019-04-25T00:00:00\", \"actual\": 1263.449951, \"position\": 1256.0, \"action\": \"HOLD\"}, {\"date\": \"2019-04-26T00:00:00\", \"actual\": 1272.180054, \"position\": 1263.449951, \"action\": \"HOLD\"}, {\"date\": \"2019-04-29T00:00:00\", \"actual\": 1287.579956, \"position\": 1272.180054, \"action\": \"HOLD\"}, {\"date\": \"2019-04-30T00:00:00\", \"actual\": 1188.47998, \"position\": 1287.579956, \"action\": \"HOLD\"}, {\"date\": \"2019-05-01T00:00:00\", \"actual\": 1168.079956, \"position\": 1188.47998, \"action\": \"BUY\"}, {\"date\": \"2019-05-02T00:00:00\", \"actual\": 1162.609985, \"position\": 1168.079956, \"action\": \"BUY\"}, {\"date\": \"2019-05-03T00:00:00\", \"actual\": 1185.400024, \"position\": 1162.609985, \"action\": \"BUY\"}, {\"date\": \"2019-05-06T00:00:00\", \"actual\": 1189.390015, \"position\": 1185.400024, \"action\": \"SELL\"}, {\"date\": \"2019-05-07T00:00:00\", \"actual\": 1174.099976, \"position\": 1189.390015, \"action\": \"SELL\"}, {\"date\": \"2019-05-08T00:00:00\", \"actual\": 1166.27002, \"position\": 1174.099976, \"action\": \"BUY\"}, {\"date\": \"2019-05-09T00:00:00\", \"actual\": 1162.380005, \"position\": 1166.27002, \"action\": \"BUY\"}, {\"date\": \"2019-05-10T00:00:00\", \"actual\": 1164.27002, \"position\": 1162.380005, \"action\": \"BUY\"}, {\"date\": \"2019-05-13T00:00:00\", \"actual\": 1132.030029, \"position\": 1164.27002, \"action\": \"BUY\"}, {\"date\": \"2019-05-14T00:00:00\", \"actual\": 1120.439941, \"position\": 1132.030029, \"action\": \"BUY\"}, {\"date\": \"2019-05-15T00:00:00\", \"actual\": 1164.209961, \"position\": 1120.439941, \"action\": \"BUY\"}, {\"date\": \"2019-05-16T00:00:00\", \"actual\": 1178.97998, \"position\": 1164.209961, \"action\": \"BUY\"}, {\"date\": \"2019-05-17T00:00:00\", \"actual\": 1162.300049, \"position\": 1178.97998, \"action\": \"BUY\"}, {\"date\": \"2019-05-20T00:00:00\", \"actual\": 1138.849976, \"position\": 1162.300049, \"action\": \"BUY\"}, {\"date\": \"2019-05-21T00:00:00\", \"actual\": 1149.630005, \"position\": 1138.849976, \"action\": \"BUY\"}, {\"date\": \"2019-05-22T00:00:00\", \"actual\": 1151.420044, \"position\": 1149.630005, \"action\": \"BUY\"}, {\"date\": \"2019-05-23T00:00:00\", \"actual\": 1140.77002, \"position\": 1151.420044, \"action\": \"BUY\"}, {\"date\": \"2019-05-24T00:00:00\", \"actual\": 1133.469971, \"position\": 1140.77002, \"action\": \"BUY\"}, {\"date\": \"2019-05-28T00:00:00\", \"actual\": 1134.150024, \"position\": 1133.469971, \"action\": \"BUY\"}, {\"date\": \"2019-05-29T00:00:00\", \"actual\": 1116.459961, \"position\": 1134.150024, \"action\": \"BUY\"}, {\"date\": \"2019-05-30T00:00:00\", \"actual\": 1117.949951, \"position\": 1116.459961, \"action\": \"BUY\"}, {\"date\": \"2019-05-31T00:00:00\", \"actual\": 1103.630005, \"position\": 1117.949951, \"action\": \"BUY\"}, {\"date\": \"2019-06-03T00:00:00\", \"actual\": 1036.22998, \"position\": 1103.630005, \"action\": \"BUY\"}, {\"date\": \"2019-06-04T00:00:00\", \"actual\": 1053.050049, \"position\": 1036.22998, \"action\": \"BUY\"}, {\"date\": \"2019-06-05T00:00:00\", \"actual\": 1042.219971, \"position\": 1053.050049, \"action\": \"BUY\"}, {\"date\": \"2019-06-06T00:00:00\", \"actual\": 1044.339966, \"position\": 1042.219971, \"action\": \"BUY\"}, {\"date\": \"2019-06-07T00:00:00\", \"actual\": 1066.040039, \"position\": 1044.339966, \"action\": \"BUY\"}, {\"date\": \"2019-06-10T00:00:00\", \"actual\": 1080.380005, \"position\": 1066.040039, \"action\": \"BUY\"}, {\"date\": \"2019-06-11T00:00:00\", \"actual\": 1078.719971, \"position\": 1080.380005, \"action\": \"SELL\"}, {\"date\": \"2019-06-12T00:00:00\", \"actual\": 1077.030029, \"position\": 1078.719971, \"action\": \"BUY\"}, {\"date\": \"2019-06-13T00:00:00\", \"actual\": 1088.77002, \"position\": 1077.030029, \"action\": \"BUY\"}, {\"date\": \"2019-06-14T00:00:00\", \"actual\": 1085.349976, \"position\": 1088.77002, \"action\": \"BUY\"}, {\"date\": \"2019-06-17T00:00:00\", \"actual\": 1092.5, \"position\": 1085.349976, \"action\": \"BUY\"}, {\"date\": \"2019-06-18T00:00:00\", \"actual\": 1103.599976, \"position\": 1092.5, \"action\": \"SELL\"}, {\"date\": \"2019-06-19T00:00:00\", \"actual\": 1102.329956, \"position\": 1103.599976, \"action\": \"SELL\"}, {\"date\": \"2019-06-20T00:00:00\", \"actual\": 1111.420044, \"position\": 1102.329956, \"action\": \"BUY\"}, {\"date\": \"2019-06-21T00:00:00\", \"actual\": 1121.880005, \"position\": 1111.420044, \"action\": \"BUY\"}, {\"date\": \"2019-06-24T00:00:00\", \"actual\": 1115.52002, \"position\": 1121.880005, \"action\": \"BUY\"}, {\"date\": \"2019-06-25T00:00:00\", \"actual\": 1086.349976, \"position\": 1115.52002, \"action\": \"HOLD\"}, {\"date\": \"2019-06-26T00:00:00\", \"actual\": 1079.800049, \"position\": 1086.349976, \"action\": \"BUY\"}, {\"date\": \"2019-06-27T00:00:00\", \"actual\": 1076.01001, \"position\": 1079.800049, \"action\": \"BUY\"}, {\"date\": \"2019-06-28T00:00:00\", \"actual\": 1080.910034, \"position\": 1076.01001, \"action\": \"BUY\"}, {\"date\": \"2019-07-01T00:00:00\", \"actual\": 1097.949951, \"position\": 1080.910034, \"action\": \"SELL\"}, {\"date\": \"2019-07-02T00:00:00\", \"actual\": 1111.25, \"position\": 1097.949951, \"action\": \"BUY\"}, {\"date\": \"2019-07-03T00:00:00\", \"actual\": 1121.579956, \"position\": 1111.25, \"action\": \"BUY\"}, {\"date\": \"2019-07-05T00:00:00\", \"actual\": 1131.589966, \"position\": 1121.579956, \"action\": \"SELL\"}, {\"date\": \"2019-07-08T00:00:00\", \"actual\": 1116.349976, \"position\": 1131.589966, \"action\": \"SELL\"}, {\"date\": \"2019-07-09T00:00:00\", \"actual\": 1124.829956, \"position\": 1116.349976, \"action\": \"BUY\"}, {\"date\": \"2019-07-10T00:00:00\", \"actual\": 1140.47998, \"position\": 1124.829956, \"action\": \"SELL\"}, {\"date\": \"2019-07-11T00:00:00\", \"actual\": 1144.209961, \"position\": 1140.47998, \"action\": \"SELL\"}, {\"date\": \"2019-07-12T00:00:00\", \"actual\": 1144.900024, \"position\": 1144.209961, \"action\": \"SELL\"}, {\"date\": \"2019-07-15T00:00:00\", \"actual\": 1150.339966, \"position\": 1144.900024, \"action\": \"SELL\"}, {\"date\": \"2019-07-16T00:00:00\", \"actual\": 1153.579956, \"position\": 1150.339966, \"action\": \"SELL\"}, {\"date\": \"2019-07-17T00:00:00\", \"actual\": 1146.349976, \"position\": 1153.579956, \"action\": \"SELL\"}, {\"date\": \"2019-07-18T00:00:00\", \"actual\": 1146.329956, \"position\": 1146.349976, \"action\": \"SELL\"}, {\"date\": \"2019-07-19T00:00:00\", \"actual\": 1130.099976, \"position\": 1146.329956, \"action\": \"BUY\"}, {\"date\": \"2019-07-22T00:00:00\", \"actual\": 1138.069946, \"position\": 1130.099976, \"action\": \"SELL\"}, {\"date\": \"2019-07-23T00:00:00\", \"actual\": 1146.209961, \"position\": 1138.069946, \"action\": \"SELL\"}, {\"date\": \"2019-07-24T00:00:00\", \"actual\": 1137.810059, \"position\": 1146.209961, \"action\": \"SELL\"}, {\"date\": \"2019-07-25T00:00:00\", \"actual\": 1132.119995, \"position\": 1137.810059, \"action\": \"SELL\"}, {\"date\": \"2019-07-26T00:00:00\", \"actual\": 1250.410034, \"position\": 1132.119995, \"action\": \"BUY\"}, {\"date\": \"2019-07-29T00:00:00\", \"actual\": 1239.410034, \"position\": 1250.410034, \"action\": \"SELL\"}, {\"date\": \"2019-07-30T00:00:00\", \"actual\": 1225.140015, \"position\": 1239.410034, \"action\": \"SELL\"}, {\"date\": \"2019-07-31T00:00:00\", \"actual\": 1216.680054, \"position\": 1225.140015, \"action\": \"BUY\"}, {\"date\": \"2019-08-01T00:00:00\", \"actual\": 1209.01001, \"position\": 1216.680054, \"action\": \"BUY\"}, {\"date\": \"2019-08-02T00:00:00\", \"actual\": 1193.98999, \"position\": 1209.01001, \"action\": \"BUY\"}, {\"date\": \"2019-08-05T00:00:00\", \"actual\": 1152.319946, \"position\": 1193.98999, \"action\": \"BUY\"}, {\"date\": \"2019-08-06T00:00:00\", \"actual\": 1169.949951, \"position\": 1152.319946, \"action\": \"BUY\"}, {\"date\": \"2019-08-07T00:00:00\", \"actual\": 1173.98999, \"position\": 1169.949951, \"action\": \"BUY\"}, {\"date\": \"2019-08-08T00:00:00\", \"actual\": 1204.800049, \"position\": 1173.98999, \"action\": \"BUY\"}, {\"date\": \"2019-08-09T00:00:00\", \"actual\": 1188.01001, \"position\": 1204.800049, \"action\": \"BUY\"}, {\"date\": \"2019-08-12T00:00:00\", \"actual\": 1174.709961, \"position\": 1188.01001, \"action\": \"BUY\"}, {\"date\": \"2019-08-13T00:00:00\", \"actual\": 1197.27002, \"position\": 1174.709961, \"action\": \"HOLD\"}, {\"date\": \"2019-08-14T00:00:00\", \"actual\": 1164.290039, \"position\": 1197.27002, \"action\": \"BUY\"}, {\"date\": \"2019-08-15T00:00:00\", \"actual\": 1167.26001, \"position\": 1164.290039, \"action\": \"BUY\"}, {\"date\": \"2019-08-16T00:00:00\", \"actual\": 1177.599976, \"position\": 1167.26001, \"action\": \"SELL\"}, {\"date\": \"2019-08-19T00:00:00\", \"actual\": 1198.449951, \"position\": 1177.599976, \"action\": \"SELL\"}, {\"date\": \"2019-08-20T00:00:00\", \"actual\": 1182.689941, \"position\": 1198.449951, \"action\": \"SELL\"}, {\"date\": \"2019-08-21T00:00:00\", \"actual\": 1191.25, \"position\": 1182.689941, \"action\": \"BUY\"}, {\"date\": \"2019-08-22T00:00:00\", \"actual\": 1189.530029, \"position\": 1191.25, \"action\": \"BUY\"}, {\"date\": \"2019-08-23T00:00:00\", \"actual\": 1151.290039, \"position\": 1189.530029, \"action\": \"BUY\"}, {\"date\": \"2019-08-26T00:00:00\", \"actual\": 1168.890015, \"position\": 1151.290039, \"action\": \"BUY\"}, {\"date\": \"2019-08-27T00:00:00\", \"actual\": 1167.839966, \"position\": 1168.890015, \"action\": \"SELL\"}, {\"date\": \"2019-08-28T00:00:00\", \"actual\": 1171.02002, \"position\": 1167.839966, \"action\": \"BUY\"}, {\"date\": \"2019-08-29T00:00:00\", \"actual\": 1192.849976, \"position\": 1171.02002, \"action\": \"SELL\"}, {\"date\": \"2019-08-30T00:00:00\", \"actual\": 1188.099976, \"position\": 1192.849976, \"action\": \"SELL\"}, {\"date\": \"2019-09-03T00:00:00\", \"actual\": 1168.390015, \"position\": 1188.099976, \"action\": \"SELL\"}, {\"date\": \"2019-09-04T00:00:00\", \"actual\": 1181.410034, \"position\": 1168.390015, \"action\": \"BUY\"}, {\"date\": \"2019-09-05T00:00:00\", \"actual\": 1211.380005, \"position\": 1181.410034, \"action\": \"SELL\"}, {\"date\": \"2019-09-06T00:00:00\", \"actual\": 1204.930054, \"position\": 1211.380005, \"action\": \"SELL\"}, {\"date\": \"2019-09-09T00:00:00\", \"actual\": 1204.410034, \"position\": 1204.930054, \"action\": \"SELL\"}, {\"date\": \"2019-09-10T00:00:00\", \"actual\": 1206.0, \"position\": 1204.410034, \"action\": \"BUY\"}, {\"date\": \"2019-09-11T00:00:00\", \"actual\": 1220.170044, \"position\": 1206.0, \"action\": \"SELL\"}, {\"date\": \"2019-09-12T00:00:00\", \"actual\": 1234.25, \"position\": 1220.170044, \"action\": \"BUY\"}, {\"date\": \"2019-09-13T00:00:00\", \"actual\": 1239.560059, \"position\": 1234.25, \"action\": \"SELL\"}, {\"date\": \"2019-09-16T00:00:00\", \"actual\": 1231.300049, \"position\": 1239.560059, \"action\": \"SELL\"}, {\"date\": \"2019-09-17T00:00:00\", \"actual\": 1229.150024, \"position\": 1231.300049, \"action\": \"SELL\"}, {\"date\": \"2019-09-18T00:00:00\", \"actual\": 1232.410034, \"position\": 1229.150024, \"action\": \"SELL\"}, {\"date\": \"2019-09-19T00:00:00\", \"actual\": 1238.709961, \"position\": 1232.410034, \"action\": \"SELL\"}, {\"date\": \"2019-09-20T00:00:00\", \"actual\": 1229.930054, \"position\": 1238.709961, \"action\": \"SELL\"}, {\"date\": \"2019-09-23T00:00:00\", \"actual\": 1234.030029, \"position\": 1229.930054, \"action\": \"SELL\"}, {\"date\": \"2019-09-24T00:00:00\", \"actual\": 1218.76001, \"position\": 1234.030029, \"action\": \"SELL\"}, {\"date\": \"2019-09-25T00:00:00\", \"actual\": 1246.52002, \"position\": 1218.76001, \"action\": \"SELL\"}, {\"date\": \"2019-09-26T00:00:00\", \"actual\": 1241.390015, \"position\": 1246.52002, \"action\": \"SELL\"}, {\"date\": \"2019-09-27T00:00:00\", \"actual\": 1225.089966, \"position\": 1241.390015, \"action\": \"SELL\"}, {\"date\": \"2019-09-30T00:00:00\", \"actual\": 1219.0, \"position\": 1225.089966, \"action\": \"BUY\"}, {\"date\": \"2019-10-01T00:00:00\", \"actual\": 1205.099976, \"position\": 1219.0, \"action\": \"BUY\"}, {\"date\": \"2019-10-02T00:00:00\", \"actual\": 1176.630005, \"position\": 1205.099976, \"action\": \"BUY\"}, {\"date\": \"2019-10-03T00:00:00\", \"actual\": 1187.829956, \"position\": 1176.630005, \"action\": \"BUY\"}, {\"date\": \"2019-10-04T00:00:00\", \"actual\": 1209.0, \"position\": 1187.829956, \"action\": \"BUY\"}, {\"date\": \"2019-10-07T00:00:00\", \"actual\": 1207.680054, \"position\": 1209.0, \"action\": \"BUY\"}, {\"date\": \"2019-10-08T00:00:00\", \"actual\": 1189.130005, \"position\": 1207.680054, \"action\": \"BUY\"}, {\"date\": \"2019-10-09T00:00:00\", \"actual\": 1202.310059, \"position\": 1189.130005, \"action\": \"BUY\"}, {\"date\": \"2019-10-10T00:00:00\", \"actual\": 1208.670044, \"position\": 1202.310059, \"action\": \"BUY\"}, {\"date\": \"2019-10-11T00:00:00\", \"actual\": 1215.449951, \"position\": 1208.670044, \"action\": \"BUY\"}, {\"date\": \"2019-10-14T00:00:00\", \"actual\": 1217.140015, \"position\": 1215.449951, \"action\": \"SELL\"}, {\"date\": \"2019-10-15T00:00:00\", \"actual\": 1243.01001, \"position\": 1217.140015, \"action\": \"SELL\"}, {\"date\": \"2019-10-16T00:00:00\", \"actual\": 1243.640015, \"position\": 1243.01001, \"action\": \"SELL\"}, {\"date\": \"2019-10-17T00:00:00\", \"actual\": 1253.069946, \"position\": 1243.640015, \"action\": \"SELL\"}, {\"date\": \"2019-10-18T00:00:00\", \"actual\": 1245.48999, \"position\": 1253.069946, \"action\": \"SELL\"}, {\"date\": \"2019-10-21T00:00:00\", \"actual\": 1246.150024, \"position\": 1245.48999, \"action\": \"SELL\"}, {\"date\": \"2019-10-22T00:00:00\", \"actual\": 1242.800049, \"position\": 1246.150024, \"action\": \"SELL\"}, {\"date\": \"2019-10-23T00:00:00\", \"actual\": 1259.130005, \"position\": 1242.800049, \"action\": \"SELL\"}, {\"date\": \"2019-10-24T00:00:00\", \"actual\": 1260.98999, \"position\": 1259.130005, \"action\": \"SELL\"}, {\"date\": \"2019-10-25T00:00:00\", \"actual\": 1265.130005, \"position\": 1260.98999, \"action\": \"SELL\"}, {\"date\": \"2019-10-28T00:00:00\", \"actual\": 1290.0, \"position\": 1265.130005, \"action\": \"SELL\"}, {\"date\": \"2019-10-29T00:00:00\", \"actual\": 1262.619995, \"position\": 1290.0, \"action\": \"BUY\"}, {\"date\": \"2019-10-30T00:00:00\", \"actual\": 1261.290039, \"position\": 1262.619995, \"action\": \"SELL\"}, {\"date\": \"2019-10-31T00:00:00\", \"actual\": 1260.109985, \"position\": 1261.290039, \"action\": \"BUY\"}, {\"date\": \"2019-11-01T00:00:00\", \"actual\": 1273.73999, \"position\": 1260.109985, \"action\": \"SELL\"}, {\"date\": \"2019-11-04T00:00:00\", \"actual\": 1291.369995, \"position\": 1273.73999, \"action\": \"SELL\"}, {\"date\": \"2019-11-05T00:00:00\", \"actual\": 1292.030029, \"position\": 1291.369995, \"action\": \"SELL\"}, {\"date\": \"2019-11-06T00:00:00\", \"actual\": 1291.800049, \"position\": 1292.030029, \"action\": \"SELL\"}, {\"date\": \"2019-11-07T00:00:00\", \"actual\": 1308.859985, \"position\": 1291.800049, \"action\": \"BUY\"}, {\"date\": \"2019-11-08T00:00:00\", \"actual\": 1311.369995, \"position\": 1308.859985, \"action\": \"SELL\"}, {\"date\": \"2019-11-11T00:00:00\", \"actual\": 1299.189941, \"position\": 1311.369995, \"action\": \"SELL\"}, {\"date\": \"2019-11-12T00:00:00\", \"actual\": 1298.800049, \"position\": 1299.189941, \"action\": \"SELL\"}, {\"date\": \"2019-11-13T00:00:00\", \"actual\": 1298.0, \"position\": 1298.800049, \"action\": \"SELL\"}, {\"date\": \"2019-11-14T00:00:00\", \"actual\": 1311.459961, \"position\": 1298.0, \"action\": \"BUY\"}, {\"date\": \"2019-11-15T00:00:00\", \"actual\": 1334.869995, \"position\": 1311.459961, \"action\": \"SELL\"}, {\"date\": \"2019-11-18T00:00:00\", \"actual\": 1320.699951, \"position\": 1334.869995, \"action\": \"SELL\"}, {\"date\": \"2019-11-19T00:00:00\", \"actual\": 1315.459961, \"position\": 1320.699951, \"action\": \"SELL\"}, {\"date\": \"2019-11-20T00:00:00\", \"actual\": 1303.050049, \"position\": 1315.459961, \"action\": \"SELL\"}, {\"date\": \"2019-11-21T00:00:00\", \"actual\": 1301.349976, \"position\": 1303.050049, \"action\": \"BUY\"}, {\"date\": \"2019-11-22T00:00:00\", \"actual\": 1295.339966, \"position\": 1301.349976, \"action\": \"BUY\"}, {\"date\": \"2019-11-25T00:00:00\", \"actual\": 1306.689941, \"position\": 1295.339966, \"action\": \"BUY\"}, {\"date\": \"2019-11-26T00:00:00\", \"actual\": 1313.550049, \"position\": 1306.689941, \"action\": \"BUY\"}, {\"date\": \"2019-11-27T00:00:00\", \"actual\": 1312.98999, \"position\": 1313.550049, \"action\": \"SELL\"}, {\"date\": \"2019-11-29T00:00:00\", \"actual\": 1304.959961, \"position\": 1312.98999, \"action\": \"SELL\"}, {\"date\": \"2019-12-02T00:00:00\", \"actual\": 1289.920044, \"position\": 1304.959961, \"action\": \"BUY\"}, {\"date\": \"2019-12-03T00:00:00\", \"actual\": 1295.280029, \"position\": 1289.920044, \"action\": \"BUY\"}, {\"date\": \"2019-12-04T00:00:00\", \"actual\": 1320.540039, \"position\": 1295.280029, \"action\": \"BUY\"}, {\"date\": \"2019-12-05T00:00:00\", \"actual\": 1328.130005, \"position\": 1320.540039, \"action\": \"SELL\"}, {\"date\": \"2019-12-06T00:00:00\", \"actual\": 1340.619995, \"position\": 1328.130005, \"action\": \"SELL\"}, {\"date\": \"2019-12-09T00:00:00\", \"actual\": 1343.560059, \"position\": 1340.619995, \"action\": \"SELL\"}, {\"date\": \"2019-12-10T00:00:00\", \"actual\": 1344.660034, \"position\": 1343.560059, \"action\": \"SELL\"}, {\"date\": \"2019-12-11T00:00:00\", \"actual\": 1345.02002, \"position\": 1344.660034, \"action\": \"SELL\"}, {\"date\": \"2019-12-12T00:00:00\", \"actual\": 1350.27002, \"position\": 1345.02002, \"action\": \"SELL\"}, {\"date\": \"2019-12-13T00:00:00\", \"actual\": 1347.829956, \"position\": 1350.27002, \"action\": \"SELL\"}, {\"date\": \"2019-12-16T00:00:00\", \"actual\": 1361.170044, \"position\": 1347.829956, \"action\": \"SELL\"}, {\"date\": \"2019-12-17T00:00:00\", \"actual\": 1355.119995, \"position\": 1361.170044, \"action\": \"SELL\"}, {\"date\": \"2019-12-18T00:00:00\", \"actual\": 1352.619995, \"position\": 1355.119995, \"action\": \"SELL\"}, {\"date\": \"2019-12-19T00:00:00\", \"actual\": 1356.040039, \"position\": 1352.619995, \"action\": \"SELL\"}, {\"date\": \"2019-12-20T00:00:00\", \"actual\": 1349.589966, \"position\": 1356.040039, \"action\": \"SELL\"}, {\"date\": \"2019-12-23T00:00:00\", \"actual\": 1348.839966, \"position\": 1349.589966, \"action\": \"HOLD\"}, {\"date\": \"2019-12-24T00:00:00\", \"actual\": 1343.560059, \"position\": 1348.839966, \"action\": \"HOLD\"}, {\"date\": \"2019-12-26T00:00:00\", \"actual\": 1360.400024, \"position\": 1343.560059, \"action\": \"BUY\"}, {\"date\": \"2019-12-27T00:00:00\", \"actual\": 1351.890015, \"position\": 1360.400024, \"action\": \"SELL\"}, {\"date\": \"2019-12-30T00:00:00\", \"actual\": 1336.140015, \"position\": 1351.890015, \"action\": \"HOLD\"}]}}, {\"mode\": \"vega-lite\"});\n",
       "</script>"
      ],
      "text/plain": [
       "alt.LayerChart(...)"
      ]
     },
     "execution_count": 36,
     "metadata": {},
     "output_type": "execute_result"
    }
   ],
   "source": [
    "chart = visualize(df, history, title=test_stock)\n",
    "chart"
   ]
  },
  {
   "cell_type": "code",
   "execution_count": null,
   "metadata": {},
   "outputs": [],
   "source": []
  }
 ],
 "metadata": {
  "kernelspec": {
   "display_name": "Python 3",
   "language": "python",
   "name": "python3"
  },
  "language_info": {
   "codemirror_mode": {
    "name": "ipython",
    "version": 3
   },
   "file_extension": ".py",
   "mimetype": "text/x-python",
   "name": "python",
   "nbconvert_exporter": "python",
   "pygments_lexer": "ipython3",
   "version": "3.11.5"
  }
 },
 "nbformat": 4,
 "nbformat_minor": 4
}
